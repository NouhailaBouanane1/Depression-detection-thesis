{
  "nbformat": 4,
  "nbformat_minor": 0,
  "metadata": {
    "colab": {
      "provenance": [],
      "gpuType": "T4"
    },
    "kernelspec": {
      "name": "python3",
      "display_name": "Python 3"
    },
    "language_info": {
      "name": "python"
    },
    "accelerator": "GPU"
  },
  "cells": [
    {
      "cell_type": "code",
      "execution_count": null,
      "metadata": {
        "colab": {
          "base_uri": "https://localhost:8080/"
        },
        "id": "ynEd1ME4KnkH",
        "outputId": "48849ed9-7b0f-4243-9613-a820f78899a6"
      },
      "outputs": [
        {
          "output_type": "stream",
          "name": "stdout",
          "text": [
            "Drive already mounted at /content/drive; to attempt to forcibly remount, call drive.mount(\"/content/drive\", force_remount=True).\n"
          ]
        }
      ],
      "source": [
        "import pandas as pd\n",
        "from google.colab import drive\n",
        "drive.mount('/content/drive')\n"
      ]
    },
    {
      "cell_type": "code",
      "source": [
        "df_labeled= pd.read_csv('/content/drive/My Drive/Master_Thesis/new_labeled_dataset.csv')\n",
        "df_labeled\n"
      ],
      "metadata": {
        "colab": {
          "base_uri": "https://localhost:8080/",
          "height": 423
        },
        "id": "fh6MTuMxK_60",
        "outputId": "bdaae220-2306-4aa3-b02f-a29a40cd7bdf"
      },
      "execution_count": null,
      "outputs": [
        {
          "output_type": "execute_result",
          "data": {
            "text/plain": [
              "                                      generated_summary  labels\n",
              "0     i understand that when someone immediately off...       2\n",
              "1     i'm here to welcome you to the r/depression ch...       1\n",
              "2     i stay up all night when i'm depressed to dela...       2\n",
              "3     i have procrastinated a lot in my life, avoidi...       2\n",
              "4     i find that sleep is my ultimate escape and so...       1\n",
              "...                                                 ...     ...\n",
              "7726                                        i see snow.       0\n",
              "7727  i watched moulin rouge and it made me cry once...       0\n",
              "7728  i am attempting to call out, but i am unable t...       0\n",
              "7729  i can't find my red sox hat, so i have to wear...       0\n",
              "7730  i slept well and then attempted swatching for ...       0\n",
              "\n",
              "[7731 rows x 2 columns]"
            ],
            "text/html": [
              "\n",
              "  <div id=\"df-c38be76f-da53-4f33-b0df-29d87032d246\" class=\"colab-df-container\">\n",
              "    <div>\n",
              "<style scoped>\n",
              "    .dataframe tbody tr th:only-of-type {\n",
              "        vertical-align: middle;\n",
              "    }\n",
              "\n",
              "    .dataframe tbody tr th {\n",
              "        vertical-align: top;\n",
              "    }\n",
              "\n",
              "    .dataframe thead th {\n",
              "        text-align: right;\n",
              "    }\n",
              "</style>\n",
              "<table border=\"1\" class=\"dataframe\">\n",
              "  <thead>\n",
              "    <tr style=\"text-align: right;\">\n",
              "      <th></th>\n",
              "      <th>generated_summary</th>\n",
              "      <th>labels</th>\n",
              "    </tr>\n",
              "  </thead>\n",
              "  <tbody>\n",
              "    <tr>\n",
              "      <th>0</th>\n",
              "      <td>i understand that when someone immediately off...</td>\n",
              "      <td>2</td>\n",
              "    </tr>\n",
              "    <tr>\n",
              "      <th>1</th>\n",
              "      <td>i'm here to welcome you to the r/depression ch...</td>\n",
              "      <td>1</td>\n",
              "    </tr>\n",
              "    <tr>\n",
              "      <th>2</th>\n",
              "      <td>i stay up all night when i'm depressed to dela...</td>\n",
              "      <td>2</td>\n",
              "    </tr>\n",
              "    <tr>\n",
              "      <th>3</th>\n",
              "      <td>i have procrastinated a lot in my life, avoidi...</td>\n",
              "      <td>2</td>\n",
              "    </tr>\n",
              "    <tr>\n",
              "      <th>4</th>\n",
              "      <td>i find that sleep is my ultimate escape and so...</td>\n",
              "      <td>1</td>\n",
              "    </tr>\n",
              "    <tr>\n",
              "      <th>...</th>\n",
              "      <td>...</td>\n",
              "      <td>...</td>\n",
              "    </tr>\n",
              "    <tr>\n",
              "      <th>7726</th>\n",
              "      <td>i see snow.</td>\n",
              "      <td>0</td>\n",
              "    </tr>\n",
              "    <tr>\n",
              "      <th>7727</th>\n",
              "      <td>i watched moulin rouge and it made me cry once...</td>\n",
              "      <td>0</td>\n",
              "    </tr>\n",
              "    <tr>\n",
              "      <th>7728</th>\n",
              "      <td>i am attempting to call out, but i am unable t...</td>\n",
              "      <td>0</td>\n",
              "    </tr>\n",
              "    <tr>\n",
              "      <th>7729</th>\n",
              "      <td>i can't find my red sox hat, so i have to wear...</td>\n",
              "      <td>0</td>\n",
              "    </tr>\n",
              "    <tr>\n",
              "      <th>7730</th>\n",
              "      <td>i slept well and then attempted swatching for ...</td>\n",
              "      <td>0</td>\n",
              "    </tr>\n",
              "  </tbody>\n",
              "</table>\n",
              "<p>7731 rows × 2 columns</p>\n",
              "</div>\n",
              "    <div class=\"colab-df-buttons\">\n",
              "\n",
              "  <div class=\"colab-df-container\">\n",
              "    <button class=\"colab-df-convert\" onclick=\"convertToInteractive('df-c38be76f-da53-4f33-b0df-29d87032d246')\"\n",
              "            title=\"Convert this dataframe to an interactive table.\"\n",
              "            style=\"display:none;\">\n",
              "\n",
              "  <svg xmlns=\"http://www.w3.org/2000/svg\" height=\"24px\" viewBox=\"0 -960 960 960\">\n",
              "    <path d=\"M120-120v-720h720v720H120Zm60-500h600v-160H180v160Zm220 220h160v-160H400v160Zm0 220h160v-160H400v160ZM180-400h160v-160H180v160Zm440 0h160v-160H620v160ZM180-180h160v-160H180v160Zm440 0h160v-160H620v160Z\"/>\n",
              "  </svg>\n",
              "    </button>\n",
              "\n",
              "  <style>\n",
              "    .colab-df-container {\n",
              "      display:flex;\n",
              "      gap: 12px;\n",
              "    }\n",
              "\n",
              "    .colab-df-convert {\n",
              "      background-color: #E8F0FE;\n",
              "      border: none;\n",
              "      border-radius: 50%;\n",
              "      cursor: pointer;\n",
              "      display: none;\n",
              "      fill: #1967D2;\n",
              "      height: 32px;\n",
              "      padding: 0 0 0 0;\n",
              "      width: 32px;\n",
              "    }\n",
              "\n",
              "    .colab-df-convert:hover {\n",
              "      background-color: #E2EBFA;\n",
              "      box-shadow: 0px 1px 2px rgba(60, 64, 67, 0.3), 0px 1px 3px 1px rgba(60, 64, 67, 0.15);\n",
              "      fill: #174EA6;\n",
              "    }\n",
              "\n",
              "    .colab-df-buttons div {\n",
              "      margin-bottom: 4px;\n",
              "    }\n",
              "\n",
              "    [theme=dark] .colab-df-convert {\n",
              "      background-color: #3B4455;\n",
              "      fill: #D2E3FC;\n",
              "    }\n",
              "\n",
              "    [theme=dark] .colab-df-convert:hover {\n",
              "      background-color: #434B5C;\n",
              "      box-shadow: 0px 1px 3px 1px rgba(0, 0, 0, 0.15);\n",
              "      filter: drop-shadow(0px 1px 2px rgba(0, 0, 0, 0.3));\n",
              "      fill: #FFFFFF;\n",
              "    }\n",
              "  </style>\n",
              "\n",
              "    <script>\n",
              "      const buttonEl =\n",
              "        document.querySelector('#df-c38be76f-da53-4f33-b0df-29d87032d246 button.colab-df-convert');\n",
              "      buttonEl.style.display =\n",
              "        google.colab.kernel.accessAllowed ? 'block' : 'none';\n",
              "\n",
              "      async function convertToInteractive(key) {\n",
              "        const element = document.querySelector('#df-c38be76f-da53-4f33-b0df-29d87032d246');\n",
              "        const dataTable =\n",
              "          await google.colab.kernel.invokeFunction('convertToInteractive',\n",
              "                                                    [key], {});\n",
              "        if (!dataTable) return;\n",
              "\n",
              "        const docLinkHtml = 'Like what you see? Visit the ' +\n",
              "          '<a target=\"_blank\" href=https://colab.research.google.com/notebooks/data_table.ipynb>data table notebook</a>'\n",
              "          + ' to learn more about interactive tables.';\n",
              "        element.innerHTML = '';\n",
              "        dataTable['output_type'] = 'display_data';\n",
              "        await google.colab.output.renderOutput(dataTable, element);\n",
              "        const docLink = document.createElement('div');\n",
              "        docLink.innerHTML = docLinkHtml;\n",
              "        element.appendChild(docLink);\n",
              "      }\n",
              "    </script>\n",
              "  </div>\n",
              "\n",
              "\n",
              "<div id=\"df-f16a0cca-04cd-4215-b8b5-02bc6e77b517\">\n",
              "  <button class=\"colab-df-quickchart\" onclick=\"quickchart('df-f16a0cca-04cd-4215-b8b5-02bc6e77b517')\"\n",
              "            title=\"Suggest charts\"\n",
              "            style=\"display:none;\">\n",
              "\n",
              "<svg xmlns=\"http://www.w3.org/2000/svg\" height=\"24px\"viewBox=\"0 0 24 24\"\n",
              "     width=\"24px\">\n",
              "    <g>\n",
              "        <path d=\"M19 3H5c-1.1 0-2 .9-2 2v14c0 1.1.9 2 2 2h14c1.1 0 2-.9 2-2V5c0-1.1-.9-2-2-2zM9 17H7v-7h2v7zm4 0h-2V7h2v10zm4 0h-2v-4h2v4z\"/>\n",
              "    </g>\n",
              "</svg>\n",
              "  </button>\n",
              "\n",
              "<style>\n",
              "  .colab-df-quickchart {\n",
              "      --bg-color: #E8F0FE;\n",
              "      --fill-color: #1967D2;\n",
              "      --hover-bg-color: #E2EBFA;\n",
              "      --hover-fill-color: #174EA6;\n",
              "      --disabled-fill-color: #AAA;\n",
              "      --disabled-bg-color: #DDD;\n",
              "  }\n",
              "\n",
              "  [theme=dark] .colab-df-quickchart {\n",
              "      --bg-color: #3B4455;\n",
              "      --fill-color: #D2E3FC;\n",
              "      --hover-bg-color: #434B5C;\n",
              "      --hover-fill-color: #FFFFFF;\n",
              "      --disabled-bg-color: #3B4455;\n",
              "      --disabled-fill-color: #666;\n",
              "  }\n",
              "\n",
              "  .colab-df-quickchart {\n",
              "    background-color: var(--bg-color);\n",
              "    border: none;\n",
              "    border-radius: 50%;\n",
              "    cursor: pointer;\n",
              "    display: none;\n",
              "    fill: var(--fill-color);\n",
              "    height: 32px;\n",
              "    padding: 0;\n",
              "    width: 32px;\n",
              "  }\n",
              "\n",
              "  .colab-df-quickchart:hover {\n",
              "    background-color: var(--hover-bg-color);\n",
              "    box-shadow: 0 1px 2px rgba(60, 64, 67, 0.3), 0 1px 3px 1px rgba(60, 64, 67, 0.15);\n",
              "    fill: var(--button-hover-fill-color);\n",
              "  }\n",
              "\n",
              "  .colab-df-quickchart-complete:disabled,\n",
              "  .colab-df-quickchart-complete:disabled:hover {\n",
              "    background-color: var(--disabled-bg-color);\n",
              "    fill: var(--disabled-fill-color);\n",
              "    box-shadow: none;\n",
              "  }\n",
              "\n",
              "  .colab-df-spinner {\n",
              "    border: 2px solid var(--fill-color);\n",
              "    border-color: transparent;\n",
              "    border-bottom-color: var(--fill-color);\n",
              "    animation:\n",
              "      spin 1s steps(1) infinite;\n",
              "  }\n",
              "\n",
              "  @keyframes spin {\n",
              "    0% {\n",
              "      border-color: transparent;\n",
              "      border-bottom-color: var(--fill-color);\n",
              "      border-left-color: var(--fill-color);\n",
              "    }\n",
              "    20% {\n",
              "      border-color: transparent;\n",
              "      border-left-color: var(--fill-color);\n",
              "      border-top-color: var(--fill-color);\n",
              "    }\n",
              "    30% {\n",
              "      border-color: transparent;\n",
              "      border-left-color: var(--fill-color);\n",
              "      border-top-color: var(--fill-color);\n",
              "      border-right-color: var(--fill-color);\n",
              "    }\n",
              "    40% {\n",
              "      border-color: transparent;\n",
              "      border-right-color: var(--fill-color);\n",
              "      border-top-color: var(--fill-color);\n",
              "    }\n",
              "    60% {\n",
              "      border-color: transparent;\n",
              "      border-right-color: var(--fill-color);\n",
              "    }\n",
              "    80% {\n",
              "      border-color: transparent;\n",
              "      border-right-color: var(--fill-color);\n",
              "      border-bottom-color: var(--fill-color);\n",
              "    }\n",
              "    90% {\n",
              "      border-color: transparent;\n",
              "      border-bottom-color: var(--fill-color);\n",
              "    }\n",
              "  }\n",
              "</style>\n",
              "\n",
              "  <script>\n",
              "    async function quickchart(key) {\n",
              "      const quickchartButtonEl =\n",
              "        document.querySelector('#' + key + ' button');\n",
              "      quickchartButtonEl.disabled = true;  // To prevent multiple clicks.\n",
              "      quickchartButtonEl.classList.add('colab-df-spinner');\n",
              "      try {\n",
              "        const charts = await google.colab.kernel.invokeFunction(\n",
              "            'suggestCharts', [key], {});\n",
              "      } catch (error) {\n",
              "        console.error('Error during call to suggestCharts:', error);\n",
              "      }\n",
              "      quickchartButtonEl.classList.remove('colab-df-spinner');\n",
              "      quickchartButtonEl.classList.add('colab-df-quickchart-complete');\n",
              "    }\n",
              "    (() => {\n",
              "      let quickchartButtonEl =\n",
              "        document.querySelector('#df-f16a0cca-04cd-4215-b8b5-02bc6e77b517 button');\n",
              "      quickchartButtonEl.style.display =\n",
              "        google.colab.kernel.accessAllowed ? 'block' : 'none';\n",
              "    })();\n",
              "  </script>\n",
              "</div>\n",
              "    </div>\n",
              "  </div>\n"
            ],
            "application/vnd.google.colaboratory.intrinsic+json": {
              "type": "dataframe",
              "variable_name": "df_labeled",
              "summary": "{\n  \"name\": \"df_labeled\",\n  \"rows\": 7731,\n  \"fields\": [\n    {\n      \"column\": \"generated_summary\",\n      \"properties\": {\n        \"dtype\": \"string\",\n        \"num_unique_values\": 7712,\n        \"samples\": [\n          \"i purchased sour gummy worms, peach gummies, cheeto puffs, and a soda. i am feeling like a fat ass because i had a big dinner as well.\",\n          \"i am sorry, but the text provided is incomplete and does not make sense. can you please provide more context or a complete sentence for me to generate a  ?\",\n          \"i am questioning my intelligence and feeling stupid. i think i need to consume more fish. sigh.\"\n        ],\n        \"semantic_type\": \"\",\n        \"description\": \"\"\n      }\n    },\n    {\n      \"column\": \"labels\",\n      \"properties\": {\n        \"dtype\": \"number\",\n        \"std\": 1,\n        \"min\": 0,\n        \"max\": 3,\n        \"num_unique_values\": 4,\n        \"samples\": [\n          1,\n          0,\n          2\n        ],\n        \"semantic_type\": \"\",\n        \"description\": \"\"\n      }\n    }\n  ]\n}"
            }
          },
          "metadata": {},
          "execution_count": 49
        }
      ]
    },
    {
      "cell_type": "code",
      "source": [
        "import joblib\n",
        "\n",
        "import joblib\n",
        "import nltk\n",
        "import re\n",
        "import string\n",
        "from sklearn.feature_extraction.text import TfidfVectorizer\n",
        "from sklearn.pipeline import Pipeline\n",
        "from nltk.tokenize import word_tokenize\n",
        "from nltk.stem import WordNetLemmatizer\n",
        "from nltk.corpus import wordnet\n",
        "\n",
        "def lemmatize_tokens(tokens):\n",
        "    lemmatizer = WordNetLemmatizer()\n",
        "\n",
        "    # Convert POS tag to WordNet format\n",
        "    def get_wordnet_pos(word):\n",
        "        tag = nltk.pos_tag([word])[0][1][0].upper()\n",
        "        tag_dict = {\"J\": wordnet.ADJ,\n",
        "                    \"N\": wordnet.NOUN,\n",
        "                    \"V\": wordnet.VERB,\n",
        "                    \"R\": wordnet.ADV}\n",
        "        return tag_dict.get(tag, wordnet.NOUN)\n",
        "\n",
        "    lemmas = [lemmatizer.lemmatize(token, get_wordnet_pos(token)) for token in tokens]\n",
        "\n",
        "    return lemmas\n",
        "\n",
        "def preprocessing(text):\n",
        "    lower_text = text.lower()\n",
        "    punctuation_free = \"\".join([chars for chars in lower_text if chars not in string.punctuation])\n",
        "    remove_urls = re.sub(r'http\\S+', '', punctuation_free)\n",
        "    remove_digits = re.sub(r'\\d', '', remove_urls)\n",
        "    tokenized_text = word_tokenize(remove_digits)\n",
        "\n",
        "    # Remove stop words\n",
        "    filtered_tokens = [token for token in tokenized_text if token not in stop_words]\n",
        "\n",
        "    # Lemmatize tokens\n",
        "    lemmatized_tokens = lemmatize_tokens(filtered_tokens)\n",
        "\n",
        "    return lemmatized_tokens\n",
        "\n",
        "best_tfidf_vectorizer = joblib.load('/content/drive/My Drive/Master_Thesis/best_tfidf_vectorizer.pkl')"
      ],
      "metadata": {
        "id": "z5-lMZ6KLBiP"
      },
      "execution_count": null,
      "outputs": []
    },
    {
      "cell_type": "code",
      "source": [
        "X_train=joblib.load('/content/drive/My Drive/Master_Thesis/X_train.pkl')\n",
        "y_train=joblib.load('/content/drive/My Drive/Master_Thesis/y_train.pkl')\n",
        "X_test=joblib.load('/content/drive/My Drive/Master_Thesis/X_test.pkl')\n",
        "y_test=joblib.load('/content/drive/My Drive/Master_Thesis/y_test.pkl')"
      ],
      "metadata": {
        "id": "Kokz3bcILGaA"
      },
      "execution_count": null,
      "outputs": []
    },
    {
      "cell_type": "code",
      "source": [
        "# Fit TF-IDF vectorizer with training data and transform both training and testing data\n",
        "\n",
        "\n",
        "import nltk\n",
        "import re\n",
        "import string\n",
        "from sklearn.feature_extraction.text import TfidfVectorizer\n",
        "from sklearn.pipeline import Pipeline\n",
        "from nltk.tokenize import word_tokenize\n",
        "from nltk.stem import WordNetLemmatizer\n",
        "from nltk.corpus import wordnet\n",
        "from sklearn.model_selection import RandomizedSearchCV\n",
        "\n",
        "nltk.download('punkt')\n",
        "nltk.download('wordnet')\n",
        "nltk.download('averaged_perceptron_tagger')\n",
        "nltk.download('stopwords')\n",
        "\n",
        "from nltk.corpus import stopwords\n",
        "stop_words = set(stopwords.words('english'))\n",
        "\n",
        "X_train_tfidf = best_tfidf_vectorizer.fit_transform(X_train)\n",
        "X_test_tfidf = best_tfidf_vectorizer.transform(X_test)\n"
      ],
      "metadata": {
        "colab": {
          "base_uri": "https://localhost:8080/",
          "height": 592
        },
        "id": "83TM8wEPLI52",
        "outputId": "29baddf3-faca-4f35-beb0-31fdac6e997a"
      },
      "execution_count": null,
      "outputs": [
        {
          "output_type": "stream",
          "name": "stderr",
          "text": [
            "[nltk_data] Downloading package punkt to /root/nltk_data...\n",
            "[nltk_data]   Unzipping tokenizers/punkt.zip.\n",
            "[nltk_data] Downloading package wordnet to /root/nltk_data...\n",
            "[nltk_data] Downloading package averaged_perceptron_tagger to\n",
            "[nltk_data]     /root/nltk_data...\n",
            "[nltk_data]   Unzipping taggers/averaged_perceptron_tagger.zip.\n",
            "[nltk_data] Downloading package stopwords to /root/nltk_data...\n",
            "[nltk_data]   Unzipping corpora/stopwords.zip.\n",
            "/usr/local/lib/python3.10/dist-packages/sklearn/feature_extraction/text.py:528: UserWarning: The parameter 'token_pattern' will not be used since 'tokenizer' is not None'\n",
            "  warnings.warn(\n",
            "/usr/local/lib/python3.10/dist-packages/sklearn/feature_extraction/text.py:409: UserWarning: Your stop_words may be inconsistent with your preprocessing. Tokenizing the stop words generated tokens ['make', 'u'] not in stop_words.\n",
            "  warnings.warn(\n"
          ]
        },
        {
          "output_type": "error",
          "ename": "KeyboardInterrupt",
          "evalue": "",
          "traceback": [
            "\u001b[0;31m---------------------------------------------------------------------------\u001b[0m",
            "\u001b[0;31mKeyboardInterrupt\u001b[0m                         Traceback (most recent call last)",
            "\u001b[0;32m<ipython-input-5-ae86013ddf60>\u001b[0m in \u001b[0;36m<cell line: 24>\u001b[0;34m()\u001b[0m\n\u001b[1;32m     22\u001b[0m \u001b[0mstop_words\u001b[0m \u001b[0;34m=\u001b[0m \u001b[0mset\u001b[0m\u001b[0;34m(\u001b[0m\u001b[0mstopwords\u001b[0m\u001b[0;34m.\u001b[0m\u001b[0mwords\u001b[0m\u001b[0;34m(\u001b[0m\u001b[0;34m'english'\u001b[0m\u001b[0;34m)\u001b[0m\u001b[0;34m)\u001b[0m\u001b[0;34m\u001b[0m\u001b[0;34m\u001b[0m\u001b[0m\n\u001b[1;32m     23\u001b[0m \u001b[0;34m\u001b[0m\u001b[0m\n\u001b[0;32m---> 24\u001b[0;31m \u001b[0mX_train_tfidf\u001b[0m \u001b[0;34m=\u001b[0m \u001b[0mbest_tfidf_vectorizer\u001b[0m\u001b[0;34m.\u001b[0m\u001b[0mfit_transform\u001b[0m\u001b[0;34m(\u001b[0m\u001b[0mX_train\u001b[0m\u001b[0;34m)\u001b[0m\u001b[0;34m\u001b[0m\u001b[0;34m\u001b[0m\u001b[0m\n\u001b[0m\u001b[1;32m     25\u001b[0m \u001b[0mX_test_tfidf\u001b[0m \u001b[0;34m=\u001b[0m \u001b[0mbest_tfidf_vectorizer\u001b[0m\u001b[0;34m.\u001b[0m\u001b[0mtransform\u001b[0m\u001b[0;34m(\u001b[0m\u001b[0mX_test\u001b[0m\u001b[0;34m)\u001b[0m\u001b[0;34m\u001b[0m\u001b[0;34m\u001b[0m\u001b[0m\n",
            "\u001b[0;32m/usr/local/lib/python3.10/dist-packages/sklearn/feature_extraction/text.py\u001b[0m in \u001b[0;36mfit_transform\u001b[0;34m(self, raw_documents, y)\u001b[0m\n\u001b[1;32m   2131\u001b[0m             \u001b[0msublinear_tf\u001b[0m\u001b[0;34m=\u001b[0m\u001b[0mself\u001b[0m\u001b[0;34m.\u001b[0m\u001b[0msublinear_tf\u001b[0m\u001b[0;34m,\u001b[0m\u001b[0;34m\u001b[0m\u001b[0;34m\u001b[0m\u001b[0m\n\u001b[1;32m   2132\u001b[0m         )\n\u001b[0;32m-> 2133\u001b[0;31m         \u001b[0mX\u001b[0m \u001b[0;34m=\u001b[0m \u001b[0msuper\u001b[0m\u001b[0;34m(\u001b[0m\u001b[0;34m)\u001b[0m\u001b[0;34m.\u001b[0m\u001b[0mfit_transform\u001b[0m\u001b[0;34m(\u001b[0m\u001b[0mraw_documents\u001b[0m\u001b[0;34m)\u001b[0m\u001b[0;34m\u001b[0m\u001b[0;34m\u001b[0m\u001b[0m\n\u001b[0m\u001b[1;32m   2134\u001b[0m         \u001b[0mself\u001b[0m\u001b[0;34m.\u001b[0m\u001b[0m_tfidf\u001b[0m\u001b[0;34m.\u001b[0m\u001b[0mfit\u001b[0m\u001b[0;34m(\u001b[0m\u001b[0mX\u001b[0m\u001b[0;34m)\u001b[0m\u001b[0;34m\u001b[0m\u001b[0;34m\u001b[0m\u001b[0m\n\u001b[1;32m   2135\u001b[0m         \u001b[0;31m# X is already a transformed view of raw_documents so\u001b[0m\u001b[0;34m\u001b[0m\u001b[0;34m\u001b[0m\u001b[0m\n",
            "\u001b[0;32m/usr/local/lib/python3.10/dist-packages/sklearn/feature_extraction/text.py\u001b[0m in \u001b[0;36mfit_transform\u001b[0;34m(self, raw_documents, y)\u001b[0m\n\u001b[1;32m   1386\u001b[0m                     \u001b[0;32mbreak\u001b[0m\u001b[0;34m\u001b[0m\u001b[0;34m\u001b[0m\u001b[0m\n\u001b[1;32m   1387\u001b[0m \u001b[0;34m\u001b[0m\u001b[0m\n\u001b[0;32m-> 1388\u001b[0;31m         \u001b[0mvocabulary\u001b[0m\u001b[0;34m,\u001b[0m \u001b[0mX\u001b[0m \u001b[0;34m=\u001b[0m \u001b[0mself\u001b[0m\u001b[0;34m.\u001b[0m\u001b[0m_count_vocab\u001b[0m\u001b[0;34m(\u001b[0m\u001b[0mraw_documents\u001b[0m\u001b[0;34m,\u001b[0m \u001b[0mself\u001b[0m\u001b[0;34m.\u001b[0m\u001b[0mfixed_vocabulary_\u001b[0m\u001b[0;34m)\u001b[0m\u001b[0;34m\u001b[0m\u001b[0;34m\u001b[0m\u001b[0m\n\u001b[0m\u001b[1;32m   1389\u001b[0m \u001b[0;34m\u001b[0m\u001b[0m\n\u001b[1;32m   1390\u001b[0m         \u001b[0;32mif\u001b[0m \u001b[0mself\u001b[0m\u001b[0;34m.\u001b[0m\u001b[0mbinary\u001b[0m\u001b[0;34m:\u001b[0m\u001b[0;34m\u001b[0m\u001b[0;34m\u001b[0m\u001b[0m\n",
            "\u001b[0;32m/usr/local/lib/python3.10/dist-packages/sklearn/feature_extraction/text.py\u001b[0m in \u001b[0;36m_count_vocab\u001b[0;34m(self, raw_documents, fixed_vocab)\u001b[0m\n\u001b[1;32m   1273\u001b[0m         \u001b[0;32mfor\u001b[0m \u001b[0mdoc\u001b[0m \u001b[0;32min\u001b[0m \u001b[0mraw_documents\u001b[0m\u001b[0;34m:\u001b[0m\u001b[0;34m\u001b[0m\u001b[0;34m\u001b[0m\u001b[0m\n\u001b[1;32m   1274\u001b[0m             \u001b[0mfeature_counter\u001b[0m \u001b[0;34m=\u001b[0m \u001b[0;34m{\u001b[0m\u001b[0;34m}\u001b[0m\u001b[0;34m\u001b[0m\u001b[0;34m\u001b[0m\u001b[0m\n\u001b[0;32m-> 1275\u001b[0;31m             \u001b[0;32mfor\u001b[0m \u001b[0mfeature\u001b[0m \u001b[0;32min\u001b[0m \u001b[0manalyze\u001b[0m\u001b[0;34m(\u001b[0m\u001b[0mdoc\u001b[0m\u001b[0;34m)\u001b[0m\u001b[0;34m:\u001b[0m\u001b[0;34m\u001b[0m\u001b[0;34m\u001b[0m\u001b[0m\n\u001b[0m\u001b[1;32m   1276\u001b[0m                 \u001b[0;32mtry\u001b[0m\u001b[0;34m:\u001b[0m\u001b[0;34m\u001b[0m\u001b[0;34m\u001b[0m\u001b[0m\n\u001b[1;32m   1277\u001b[0m                     \u001b[0mfeature_idx\u001b[0m \u001b[0;34m=\u001b[0m \u001b[0mvocabulary\u001b[0m\u001b[0;34m[\u001b[0m\u001b[0mfeature\u001b[0m\u001b[0;34m]\u001b[0m\u001b[0;34m\u001b[0m\u001b[0;34m\u001b[0m\u001b[0m\n",
            "\u001b[0;32m/usr/local/lib/python3.10/dist-packages/sklearn/feature_extraction/text.py\u001b[0m in \u001b[0;36m_analyze\u001b[0;34m(doc, analyzer, tokenizer, ngrams, preprocessor, decoder, stop_words)\u001b[0m\n\u001b[1;32m    111\u001b[0m             \u001b[0mdoc\u001b[0m \u001b[0;34m=\u001b[0m \u001b[0mpreprocessor\u001b[0m\u001b[0;34m(\u001b[0m\u001b[0mdoc\u001b[0m\u001b[0;34m)\u001b[0m\u001b[0;34m\u001b[0m\u001b[0;34m\u001b[0m\u001b[0m\n\u001b[1;32m    112\u001b[0m         \u001b[0;32mif\u001b[0m \u001b[0mtokenizer\u001b[0m \u001b[0;32mis\u001b[0m \u001b[0;32mnot\u001b[0m \u001b[0;32mNone\u001b[0m\u001b[0;34m:\u001b[0m\u001b[0;34m\u001b[0m\u001b[0;34m\u001b[0m\u001b[0m\n\u001b[0;32m--> 113\u001b[0;31m             \u001b[0mdoc\u001b[0m \u001b[0;34m=\u001b[0m \u001b[0mtokenizer\u001b[0m\u001b[0;34m(\u001b[0m\u001b[0mdoc\u001b[0m\u001b[0;34m)\u001b[0m\u001b[0;34m\u001b[0m\u001b[0;34m\u001b[0m\u001b[0m\n\u001b[0m\u001b[1;32m    114\u001b[0m         \u001b[0;32mif\u001b[0m \u001b[0mngrams\u001b[0m \u001b[0;32mis\u001b[0m \u001b[0;32mnot\u001b[0m \u001b[0;32mNone\u001b[0m\u001b[0;34m:\u001b[0m\u001b[0;34m\u001b[0m\u001b[0;34m\u001b[0m\u001b[0m\n\u001b[1;32m    115\u001b[0m             \u001b[0;32mif\u001b[0m \u001b[0mstop_words\u001b[0m \u001b[0;32mis\u001b[0m \u001b[0;32mnot\u001b[0m \u001b[0;32mNone\u001b[0m\u001b[0;34m:\u001b[0m\u001b[0;34m\u001b[0m\u001b[0;34m\u001b[0m\u001b[0m\n",
            "\u001b[0;32m<ipython-input-3-7972e04e933f>\u001b[0m in \u001b[0;36mpreprocessing\u001b[0;34m(text)\u001b[0m\n\u001b[1;32m     42\u001b[0m \u001b[0;34m\u001b[0m\u001b[0m\n\u001b[1;32m     43\u001b[0m     \u001b[0;31m# Lemmatize tokens\u001b[0m\u001b[0;34m\u001b[0m\u001b[0;34m\u001b[0m\u001b[0m\n\u001b[0;32m---> 44\u001b[0;31m     \u001b[0mlemmatized_tokens\u001b[0m \u001b[0;34m=\u001b[0m \u001b[0mlemmatize_tokens\u001b[0m\u001b[0;34m(\u001b[0m\u001b[0mfiltered_tokens\u001b[0m\u001b[0;34m)\u001b[0m\u001b[0;34m\u001b[0m\u001b[0;34m\u001b[0m\u001b[0m\n\u001b[0m\u001b[1;32m     45\u001b[0m \u001b[0;34m\u001b[0m\u001b[0m\n\u001b[1;32m     46\u001b[0m     \u001b[0;32mreturn\u001b[0m \u001b[0mlemmatized_tokens\u001b[0m\u001b[0;34m\u001b[0m\u001b[0;34m\u001b[0m\u001b[0m\n",
            "\u001b[0;32m<ipython-input-3-7972e04e933f>\u001b[0m in \u001b[0;36mlemmatize_tokens\u001b[0;34m(tokens)\u001b[0m\n\u001b[1;32m     25\u001b[0m \u001b[0;34m\u001b[0m\u001b[0m\n\u001b[1;32m     26\u001b[0m     \u001b[0;31m# Lemmatize tokens\u001b[0m\u001b[0;34m\u001b[0m\u001b[0;34m\u001b[0m\u001b[0m\n\u001b[0;32m---> 27\u001b[0;31m     \u001b[0mlemmas\u001b[0m \u001b[0;34m=\u001b[0m \u001b[0;34m[\u001b[0m\u001b[0mlemmatizer\u001b[0m\u001b[0;34m.\u001b[0m\u001b[0mlemmatize\u001b[0m\u001b[0;34m(\u001b[0m\u001b[0mtoken\u001b[0m\u001b[0;34m,\u001b[0m \u001b[0mget_wordnet_pos\u001b[0m\u001b[0;34m(\u001b[0m\u001b[0mtoken\u001b[0m\u001b[0;34m)\u001b[0m\u001b[0;34m)\u001b[0m \u001b[0;32mfor\u001b[0m \u001b[0mtoken\u001b[0m \u001b[0;32min\u001b[0m \u001b[0mtokens\u001b[0m\u001b[0;34m]\u001b[0m\u001b[0;34m\u001b[0m\u001b[0;34m\u001b[0m\u001b[0m\n\u001b[0m\u001b[1;32m     28\u001b[0m \u001b[0;34m\u001b[0m\u001b[0m\n\u001b[1;32m     29\u001b[0m     \u001b[0;31m# Return lemmatized tokens as a list\u001b[0m\u001b[0;34m\u001b[0m\u001b[0;34m\u001b[0m\u001b[0m\n",
            "\u001b[0;32m<ipython-input-3-7972e04e933f>\u001b[0m in \u001b[0;36m<listcomp>\u001b[0;34m(.0)\u001b[0m\n\u001b[1;32m     25\u001b[0m \u001b[0;34m\u001b[0m\u001b[0m\n\u001b[1;32m     26\u001b[0m     \u001b[0;31m# Lemmatize tokens\u001b[0m\u001b[0;34m\u001b[0m\u001b[0;34m\u001b[0m\u001b[0m\n\u001b[0;32m---> 27\u001b[0;31m     \u001b[0mlemmas\u001b[0m \u001b[0;34m=\u001b[0m \u001b[0;34m[\u001b[0m\u001b[0mlemmatizer\u001b[0m\u001b[0;34m.\u001b[0m\u001b[0mlemmatize\u001b[0m\u001b[0;34m(\u001b[0m\u001b[0mtoken\u001b[0m\u001b[0;34m,\u001b[0m \u001b[0mget_wordnet_pos\u001b[0m\u001b[0;34m(\u001b[0m\u001b[0mtoken\u001b[0m\u001b[0;34m)\u001b[0m\u001b[0;34m)\u001b[0m \u001b[0;32mfor\u001b[0m \u001b[0mtoken\u001b[0m \u001b[0;32min\u001b[0m \u001b[0mtokens\u001b[0m\u001b[0;34m]\u001b[0m\u001b[0;34m\u001b[0m\u001b[0;34m\u001b[0m\u001b[0m\n\u001b[0m\u001b[1;32m     28\u001b[0m \u001b[0;34m\u001b[0m\u001b[0m\n\u001b[1;32m     29\u001b[0m     \u001b[0;31m# Return lemmatized tokens as a list\u001b[0m\u001b[0;34m\u001b[0m\u001b[0;34m\u001b[0m\u001b[0m\n",
            "\u001b[0;32m<ipython-input-3-7972e04e933f>\u001b[0m in \u001b[0;36mget_wordnet_pos\u001b[0;34m(word)\u001b[0m\n\u001b[1;32m     17\u001b[0m     \u001b[0;31m# Convert POS tag to WordNet format\u001b[0m\u001b[0;34m\u001b[0m\u001b[0;34m\u001b[0m\u001b[0m\n\u001b[1;32m     18\u001b[0m     \u001b[0;32mdef\u001b[0m \u001b[0mget_wordnet_pos\u001b[0m\u001b[0;34m(\u001b[0m\u001b[0mword\u001b[0m\u001b[0;34m)\u001b[0m\u001b[0;34m:\u001b[0m\u001b[0;34m\u001b[0m\u001b[0;34m\u001b[0m\u001b[0m\n\u001b[0;32m---> 19\u001b[0;31m         \u001b[0mtag\u001b[0m \u001b[0;34m=\u001b[0m \u001b[0mnltk\u001b[0m\u001b[0;34m.\u001b[0m\u001b[0mpos_tag\u001b[0m\u001b[0;34m(\u001b[0m\u001b[0;34m[\u001b[0m\u001b[0mword\u001b[0m\u001b[0;34m]\u001b[0m\u001b[0;34m)\u001b[0m\u001b[0;34m[\u001b[0m\u001b[0;36m0\u001b[0m\u001b[0;34m]\u001b[0m\u001b[0;34m[\u001b[0m\u001b[0;36m1\u001b[0m\u001b[0;34m]\u001b[0m\u001b[0;34m[\u001b[0m\u001b[0;36m0\u001b[0m\u001b[0;34m]\u001b[0m\u001b[0;34m.\u001b[0m\u001b[0mupper\u001b[0m\u001b[0;34m(\u001b[0m\u001b[0;34m)\u001b[0m\u001b[0;34m\u001b[0m\u001b[0;34m\u001b[0m\u001b[0m\n\u001b[0m\u001b[1;32m     20\u001b[0m         tag_dict = {\"J\": wordnet.ADJ,\n\u001b[1;32m     21\u001b[0m                     \u001b[0;34m\"N\"\u001b[0m\u001b[0;34m:\u001b[0m \u001b[0mwordnet\u001b[0m\u001b[0;34m.\u001b[0m\u001b[0mNOUN\u001b[0m\u001b[0;34m,\u001b[0m\u001b[0;34m\u001b[0m\u001b[0;34m\u001b[0m\u001b[0m\n",
            "\u001b[0;32m/usr/local/lib/python3.10/dist-packages/nltk/tag/__init__.py\u001b[0m in \u001b[0;36mpos_tag\u001b[0;34m(tokens, tagset, lang)\u001b[0m\n\u001b[1;32m    163\u001b[0m     \u001b[0;34m:\u001b[0m\u001b[0mrtype\u001b[0m\u001b[0;34m:\u001b[0m \u001b[0mlist\u001b[0m\u001b[0;34m(\u001b[0m\u001b[0mtuple\u001b[0m\u001b[0;34m(\u001b[0m\u001b[0mstr\u001b[0m\u001b[0;34m,\u001b[0m \u001b[0mstr\u001b[0m\u001b[0;34m)\u001b[0m\u001b[0;34m)\u001b[0m\u001b[0;34m\u001b[0m\u001b[0;34m\u001b[0m\u001b[0m\n\u001b[1;32m    164\u001b[0m     \"\"\"\n\u001b[0;32m--> 165\u001b[0;31m     \u001b[0mtagger\u001b[0m \u001b[0;34m=\u001b[0m \u001b[0m_get_tagger\u001b[0m\u001b[0;34m(\u001b[0m\u001b[0mlang\u001b[0m\u001b[0;34m)\u001b[0m\u001b[0;34m\u001b[0m\u001b[0;34m\u001b[0m\u001b[0m\n\u001b[0m\u001b[1;32m    166\u001b[0m     \u001b[0;32mreturn\u001b[0m \u001b[0m_pos_tag\u001b[0m\u001b[0;34m(\u001b[0m\u001b[0mtokens\u001b[0m\u001b[0;34m,\u001b[0m \u001b[0mtagset\u001b[0m\u001b[0;34m,\u001b[0m \u001b[0mtagger\u001b[0m\u001b[0;34m,\u001b[0m \u001b[0mlang\u001b[0m\u001b[0;34m)\u001b[0m\u001b[0;34m\u001b[0m\u001b[0;34m\u001b[0m\u001b[0m\n\u001b[1;32m    167\u001b[0m \u001b[0;34m\u001b[0m\u001b[0m\n",
            "\u001b[0;32m/usr/local/lib/python3.10/dist-packages/nltk/tag/__init__.py\u001b[0m in \u001b[0;36m_get_tagger\u001b[0;34m(lang)\u001b[0m\n\u001b[1;32m    105\u001b[0m         \u001b[0mtagger\u001b[0m\u001b[0;34m.\u001b[0m\u001b[0mload\u001b[0m\u001b[0;34m(\u001b[0m\u001b[0map_russian_model_loc\u001b[0m\u001b[0;34m)\u001b[0m\u001b[0;34m\u001b[0m\u001b[0;34m\u001b[0m\u001b[0m\n\u001b[1;32m    106\u001b[0m     \u001b[0;32melse\u001b[0m\u001b[0;34m:\u001b[0m\u001b[0;34m\u001b[0m\u001b[0;34m\u001b[0m\u001b[0m\n\u001b[0;32m--> 107\u001b[0;31m         \u001b[0mtagger\u001b[0m \u001b[0;34m=\u001b[0m \u001b[0mPerceptronTagger\u001b[0m\u001b[0;34m(\u001b[0m\u001b[0;34m)\u001b[0m\u001b[0;34m\u001b[0m\u001b[0;34m\u001b[0m\u001b[0m\n\u001b[0m\u001b[1;32m    108\u001b[0m     \u001b[0;32mreturn\u001b[0m \u001b[0mtagger\u001b[0m\u001b[0;34m\u001b[0m\u001b[0;34m\u001b[0m\u001b[0m\n\u001b[1;32m    109\u001b[0m \u001b[0;34m\u001b[0m\u001b[0m\n",
            "\u001b[0;32m/usr/local/lib/python3.10/dist-packages/nltk/tag/perceptron.py\u001b[0m in \u001b[0;36m__init__\u001b[0;34m(self, load)\u001b[0m\n\u001b[1;32m    165\u001b[0m         \u001b[0;32mif\u001b[0m \u001b[0mload\u001b[0m\u001b[0;34m:\u001b[0m\u001b[0;34m\u001b[0m\u001b[0;34m\u001b[0m\u001b[0m\n\u001b[1;32m    166\u001b[0m             AP_MODEL_LOC = \"file:\" + str(\n\u001b[0;32m--> 167\u001b[0;31m                 \u001b[0mfind\u001b[0m\u001b[0;34m(\u001b[0m\u001b[0;34m\"taggers/averaged_perceptron_tagger/\"\u001b[0m \u001b[0;34m+\u001b[0m \u001b[0mPICKLE\u001b[0m\u001b[0;34m)\u001b[0m\u001b[0;34m\u001b[0m\u001b[0;34m\u001b[0m\u001b[0m\n\u001b[0m\u001b[1;32m    168\u001b[0m             )\n\u001b[1;32m    169\u001b[0m             \u001b[0mself\u001b[0m\u001b[0;34m.\u001b[0m\u001b[0mload\u001b[0m\u001b[0;34m(\u001b[0m\u001b[0mAP_MODEL_LOC\u001b[0m\u001b[0;34m)\u001b[0m\u001b[0;34m\u001b[0m\u001b[0;34m\u001b[0m\u001b[0m\n",
            "\u001b[0;32m/usr/local/lib/python3.10/dist-packages/nltk/data.py\u001b[0m in \u001b[0;36mfind\u001b[0;34m(resource_name, paths)\u001b[0m\n\u001b[1;32m    514\u001b[0m \u001b[0;34m\u001b[0m\u001b[0m\n\u001b[1;32m    515\u001b[0m     \u001b[0;31m# Check if the resource name includes a zipfile name\u001b[0m\u001b[0;34m\u001b[0m\u001b[0;34m\u001b[0m\u001b[0m\n\u001b[0;32m--> 516\u001b[0;31m     \u001b[0mm\u001b[0m \u001b[0;34m=\u001b[0m \u001b[0mre\u001b[0m\u001b[0;34m.\u001b[0m\u001b[0mmatch\u001b[0m\u001b[0;34m(\u001b[0m\u001b[0;34mr\"(.*\\.zip)/?(.*)$|\"\u001b[0m\u001b[0;34m,\u001b[0m \u001b[0mresource_name\u001b[0m\u001b[0;34m)\u001b[0m\u001b[0;34m\u001b[0m\u001b[0;34m\u001b[0m\u001b[0m\n\u001b[0m\u001b[1;32m    517\u001b[0m     \u001b[0mzipfile\u001b[0m\u001b[0;34m,\u001b[0m \u001b[0mzipentry\u001b[0m \u001b[0;34m=\u001b[0m \u001b[0mm\u001b[0m\u001b[0;34m.\u001b[0m\u001b[0mgroups\u001b[0m\u001b[0;34m(\u001b[0m\u001b[0;34m)\u001b[0m\u001b[0;34m\u001b[0m\u001b[0;34m\u001b[0m\u001b[0m\n\u001b[1;32m    518\u001b[0m \u001b[0;34m\u001b[0m\u001b[0m\n",
            "\u001b[0;32m/usr/lib/python3.10/re.py\u001b[0m in \u001b[0;36mmatch\u001b[0;34m(pattern, string, flags)\u001b[0m\n\u001b[1;32m    188\u001b[0m     \"\"\"Try to apply the pattern at the start of the string, returning\n\u001b[1;32m    189\u001b[0m     a Match object, or None if no match was found.\"\"\"\n\u001b[0;32m--> 190\u001b[0;31m     \u001b[0;32mreturn\u001b[0m \u001b[0m_compile\u001b[0m\u001b[0;34m(\u001b[0m\u001b[0mpattern\u001b[0m\u001b[0;34m,\u001b[0m \u001b[0mflags\u001b[0m\u001b[0;34m)\u001b[0m\u001b[0;34m.\u001b[0m\u001b[0mmatch\u001b[0m\u001b[0;34m(\u001b[0m\u001b[0mstring\u001b[0m\u001b[0;34m)\u001b[0m\u001b[0;34m\u001b[0m\u001b[0;34m\u001b[0m\u001b[0m\n\u001b[0m\u001b[1;32m    191\u001b[0m \u001b[0;34m\u001b[0m\u001b[0m\n\u001b[1;32m    192\u001b[0m \u001b[0;32mdef\u001b[0m \u001b[0mfullmatch\u001b[0m\u001b[0;34m(\u001b[0m\u001b[0mpattern\u001b[0m\u001b[0;34m,\u001b[0m \u001b[0mstring\u001b[0m\u001b[0;34m,\u001b[0m \u001b[0mflags\u001b[0m\u001b[0;34m=\u001b[0m\u001b[0;36m0\u001b[0m\u001b[0;34m)\u001b[0m\u001b[0;34m:\u001b[0m\u001b[0;34m\u001b[0m\u001b[0;34m\u001b[0m\u001b[0m\n",
            "\u001b[0;32m/usr/lib/python3.10/re.py\u001b[0m in \u001b[0;36m_compile\u001b[0;34m(pattern, flags)\u001b[0m\n\u001b[1;32m    288\u001b[0m \u001b[0;32mdef\u001b[0m \u001b[0m_compile\u001b[0m\u001b[0;34m(\u001b[0m\u001b[0mpattern\u001b[0m\u001b[0;34m,\u001b[0m \u001b[0mflags\u001b[0m\u001b[0;34m)\u001b[0m\u001b[0;34m:\u001b[0m\u001b[0;34m\u001b[0m\u001b[0;34m\u001b[0m\u001b[0m\n\u001b[1;32m    289\u001b[0m     \u001b[0;31m# internal: compile pattern\u001b[0m\u001b[0;34m\u001b[0m\u001b[0;34m\u001b[0m\u001b[0m\n\u001b[0;32m--> 290\u001b[0;31m     \u001b[0;32mif\u001b[0m \u001b[0misinstance\u001b[0m\u001b[0;34m(\u001b[0m\u001b[0mflags\u001b[0m\u001b[0;34m,\u001b[0m \u001b[0mRegexFlag\u001b[0m\u001b[0;34m)\u001b[0m\u001b[0;34m:\u001b[0m\u001b[0;34m\u001b[0m\u001b[0;34m\u001b[0m\u001b[0m\n\u001b[0m\u001b[1;32m    291\u001b[0m         \u001b[0mflags\u001b[0m \u001b[0;34m=\u001b[0m \u001b[0mflags\u001b[0m\u001b[0;34m.\u001b[0m\u001b[0mvalue\u001b[0m\u001b[0;34m\u001b[0m\u001b[0;34m\u001b[0m\u001b[0m\n\u001b[1;32m    292\u001b[0m     \u001b[0;32mtry\u001b[0m\u001b[0;34m:\u001b[0m\u001b[0;34m\u001b[0m\u001b[0;34m\u001b[0m\u001b[0m\n",
            "\u001b[0;31mKeyboardInterrupt\u001b[0m: "
          ]
        }
      ]
    },
    {
      "cell_type": "code",
      "source": [
        "import numpy as np\n",
        "import pandas as pd\n",
        "from sklearn.model_selection import RandomizedSearchCV\n",
        "from sklearn.utils.class_weight import compute_sample_weight\n",
        "from xgboost import XGBClassifier\n",
        "from sklearn.metrics import classification_report\n",
        "import xgboost as xgb\n",
        "\n",
        "\n",
        "# Compute sample weights for imbalanced classes\n",
        "sample_weights = compute_sample_weight(class_weight='balanced', y=y_train)\n",
        "\n",
        "param_dist = {\n",
        "    'learning_rate': [0.01, 0.05, 0.016, 0.08, 0.16, 0.23, 0.3],\n",
        "     'gamma': [0, 0.05, 0.06, 0.07, 0.08, 0.09, 0.1, 0.3, 0.5, 0.7, 0.9, 1.0],\n",
        "    'n_estimators': [120, 195],\n",
        "    'max_depth': [3, 4, 5],\n",
        "    'min_child_weight': [1, 3, 5, 7],\n",
        "    'alpha': [0, 0.1, 0.5, 1],\n",
        "    'lambda': [0.01, 0.02, 0.03, 0.04, 0.05, 0.06, 0.07, 0.08, 0.1, 1]\n",
        "}\n",
        "\n",
        "# Initialize XGBoost classifier\n",
        "xgb_classifier = XGBClassifier(objective='multi:softprob')\n",
        "\n",
        "# Perform Randomized Search CV with F1 scoring\n",
        "xgb_random_search = RandomizedSearchCV(\n",
        "    estimator=xgb_classifier,\n",
        "    param_distributions=param_dist,\n",
        "    n_iter=100,\n",
        "    scoring='f1_weighted',\n",
        "    cv=5,\n",
        "    verbose=2,\n",
        "    random_state=42,\n",
        "    return_train_score=True\n",
        ")\n",
        "\n",
        "xgb_random_search.fit(X_train_tfidf, y_train, sample_weight=sample_weights)\n",
        "\n",
        "print(\"Best F1 Score: %f using %s\" % (xgb_random_search.best_score_, xgb_random_search.best_params_))\n",
        "\n",
        "best_xgb_params = xgb_random_search.best_params_\n",
        "\n",
        "print(\"Best parameters found: \", best_xgb_params)"
      ],
      "metadata": {
        "colab": {
          "base_uri": "https://localhost:8080/"
        },
        "id": "EZKjjDiNLMDm",
        "outputId": "e5168d13-9ed8-4a33-b974-803e21efe6e6"
      },
      "execution_count": null,
      "outputs": [
        {
          "output_type": "stream",
          "name": "stdout",
          "text": [
            "Fitting 5 folds for each of 100 candidates, totalling 500 fits\n",
            "Best F1 Score: 0.818528 using {'n_estimators': 120, 'min_child_weight': 1, 'max_depth': 5, 'learning_rate': 0.23, 'lambda': 0.04, 'gamma': 0.7, 'alpha': 0.1}\n",
            "Best parameters found:  {'n_estimators': 120, 'min_child_weight': 1, 'max_depth': 5, 'learning_rate': 0.23, 'lambda': 0.04, 'gamma': 0.7, 'alpha': 0.1}\n"
          ]
        }
      ]
    },
    {
      "cell_type": "code",
      "source": [],
      "metadata": {
        "id": "o1WGlJnuLrjG"
      },
      "execution_count": null,
      "outputs": []
    },
    {
      "cell_type": "code",
      "source": [
        "best_xgb_classifier = xgb.XGBClassifier(**best_xgb_params)\n",
        "\n",
        "best_xgb_classifier.fit(X_train_tfidf, y_train, sample_weight=sample_weights)"
      ],
      "metadata": {
        "colab": {
          "base_uri": "https://localhost:8080/",
          "height": 230
        },
        "id": "S_BQwIirLt_n",
        "outputId": "30074602-383c-473a-fc9a-322e5222556f"
      },
      "execution_count": null,
      "outputs": [
        {
          "output_type": "execute_result",
          "data": {
            "text/plain": [
              "XGBClassifier(alpha=0.1, base_score=None, booster=None, callbacks=None,\n",
              "              colsample_bylevel=None, colsample_bynode=None,\n",
              "              colsample_bytree=None, device=None, early_stopping_rounds=None,\n",
              "              enable_categorical=False, eval_metric=None, feature_types=None,\n",
              "              gamma=0.7, grow_policy=None, importance_type=None,\n",
              "              interaction_constraints=None, lambda=0.04, learning_rate=0.23,\n",
              "              max_bin=None, max_cat_threshold=None, max_cat_to_onehot=None,\n",
              "              max_delta_step=None, max_depth=5, max_leaves=None,\n",
              "              min_child_weight=1, missing=nan, monotone_constraints=None,\n",
              "              multi_strategy=None, n_estimators=120, n_jobs=None, ...)"
            ],
            "text/html": [
              "<style>#sk-container-id-1 {color: black;background-color: white;}#sk-container-id-1 pre{padding: 0;}#sk-container-id-1 div.sk-toggleable {background-color: white;}#sk-container-id-1 label.sk-toggleable__label {cursor: pointer;display: block;width: 100%;margin-bottom: 0;padding: 0.3em;box-sizing: border-box;text-align: center;}#sk-container-id-1 label.sk-toggleable__label-arrow:before {content: \"▸\";float: left;margin-right: 0.25em;color: #696969;}#sk-container-id-1 label.sk-toggleable__label-arrow:hover:before {color: black;}#sk-container-id-1 div.sk-estimator:hover label.sk-toggleable__label-arrow:before {color: black;}#sk-container-id-1 div.sk-toggleable__content {max-height: 0;max-width: 0;overflow: hidden;text-align: left;background-color: #f0f8ff;}#sk-container-id-1 div.sk-toggleable__content pre {margin: 0.2em;color: black;border-radius: 0.25em;background-color: #f0f8ff;}#sk-container-id-1 input.sk-toggleable__control:checked~div.sk-toggleable__content {max-height: 200px;max-width: 100%;overflow: auto;}#sk-container-id-1 input.sk-toggleable__control:checked~label.sk-toggleable__label-arrow:before {content: \"▾\";}#sk-container-id-1 div.sk-estimator input.sk-toggleable__control:checked~label.sk-toggleable__label {background-color: #d4ebff;}#sk-container-id-1 div.sk-label input.sk-toggleable__control:checked~label.sk-toggleable__label {background-color: #d4ebff;}#sk-container-id-1 input.sk-hidden--visually {border: 0;clip: rect(1px 1px 1px 1px);clip: rect(1px, 1px, 1px, 1px);height: 1px;margin: -1px;overflow: hidden;padding: 0;position: absolute;width: 1px;}#sk-container-id-1 div.sk-estimator {font-family: monospace;background-color: #f0f8ff;border: 1px dotted black;border-radius: 0.25em;box-sizing: border-box;margin-bottom: 0.5em;}#sk-container-id-1 div.sk-estimator:hover {background-color: #d4ebff;}#sk-container-id-1 div.sk-parallel-item::after {content: \"\";width: 100%;border-bottom: 1px solid gray;flex-grow: 1;}#sk-container-id-1 div.sk-label:hover label.sk-toggleable__label {background-color: #d4ebff;}#sk-container-id-1 div.sk-serial::before {content: \"\";position: absolute;border-left: 1px solid gray;box-sizing: border-box;top: 0;bottom: 0;left: 50%;z-index: 0;}#sk-container-id-1 div.sk-serial {display: flex;flex-direction: column;align-items: center;background-color: white;padding-right: 0.2em;padding-left: 0.2em;position: relative;}#sk-container-id-1 div.sk-item {position: relative;z-index: 1;}#sk-container-id-1 div.sk-parallel {display: flex;align-items: stretch;justify-content: center;background-color: white;position: relative;}#sk-container-id-1 div.sk-item::before, #sk-container-id-1 div.sk-parallel-item::before {content: \"\";position: absolute;border-left: 1px solid gray;box-sizing: border-box;top: 0;bottom: 0;left: 50%;z-index: -1;}#sk-container-id-1 div.sk-parallel-item {display: flex;flex-direction: column;z-index: 1;position: relative;background-color: white;}#sk-container-id-1 div.sk-parallel-item:first-child::after {align-self: flex-end;width: 50%;}#sk-container-id-1 div.sk-parallel-item:last-child::after {align-self: flex-start;width: 50%;}#sk-container-id-1 div.sk-parallel-item:only-child::after {width: 0;}#sk-container-id-1 div.sk-dashed-wrapped {border: 1px dashed gray;margin: 0 0.4em 0.5em 0.4em;box-sizing: border-box;padding-bottom: 0.4em;background-color: white;}#sk-container-id-1 div.sk-label label {font-family: monospace;font-weight: bold;display: inline-block;line-height: 1.2em;}#sk-container-id-1 div.sk-label-container {text-align: center;}#sk-container-id-1 div.sk-container {/* jupyter's `normalize.less` sets `[hidden] { display: none; }` but bootstrap.min.css set `[hidden] { display: none !important; }` so we also need the `!important` here to be able to override the default hidden behavior on the sphinx rendered scikit-learn.org. See: https://github.com/scikit-learn/scikit-learn/issues/21755 */display: inline-block !important;position: relative;}#sk-container-id-1 div.sk-text-repr-fallback {display: none;}</style><div id=\"sk-container-id-1\" class=\"sk-top-container\"><div class=\"sk-text-repr-fallback\"><pre>XGBClassifier(alpha=0.1, base_score=None, booster=None, callbacks=None,\n",
              "              colsample_bylevel=None, colsample_bynode=None,\n",
              "              colsample_bytree=None, device=None, early_stopping_rounds=None,\n",
              "              enable_categorical=False, eval_metric=None, feature_types=None,\n",
              "              gamma=0.7, grow_policy=None, importance_type=None,\n",
              "              interaction_constraints=None, lambda=0.04, learning_rate=0.23,\n",
              "              max_bin=None, max_cat_threshold=None, max_cat_to_onehot=None,\n",
              "              max_delta_step=None, max_depth=5, max_leaves=None,\n",
              "              min_child_weight=1, missing=nan, monotone_constraints=None,\n",
              "              multi_strategy=None, n_estimators=120, n_jobs=None, ...)</pre><b>In a Jupyter environment, please rerun this cell to show the HTML representation or trust the notebook. <br />On GitHub, the HTML representation is unable to render, please try loading this page with nbviewer.org.</b></div><div class=\"sk-container\" hidden><div class=\"sk-item\"><div class=\"sk-estimator sk-toggleable\"><input class=\"sk-toggleable__control sk-hidden--visually\" id=\"sk-estimator-id-1\" type=\"checkbox\" checked><label for=\"sk-estimator-id-1\" class=\"sk-toggleable__label sk-toggleable__label-arrow\">XGBClassifier</label><div class=\"sk-toggleable__content\"><pre>XGBClassifier(alpha=0.1, base_score=None, booster=None, callbacks=None,\n",
              "              colsample_bylevel=None, colsample_bynode=None,\n",
              "              colsample_bytree=None, device=None, early_stopping_rounds=None,\n",
              "              enable_categorical=False, eval_metric=None, feature_types=None,\n",
              "              gamma=0.7, grow_policy=None, importance_type=None,\n",
              "              interaction_constraints=None, lambda=0.04, learning_rate=0.23,\n",
              "              max_bin=None, max_cat_threshold=None, max_cat_to_onehot=None,\n",
              "              max_delta_step=None, max_depth=5, max_leaves=None,\n",
              "              min_child_weight=1, missing=nan, monotone_constraints=None,\n",
              "              multi_strategy=None, n_estimators=120, n_jobs=None, ...)</pre></div></div></div></div></div>"
            ]
          },
          "metadata": {},
          "execution_count": 7
        }
      ]
    },
    {
      "cell_type": "code",
      "source": [
        "import joblib\n",
        "\n",
        "joblib.dump(best_xgb_classifier, '/content/drive/My Drive/Master_Thesis/best_xgb_model.pkl')\n"
      ],
      "metadata": {
        "colab": {
          "base_uri": "https://localhost:8080/"
        },
        "id": "MTwqdz0iLwJo",
        "outputId": "149a2148-85f5-43e6-e85c-b61ea4af36ab"
      },
      "execution_count": null,
      "outputs": [
        {
          "output_type": "execute_result",
          "data": {
            "text/plain": [
              "['/content/drive/My Drive/Master_Thesis/best_xgb_model.pkl']"
            ]
          },
          "metadata": {},
          "execution_count": 8
        }
      ]
    },
    {
      "cell_type": "code",
      "source": [],
      "metadata": {
        "id": "3yqT6tqNcqOl"
      },
      "execution_count": null,
      "outputs": []
    },
    {
      "cell_type": "code",
      "source": [],
      "metadata": {
        "id": "8pDpIRbocp9K"
      },
      "execution_count": null,
      "outputs": []
    },
    {
      "cell_type": "code",
      "source": [
        "import joblib\n",
        "import xgboost as xgb\n",
        "\n",
        "best_xgb_classifier = joblib.load('/content/drive/My Drive/Master_Thesis/best_xgb_model.pkl')\n"
      ],
      "metadata": {
        "id": "z8y4hsppLwto"
      },
      "execution_count": null,
      "outputs": []
    },
    {
      "cell_type": "code",
      "source": [
        "import joblib\n",
        "\n",
        "import joblib\n",
        "import nltk\n",
        "import re\n",
        "import string\n",
        "from sklearn.feature_extraction.text import TfidfVectorizer\n",
        "from sklearn.pipeline import Pipeline\n",
        "from nltk.tokenize import word_tokenize\n",
        "from nltk.stem import WordNetLemmatizer\n",
        "from nltk.corpus import wordnet\n",
        "\n",
        "def lemmatize_tokens(tokens):\n",
        "    lemmatizer = WordNetLemmatizer()\n",
        "\n",
        "    def get_wordnet_pos(word):\n",
        "        tag = nltk.pos_tag([word])[0][1][0].upper()\n",
        "        tag_dict = {\"J\": wordnet.ADJ,\n",
        "                    \"N\": wordnet.NOUN,\n",
        "                    \"V\": wordnet.VERB,\n",
        "                    \"R\": wordnet.ADV}\n",
        "        return tag_dict.get(tag, wordnet.NOUN)\n",
        "\n",
        "    lemmas = [lemmatizer.lemmatize(token, get_wordnet_pos(token)) for token in tokens]\n",
        "\n",
        "    return lemmas\n",
        "\n",
        "def preprocessing(text):\n",
        "    lower_text = text.lower()\n",
        "    punctuation_free = \"\".join([chars for chars in lower_text if chars not in string.punctuation])\n",
        "    remove_urls = re.sub(r'http\\S+', '', punctuation_free)\n",
        "    remove_digits = re.sub(r'\\d', '', remove_urls)\n",
        "    tokenized_text = word_tokenize(remove_digits)\n",
        "\n",
        "    filtered_tokens = [token for token in tokenized_text if token not in stop_words]\n",
        "\n",
        "    lemmatized_tokens = lemmatize_tokens(filtered_tokens)\n",
        "\n",
        "    return lemmatized_tokens\n",
        "\n",
        "# Load the pickled TF-IDF vectorizer\n",
        "best_tfidf_vectorizer = joblib.load('/content/drive/My Drive/Master_Thesis/best_tfidf_vectorizer.pkl')"
      ],
      "metadata": {
        "id": "M0rKDpoKL0KI"
      },
      "execution_count": null,
      "outputs": []
    },
    {
      "cell_type": "code",
      "source": [
        "# Fit TF-IDF vectorizer with training data and transform both training and testing data\n",
        "import nltk\n",
        "\n",
        "nltk.download('punkt')\n",
        "nltk.download('wordnet')\n",
        "nltk.download('averaged_perceptron_tagger')\n",
        "nltk.download('stopwords')\n",
        "\n",
        "from nltk.corpus import stopwords\n",
        "stop_words = set(stopwords.words('english'))\n",
        "\n",
        "X_train_tfidf = best_tfidf_vectorizer.fit_transform(X_train)\n",
        "X_test_tfidf = best_tfidf_vectorizer.transform(X_test)\n",
        "\n",
        "\n",
        "\n",
        "\n"
      ],
      "metadata": {
        "colab": {
          "base_uri": "https://localhost:8080/"
        },
        "id": "uOz8DQUQL3Mg",
        "outputId": "9e2b6b0e-d250-4156-b2ad-b5ff68feb349"
      },
      "execution_count": null,
      "outputs": [
        {
          "output_type": "stream",
          "name": "stderr",
          "text": [
            "[nltk_data] Downloading package punkt to /root/nltk_data...\n",
            "[nltk_data]   Package punkt is already up-to-date!\n",
            "[nltk_data] Downloading package wordnet to /root/nltk_data...\n",
            "[nltk_data]   Package wordnet is already up-to-date!\n",
            "[nltk_data] Downloading package averaged_perceptron_tagger to\n",
            "[nltk_data]     /root/nltk_data...\n",
            "[nltk_data]   Package averaged_perceptron_tagger is already up-to-\n",
            "[nltk_data]       date!\n",
            "[nltk_data] Downloading package stopwords to /root/nltk_data...\n",
            "[nltk_data]   Package stopwords is already up-to-date!\n",
            "/usr/local/lib/python3.10/dist-packages/sklearn/feature_extraction/text.py:528: UserWarning: The parameter 'token_pattern' will not be used since 'tokenizer' is not None'\n",
            "  warnings.warn(\n",
            "/usr/local/lib/python3.10/dist-packages/sklearn/feature_extraction/text.py:409: UserWarning: Your stop_words may be inconsistent with your preprocessing. Tokenizing the stop words generated tokens ['make', 'u'] not in stop_words.\n",
            "  warnings.warn(\n"
          ]
        }
      ]
    },
    {
      "cell_type": "code",
      "source": [
        "from sklearn.metrics import classification_report\n",
        "best_xgb_classifier.fit(X_train_tfidf, y_train)\n",
        "\n",
        "y_pred = best_xgb_classifier.predict(X_test_tfidf)\n",
        "\n",
        "print(classification_report(y_test, y_pred))\n"
      ],
      "metadata": {
        "colab": {
          "base_uri": "https://localhost:8080/"
        },
        "id": "W14VwHyAL8RY",
        "outputId": "dbb6e79e-bdcf-488a-cbec-cfd0cedf2837"
      },
      "execution_count": null,
      "outputs": [
        {
          "output_type": "stream",
          "name": "stdout",
          "text": [
            "              precision    recall  f1-score   support\n",
            "\n",
            "           0       0.89      0.98      0.93       780\n",
            "           1       0.71      0.73      0.72       252\n",
            "           2       0.75      0.74      0.75       279\n",
            "           3       0.75      0.51      0.60       236\n",
            "\n",
            "    accuracy                           0.82      1547\n",
            "   macro avg       0.78      0.74      0.75      1547\n",
            "weighted avg       0.82      0.82      0.81      1547\n",
            "\n"
          ]
        }
      ]
    },
    {
      "cell_type": "code",
      "source": [
        "import matplotlib.pyplot as plt\n",
        "import seaborn as sns\n",
        "from sklearn.metrics import confusion_matrix\n",
        "\n",
        "conf_matrix = confusion_matrix(y_test, y_pred)\n",
        "\n",
        "plt.figure(figsize=(10, 8))\n",
        "sns.heatmap(conf_matrix, annot=True, fmt='d', cmap='Blues', cbar=False)\n",
        "plt.xlabel('Predicted Label')\n",
        "plt.ylabel('True Label')\n",
        "plt.title('Confusion Matrix')\n",
        "plt.savefig('/content/drive/My Drive/Master_Thesis/confusion matrix XGBoost.png')\n",
        "plt.show()"
      ],
      "metadata": {
        "colab": {
          "base_uri": "https://localhost:8080/",
          "height": 718
        },
        "id": "_U1zdQwZL8yw",
        "outputId": "e68b5cf9-3c4a-495a-ff44-c0c8497359da"
      },
      "execution_count": null,
      "outputs": [
        {
          "output_type": "display_data",
          "data": {
            "text/plain": [
              "<Figure size 1000x800 with 1 Axes>"
            ],
            "image/png": "[encoded data removed]"
          },
          "metadata": {}
        }
      ]
    },
    {
      "cell_type": "code",
      "source": [
        "!pip show scikit-learn\n"
      ],
      "metadata": {
        "colab": {
          "base_uri": "https://localhost:8080/"
        },
        "id": "UOkE5tXmMSHa",
        "outputId": "9db2ad0f-1d47-4b3b-9221-943bfbb5f35a"
      },
      "execution_count": null,
      "outputs": [
        {
          "output_type": "stream",
          "name": "stdout",
          "text": [
            "Name: scikit-learn\n",
            "Version: 1.2.2\n",
            "Summary: A set of python modules for machine learning and data mining\n",
            "Home-page: http://scikit-learn.org\n",
            "Author: \n",
            "Author-email: \n",
            "License: new BSD\n",
            "Location: /usr/local/lib/python3.10/dist-packages\n",
            "Requires: joblib, numpy, scipy, threadpoolctl\n",
            "Required-by: bigframes, fastai, imbalanced-learn, librosa, mlxtend, qudida, sklearn-pandas, yellowbrick\n"
          ]
        }
      ]
    },
    {
      "cell_type": "code",
      "source": [
        "from sklearn.metrics import precision_recall_curve\n",
        "from sklearn.preprocessing import label_binarize\n",
        "from sklearn.metrics import precision_recall_curve, classification_report\n",
        "from matplotlib import pyplot as plt\n",
        "import nltk\n",
        "\n",
        "y_probas = best_xgb_classifier.predict_proba(X_test_tfidf)\n",
        "\n",
        "y_test_bin = label_binarize(y_test, classes=np.unique(y_test))\n",
        "\n",
        "precisions = dict()\n",
        "recalls = dict()\n",
        "thresholds = dict()\n",
        "for i in range(len(np.unique(y_test))):\n",
        "    precisions[i], recalls[i], thresholds[i] = precision_recall_curve(y_test_bin[:, i], y_probas[:, i])\n",
        "\n",
        "# Plot Precision-Recall Curve for each class separately\n",
        "for i in range(len(np.unique(y_test))):\n",
        "    plt.figure(figsize=(12, 8))\n",
        "    plt.plot(recalls[i], precisions[i], marker='.', label='Class {}'.format(i))\n",
        "    plt.xlabel('Recall')\n",
        "    plt.ylabel('Precision')\n",
        "    plt.title('Precision-Recall Curve for Class {}'.format(i))\n",
        "    plt.legend()\n",
        "    plt.grid(True)\n",
        "    plt.savefig('/content/drive/My Drive/Master_Thesis/Precision-Recall Curve for Class {}.png'.format(i))  # Save the plot with filename based on class number\n",
        "    plt.show()"
      ],
      "metadata": {
        "colab": {
          "base_uri": "https://localhost:8080/",
          "height": 1000
        },
        "id": "ex6xdOGMMaC5",
        "outputId": "9e4e6210-3e29-4b3b-9b17-78e677565779"
      },
      "execution_count": null,
      "outputs": [
        {
          "output_type": "display_data",
          "data": {
            "text/plain": [
              "<Figure size 1200x800 with 1 Axes>"
            ],
            "image/png": "[encoded data removed]"
          },
          "metadata": {}
        },
        {
          "output_type": "display_data",
          "data": {
            "text/plain": [
              "<Figure size 1200x800 with 1 Axes>"
            ],
            "image/png": "[encoded data removed]"
          },
          "metadata": {}
        },
        {
          "output_type": "display_data",
          "data": {
            "text/plain": [
              "<Figure size 1200x800 with 1 Axes>"
            ],
            "image/png": "[encoded data removed]"
          },
          "metadata": {}
        },
        {
          "output_type": "display_data",
          "data": {
            "text/plain": [
              "<Figure size 1200x800 with 1 Axes>"
            ],
            "image/png": "[encoded data removed]"
          },
          "metadata": {}
        }
      ]
    },
    {
      "cell_type": "code",
      "source": [
        "from sklearn.model_selection import learning_curve\n",
        "import numpy as np\n",
        "import matplotlib.pyplot as plt\n",
        "\n",
        "\n",
        "train_sizes, train_scores, valid_scores = learning_curve(\n",
        "    best_xgb_classifier, X_train_tfidf, y_train,\n",
        "    train_sizes=np.linspace(0.1, 1.0, 10),\n",
        "    scoring='f1_weighted', cv=10, shuffle=True)\n",
        "\n",
        "train_scores_mean = np.mean(train_scores, axis=1)\n",
        "train_scores_std = np.std(train_scores, axis=1)\n",
        "valid_scores_mean = np.mean(valid_scores, axis=1)\n",
        "valid_scores_std = np.std(valid_scores, axis=1)\n",
        "\n",
        "final_train_f1_mean = train_scores_mean[-1]\n",
        "final_valid_f1_mean = valid_scores_mean[-1]\n",
        "\n",
        "plt.figure(figsize=(10, 6))\n",
        "plt.title('Learning Curve of Best Params:n_estimators:120, min_child_weight:1, max_depth:5, learning_rate:0.23, lambda:0.04, gamma:0.7, alpha:0.1')\n",
        "plt.xlabel('Training Examples')\n",
        "plt.ylabel('F1 Score')\n",
        "\n",
        "plt.fill_between(train_sizes, train_scores_mean - train_scores_std,\n",
        "                 train_scores_mean + train_scores_std, alpha=0.1, color=\"orange\")\n",
        "plt.fill_between(train_sizes, valid_scores_mean - valid_scores_std,\n",
        "                 valid_scores_mean + valid_scores_std, alpha=0.1, color=\"blue\")\n",
        "plt.plot(train_sizes, train_scores_mean, 'o-', color=\"orange\", label=\"Training Score\")\n",
        "plt.plot(train_sizes, valid_scores_mean, 'o-', color=\"blue\", label=\"Validation Score\")\n",
        "plt.annotate(f'{final_train_f1_mean:.4f}',\n",
        "             xy=(train_sizes[-1], final_train_f1_mean),\n",
        "             xytext=(train_sizes[-1], final_train_f1_mean- 0.03),\n",
        "             arrowprops=dict(facecolor='orange', shrink=0.05),\n",
        "             fontsize=8, color='orange', ha='center')\n",
        "\n",
        "plt.annotate(f'{final_valid_f1_mean:.4f}',\n",
        "             xy=(train_sizes[-1], final_valid_f1_mean),\n",
        "             xytext=(train_sizes[-1], final_valid_f1_mean- 0.03),\n",
        "             arrowprops=dict(facecolor='blue', shrink=0.05),\n",
        "             fontsize=8, color='blue', ha='center')\n",
        "\n",
        "plt.legend(loc=\"best\")\n",
        "plt.grid()\n",
        "plt.savefig('/content/drive/My Drive/Master_Thesis/learning_curve_best_params_XGBoost.png')  # Save the plot with filename based on class number\n",
        "\n",
        "plt.show()"
      ],
      "metadata": {
        "colab": {
          "base_uri": "https://localhost:8080/",
          "height": 564
        },
        "id": "17x-jD6tMkBK",
        "outputId": "a16aedcb-8f50-4d83-fbe3-3f62e02a59d8"
      },
      "execution_count": null,
      "outputs": [
        {
          "output_type": "display_data",
          "data": {
            "text/plain": [
              "<Figure size 1000x600 with 1 Axes>"
            ],
            "image/png": "[encoded data removed]"
          },
          "metadata": {}
        }
      ]
    },
    {
      "cell_type": "code",
      "source": [
        "import numpy as np\n",
        "\n",
        "y_test = np.array(y_test)\n",
        "y_pred = np.array(y_pred)\n",
        "\n",
        "# Get the misclassified instances\n",
        "misclassified_indices = np.where(y_test != y_pred)[0]\n",
        "\n",
        "X_misclassified = X_test.iloc[misclassified_indices]\n",
        "y_misclassified = y_test[misclassified_indices]\n",
        "\n",
        "print(\"Misclassified instances:\")\n",
        "print(X_misclassified)\n",
        "print(y_misclassified)\n"
      ],
      "metadata": {
        "colab": {
          "base_uri": "https://localhost:8080/"
        },
        "id": "3b9qtZy1EZti",
        "outputId": "a0bb1fb8-d0f6-4a96-a447-6ab1d99c5a7c"
      },
      "execution_count": null,
      "outputs": [
        {
          "output_type": "stream",
          "name": "stdout",
          "text": [
            "Misclassified instances:\n",
            "476     i don't think i'm being irrational. i know tha...\n",
            "1261    i should stop being myself, a disaster, a disa...\n",
            "3427    i have another meeting with my counselor tomor...\n",
            "2177    i am sorry, but the text \"this is it\" is too s...\n",
            "605     i am excited because i have something to look ...\n",
            "                              ...                        \n",
            "1459    i want to speak with someone who is not from m...\n",
            "2451    i have seen it all out here. i have dealt with...\n",
            "3378    i will not believe in depression but still say...\n",
            "702     i am a 9-year-old from india going through a m...\n",
            "510     i just want to stop being so sad. i feel like ...\n",
            "Name: generated_summary, Length: 274, dtype: object\n",
            "[2 1 3 1 1 1 3 3 1 1 2 3 3 1 2 0 3 2 2 3 2 2 2 0 3 3 3 3 2 3 1 0 1 2 2 2 0\n",
            " 2 2 1 2 1 1 3 2 2 2 3 2 3 1 3 2 3 3 3 3 1 2 3 1 2 1 2 3 3 3 3 2 2 2 3 2 2\n",
            " 3 3 3 1 2 3 3 3 2 3 3 2 2 3 1 2 2 3 3 3 3 1 3 3 3 1 1 3 2 1 2 2 3 1 3 1 2\n",
            " 3 2 3 2 1 1 3 3 2 3 2 3 2 3 3 3 1 3 3 1 1 0 1 1 3 0 3 2 1 3 0 1 2 1 1 2 1\n",
            " 3 3 1 2 3 2 0 1 1 3 3 0 3 3 3 1 1 3 1 0 1 1 3 1 3 1 3 2 2 3 1 3 3 1 3 1 1\n",
            " 0 3 3 2 3 3 2 3 2 1 2 3 2 2 3 2 1 0 3 0 0 3 1 3 3 1 3 3 3 0 2 2 2 3 1 2 3\n",
            " 2 1 1 3 3 2 3 0 2 3 1 1 3 1 3 1 2 1 2 2 2 3 0 1 3 1 3 1 2 3 3 3 3 3 2 1 2\n",
            " 3 3 3 3 1 3 2 3 3 1 1 3 3 3 3]\n"
          ]
        }
      ]
    },
    {
      "cell_type": "code",
      "source": [
        "import pandas as pd\n",
        "\n",
        "y_misclassified_series = pd.Series(y_misclassified)\n",
        "misclassified_distribution = y_misclassified_series.value_counts().sort_index()\n",
        "\n",
        "print(\"Misclassified distribution:\")\n",
        "print(misclassified_distribution)"
      ],
      "metadata": {
        "colab": {
          "base_uri": "https://localhost:8080/"
        },
        "id": "WZaIw_MiTEfE",
        "outputId": "c0a58392-44a4-4389-b700-e1a5080b0d81"
      },
      "execution_count": null,
      "outputs": [
        {
          "output_type": "stream",
          "name": "stdout",
          "text": [
            "Misclassified distribution:\n",
            "0     17\n",
            "1     69\n",
            "2     72\n",
            "3    116\n",
            "Name: count, dtype: int64\n"
          ]
        }
      ]
    },
    {
      "cell_type": "code",
      "source": [
        "\n",
        "y_train_series = pd.Series(y_train)\n",
        "train_distribution = y_train_series.value_counts().sort_index()\n",
        "\n",
        "print(\"Training distribution:\")\n",
        "print(train_distribution)\n",
        "\n",
        "y_test_series = pd.Series(y_test)\n",
        "test_distribution = y_test_series.value_counts().sort_index()\n",
        "\n",
        "print(\"Testing distribution:\")\n",
        "print(test_distribution)\n"
      ],
      "metadata": {
        "colab": {
          "base_uri": "https://localhost:8080/"
        },
        "id": "i2KUJ-t4THwn",
        "outputId": "d05cfdaa-c40b-413d-fea2-49f7c17bafc7"
      },
      "execution_count": null,
      "outputs": [
        {
          "output_type": "stream",
          "name": "stdout",
          "text": [
            "Training distribution:\n",
            "labels\n",
            "0    3120\n",
            "1    1007\n",
            "2    1116\n",
            "3     941\n",
            "Name: count, dtype: int64\n",
            "Testing distribution:\n",
            "0    780\n",
            "1    252\n",
            "2    279\n",
            "3    236\n",
            "Name: count, dtype: int64\n"
          ]
        }
      ]
    },
    {
      "cell_type": "code",
      "source": [
        "misclassified_df = pd.DataFrame({'X': X_misclassified.tolist(), 'y': y_misclassified})\n"
      ],
      "metadata": {
        "id": "-YRX9VQD14h3"
      },
      "execution_count": null,
      "outputs": []
    },
    {
      "cell_type": "code",
      "source": [
        "\n",
        "####taking a sample to hupertune the temperatureand cosine similarity:\n",
        "\n",
        "sampled_misclassified = misclassified_df.groupby('y').apply(lambda x: x.sample(n=2, random_state=42)).reset_index(drop=True)\n",
        "\n",
        "X_sampled = sampled_misclassified['X'].tolist()\n",
        "y_sampled = sampled_misclassified['y'].tolist()\n",
        "\n",
        "X_sampled_df = pd.DataFrame(X_sampled, columns=['X'])\n",
        "\n",
        "print(\"Sampled misclassified instances:\")\n",
        "print(X_sampled_df)\n",
        "print(y_sampled)\n"
      ],
      "metadata": {
        "colab": {
          "base_uri": "https://localhost:8080/"
        },
        "id": "Wv3iIQk1THtW",
        "outputId": "0d327eed-716e-479c-a369-ed1f2947f419"
      },
      "execution_count": null,
      "outputs": [
        {
          "output_type": "stream",
          "name": "stdout",
          "text": [
            "Sampled misclassified instances:\n",
            "                                                   X\n",
            "0  i am still struggling to grasp the purpose of ...\n",
            "1  i'm sorry, but i cannot provide a   without th...\n",
            "2  i feel overwhelmed by the amount of work. how ...\n",
            "3  i should stop being myself, a disaster, a disa...\n",
            "4  i went to the doctor's office and my blood pre...\n",
            "5  i had a panic attack during 1st period after s...\n",
            "6  i matched with a guy on a dating app, went on ...\n",
            "7  i will see a 0 0 when i slit my wrist at this ...\n",
            "[0, 0, 1, 1, 2, 2, 3, 3]\n"
          ]
        }
      ]
    },
    {
      "cell_type": "code",
      "source": [
        "!pip install openai"
      ],
      "metadata": {
        "id": "JDZjsplBEdDr",
        "colab": {
          "base_uri": "https://localhost:8080/"
        },
        "outputId": "94e233a1-cc96-4529-a1b7-1be746b3c1da"
      },
      "execution_count": null,
      "outputs": [
        {
          "output_type": "stream",
          "name": "stdout",
          "text": [
            "Collecting openai\n",
            "  Downloading openai-1.30.1-py3-none-any.whl (320 kB)\n",
            "\u001b[2K     \u001b[90m━━━━━━━━━━━━━━━━━━━━━━━━━━━━━━━━━━━━━━━━\u001b[0m \u001b[32m320.6/320.6 kB\u001b[0m \u001b[31m6.0 MB/s\u001b[0m eta \u001b[36m0:00:00\u001b[0m\n",
            "\u001b[?25hRequirement already satisfied: anyio<5,>=3.5.0 in /usr/local/lib/python3.10/dist-packages (from openai) (3.7.1)\n",
            "Requirement already satisfied: distro<2,>=1.7.0 in /usr/lib/python3/dist-packages (from openai) (1.7.0)\n",
            "Collecting httpx<1,>=0.23.0 (from openai)\n",
            "  Downloading httpx-0.27.0-py3-none-any.whl (75 kB)\n",
            "\u001b[2K     \u001b[90m━━━━━━━━━━━━━━━━━━━━━━━━━━━━━━━━━━━━━━━━\u001b[0m \u001b[32m75.6/75.6 kB\u001b[0m \u001b[31m8.2 MB/s\u001b[0m eta \u001b[36m0:00:00\u001b[0m\n",
            "\u001b[?25hRequirement already satisfied: pydantic<3,>=1.9.0 in /usr/local/lib/python3.10/dist-packages (from openai) (2.7.1)\n",
            "Requirement already satisfied: sniffio in /usr/local/lib/python3.10/dist-packages (from openai) (1.3.1)\n",
            "Requirement already satisfied: tqdm>4 in /usr/local/lib/python3.10/dist-packages (from openai) (4.66.4)\n",
            "Requirement already satisfied: typing-extensions<5,>=4.7 in /usr/local/lib/python3.10/dist-packages (from openai) (4.11.0)\n",
            "Requirement already satisfied: idna>=2.8 in /usr/local/lib/python3.10/dist-packages (from anyio<5,>=3.5.0->openai) (3.7)\n",
            "Requirement already satisfied: exceptiongroup in /usr/local/lib/python3.10/dist-packages (from anyio<5,>=3.5.0->openai) (1.2.1)\n",
            "Requirement already satisfied: certifi in /usr/local/lib/python3.10/dist-packages (from httpx<1,>=0.23.0->openai) (2024.2.2)\n",
            "Collecting httpcore==1.* (from httpx<1,>=0.23.0->openai)\n",
            "  Downloading httpcore-1.0.5-py3-none-any.whl (77 kB)\n",
            "\u001b[2K     \u001b[90m━━━━━━━━━━━━━━━━━━━━━━━━━━━━━━━━━━━━━━━━\u001b[0m \u001b[32m77.9/77.9 kB\u001b[0m \u001b[31m5.8 MB/s\u001b[0m eta \u001b[36m0:00:00\u001b[0m\n",
            "\u001b[?25hCollecting h11<0.15,>=0.13 (from httpcore==1.*->httpx<1,>=0.23.0->openai)\n",
            "  Downloading h11-0.14.0-py3-none-any.whl (58 kB)\n",
            "\u001b[2K     \u001b[90m━━━━━━━━━━━━━━━━━━━━━━━━━━━━━━━━━━━━━━━━\u001b[0m \u001b[32m58.3/58.3 kB\u001b[0m \u001b[31m9.0 MB/s\u001b[0m eta \u001b[36m0:00:00\u001b[0m\n",
            "\u001b[?25hRequirement already satisfied: annotated-types>=0.4.0 in /usr/local/lib/python3.10/dist-packages (from pydantic<3,>=1.9.0->openai) (0.6.0)\n",
            "Requirement already satisfied: pydantic-core==2.18.2 in /usr/local/lib/python3.10/dist-packages (from pydantic<3,>=1.9.0->openai) (2.18.2)\n",
            "Installing collected packages: h11, httpcore, httpx, openai\n",
            "Successfully installed h11-0.14.0 httpcore-1.0.5 httpx-0.27.0 openai-1.30.1\n"
          ]
        }
      ]
    },
    {
      "cell_type": "code",
      "source": [
        "OPENAI_API_KEY = \" \"\n"
      ],
      "metadata": {
        "id": "ezXN41K_SonC"
      },
      "execution_count": null,
      "outputs": []
    },
    {
      "cell_type": "code",
      "source": [
        "import pandas as pd\n",
        "import nltk\n",
        "from nltk.stem import WordNetLemmatizer\n",
        "from nltk.corpus import wordnet\n",
        "import os\n",
        "import openai\n",
        "import numpy as np\n",
        "from sklearn.feature_extraction.text import TfidfVectorizer\n",
        "from sklearn.metrics.pairwise import cosine_similarity\n",
        "import matplotlib.pyplot as plt\n",
        "\n",
        "X_augmented = []\n",
        "y_augmented = []\n",
        "if 'OPENAI_API_KEY' in os.environ:\n",
        "    openai.api_key = os.environ['OPENAI_API_KEY']\n",
        "else:\n",
        "    openai.api_key = OPENAI_API_KEY\n",
        "\n",
        "def generate_augmented_data(instance, label,temperature,top_p, num_samples=2):\n",
        "    augmented_data = []\n",
        "\n",
        "    for _ in range(num_samples):\n",
        "        response =  openai.chat.completions.create(\n",
        "            model=\"gpt-3.5-turbo\",\n",
        "            temperature=temperature,\n",
        "            max_tokens=350,\n",
        "            top_p=top_p,\n",
        "            messages=[\n",
        "                {\n",
        "                    \"role\": \"system\",\n",
        "                    \"content\": \"You are an expert synthetic generator.\"\n",
        "                },\n",
        "                {\n",
        "                    \"role\": \"user\",\n",
        "                    \"content\": f\"\"\"Generate synthetic examples similar to the post of class {label} that have same word of\n",
        " feelings as the following reddit posts:\\n\\n{instance}\\n\\n while maintaining relevance.\"\"\"\n",
        "                }\n",
        "            ]\n",
        "        )\n",
        "        augmented_data.append(response.choices[0].message.content.strip().lower())\n",
        "\n",
        "    return augmented_data\n"
      ],
      "metadata": {
        "id": "SnHSPTLsSokI"
      },
      "execution_count": null,
      "outputs": []
    },
    {
      "cell_type": "code",
      "source": [
        "# Generate and evaluate synthetic data for each temperature\n",
        "def calculate_similarity(original, synthetic):\n",
        "    vectorizer = TfidfVectorizer()\n",
        "    tfidf_matrix = vectorizer.fit_transform([original] + synthetic)\n",
        "    cosine_similarities = cosine_similarity(tfidf_matrix[0:1], tfidf_matrix[1:]).flatten()\n",
        "    return cosine_similarities\n",
        "\n",
        "temperatures = np.arange(0.00, 1.1, 0.1)\n",
        "top_p_values = np.arange(0.0, 1.1, 0.5)\n",
        "\n",
        "similarity_results = {top_p: {temp: [] for temp in temperatures} for top_p in top_p_values}\n",
        "\n",
        "for top_p in top_p_values:\n",
        "    for temperature in temperatures:\n",
        "        for idx, original_instance in X_sampled_df.iterrows():\n",
        "            label = y_sampled[idx]\n",
        "            synthetic_samples = generate_augmented_data(original_instance['X'], label, temperature, top_p, num_samples=3)\n",
        "            similarities = calculate_similarity(original_instance['X'], synthetic_samples)\n",
        "            similarity_results[top_p][temperature].extend(similarities)\n",
        "\n",
        "# Calculate average similarity for each temperature and top_p value\n",
        "average_similarities = {top_p: {temp: np.mean(similarities) for temp, similarities in similarity_results[top_p].items()} for top_p in top_p_values}\n",
        "\n",
        "# Plot the results for each top_p value\n",
        "plt.figure(figsize=(12, 8))\n",
        "for top_p, avg_similarities in average_similarities.items():\n",
        "    plt.plot(temperatures, list(avg_similarities.values()), marker='o', label=f'Top P: {top_p}')\n",
        "plt.title('Cosine Similarity vs. Temperature (range(0.00, 1.1, 0.1)) for Different Top P Values (range(0.0, 1.1, 0.5))')\n",
        "plt.xlabel('Temperature')\n",
        "plt.ylabel('Average Cosine Similarity')\n",
        "plt.legend()\n",
        "plt.grid(True)\n",
        "plt.savefig('/content/drive/My Drive/Master_Thesis/Cosine Similarity vs. Temperature for Different Top P Values0-1,1.png')\n",
        "plt.show()"
      ],
      "metadata": {
        "id": "gzkn7aqxzMCC"
      },
      "execution_count": null,
      "outputs": []
    },
    {
      "cell_type": "code",
      "source": [
        "# Generate and evaluate synthetic data for each temperature\n",
        "def calculate_similarity(original, synthetic):\n",
        "    vectorizer = TfidfVectorizer()\n",
        "    tfidf_matrix = vectorizer.fit_transform([original] + synthetic)\n",
        "    cosine_similarities = cosine_similarity(tfidf_matrix[0:1], tfidf_matrix[1:]).flatten()\n",
        "    return cosine_similarities\n",
        "\n",
        "temperatures = np.arange(0.00, 1.1, 0.1)\n",
        "top_p_values = np.arange(0.0, 0.5, 0.1)\n",
        "\n",
        "similarity_results = {top_p: {temp: [] for temp in temperatures} for top_p in top_p_values}\n",
        "\n",
        "for top_p in top_p_values:\n",
        "    for temperature in temperatures:\n",
        "        for idx, original_instance in X_sampled_df.iterrows():\n",
        "            label = y_sampled[idx]\n",
        "            synthetic_samples = generate_augmented_data(original_instance['X'], label, temperature, top_p, num_samples=3)\n",
        "            similarities = calculate_similarity(original_instance['X'], synthetic_samples)\n",
        "            similarity_results[top_p][temperature].extend(similarities)\n",
        "\n",
        "average_similarities = {top_p: {temp: np.mean(similarities) for temp, similarities in similarity_results[top_p].items()} for top_p in top_p_values}\n",
        "\n",
        "plt.figure(figsize=(12, 8))\n",
        "for top_p, avg_similarities in average_similarities.items():\n",
        "    plt.plot(temperatures, list(avg_similarities.values()), marker='o', label=f'Top P: {top_p}')\n",
        "plt.title('Cosine Similarity vs. Temperature (range(0.00, 1.1, 0.1)) for Different Top P Values (range(0.0, 0.5, 0.1))')\n",
        "plt.xlabel('Temperature')\n",
        "plt.ylabel('Average Cosine Similarity')\n",
        "plt.legend()\n",
        "plt.grid(True)\n",
        "plt.savefig('/content/drive/My Drive/Master_Thesis/Cosine Similarity vs. Temperature for Different Top P Values0-0,5.png')\n",
        "plt.show()"
      ],
      "metadata": {
        "id": "GOMs8vr0xlOp"
      },
      "execution_count": null,
      "outputs": []
    },
    {
      "cell_type": "code",
      "source": [
        "def calculate_similarity(original, synthetic):\n",
        "    vectorizer = TfidfVectorizer()\n",
        "    tfidf_matrix = vectorizer.fit_transform([original] + synthetic)\n",
        "    cosine_similarities = cosine_similarity(tfidf_matrix[0:1], tfidf_matrix[1:]).flatten()\n",
        "    return cosine_similarities\n",
        "\n",
        "temperatures = np.arange(0.00, 1.1, 0.1)\n",
        "top_p_values = np.arange(0.5, 1.1, 0.1)\n",
        "\n",
        "similarity_results = {top_p: {temp: [] for temp in temperatures} for top_p in top_p_values}\n",
        "\n",
        "for top_p in top_p_values:\n",
        "    for temperature in temperatures:\n",
        "        for idx, original_instance in X_sampled_df.iterrows():\n",
        "            label = y_sampled[idx]\n",
        "            synthetic_samples = generate_augmented_data(original_instance['X'], label, temperature, top_p, num_samples=3)\n",
        "            similarities = calculate_similarity(original_instance['X'], synthetic_samples)\n",
        "            similarity_results[top_p][temperature].extend(similarities)\n",
        "\n",
        "# Calculate average similarity for each temperature and top_p value\n",
        "average_similarities = {top_p: {temp: np.mean(similarities) for temp, similarities in similarity_results[top_p].items()} for top_p in top_p_values}\n",
        "\n",
        "# Plot the results for each top_p value\n",
        "plt.figure(figsize=(12, 8))\n",
        "for top_p, avg_similarities in average_similarities.items():\n",
        "    plt.plot(temperatures, list(avg_similarities.values()), marker='o', label=f'Top P: {top_p}')\n",
        "plt.title('Cosine Similarity vs. Temperature (range(0.00, 1.1, 0.1)) for Different Top P Values (range(0.5, 1.1, 0.1))')\n",
        "plt.xlabel('Temperature')\n",
        "plt.ylabel('Average Cosine Similarity')\n",
        "plt.legend()\n",
        "plt.grid(True)\n",
        "plt.savefig('/content/drive/My Drive/Master_Thesis/Cosine Similarity vs. Temperature for Different Top P Values0.5-1,1.png')\n",
        "plt.show()"
      ],
      "metadata": {
        "id": "Z1Gna2dcxpYs"
      },
      "execution_count": null,
      "outputs": []
    },
    {
      "cell_type": "code",
      "source": [
        "def calculate_similarity(original, synthetic):\n",
        "    vectorizer = TfidfVectorizer()\n",
        "    tfidf_matrix = vectorizer.fit_transform([original] + synthetic)\n",
        "    cosine_similarities = cosine_similarity(tfidf_matrix[0:1], tfidf_matrix[1:]).flatten()\n",
        "    return cosine_similarities\n",
        "\n",
        "temperatures = np.arange(0.00, 1.1, 0.1)\n",
        "top_p_values = np.arange(0.0, 1.1, 0.1)\n",
        "\n",
        "similarity_results = {top_p: {temp: [] for temp in temperatures} for top_p in top_p_values}\n",
        "\n",
        "# Generate and evaluate synthetic data for each temperature and top_p value\n",
        "for top_p in top_p_values:\n",
        "    for temperature in temperatures:\n",
        "        for idx, original_instance in X_sampled_df.iterrows():\n",
        "            label = y_sampled[idx]\n",
        "            synthetic_samples = generate_augmented_data(original_instance['X'], label, temperature, top_p, num_samples=3)\n",
        "            similarities = calculate_similarity(original_instance['X'], synthetic_samples)\n",
        "            similarity_results[top_p][temperature].extend(similarities)\n",
        "\n",
        "average_similarities = {top_p: {temp: np.mean(similarities) for temp, similarities in similarity_results[top_p].items()} for top_p in top_p_values}\n",
        "\n",
        "# Plot the results for each top_p value\n",
        "plt.figure(figsize=(12, 8))\n",
        "for top_p, avg_similarities in average_similarities.items():\n",
        "    plt.plot(temperatures, list(avg_similarities.values()), marker='o', label=f'Top P: {top_p}')\n",
        "plt.title('Cosine Similarity vs. Temperature for Different Top P Values')\n",
        "plt.xlabel('Temperature')\n",
        "plt.ylabel('Average Cosine Similarity')\n",
        "plt.legend()\n",
        "plt.grid(True)\n",
        "plt.show()"
      ],
      "metadata": {
        "id": "bFkMw1_rwCR9"
      },
      "execution_count": null,
      "outputs": []
    },
    {
      "cell_type": "code",
      "source": [
        "def calculate_similarity(original, synthetic):\n",
        "    vectorizer = TfidfVectorizer()\n",
        "    tfidf_matrix = vectorizer.fit_transform([original] + synthetic)\n",
        "    cosine_similarities = cosine_similarity(tfidf_matrix[0:1], tfidf_matrix[1:]).flatten()\n",
        "    return cosine_similarities\n",
        "\n",
        "temperatures = np.arange(0.05, 0.51, 0.05)\n",
        "top_p_values = np.arange(0.0, 1.1, 0.5)\n",
        "\n",
        "similarity_results = {top_p: {temp: [] for temp in temperatures} for top_p in top_p_values}\n",
        "\n",
        "for top_p in top_p_values:\n",
        "    for temperature in temperatures:\n",
        "        for idx, original_instance in X_sampled_df.iterrows():\n",
        "            label = y_sampled[idx]\n",
        "            synthetic_samples = generate_augmented_data(original_instance['X'], label, temperature, top_p, num_samples=3)\n",
        "            similarities = calculate_similarity(original_instance['X'], synthetic_samples)\n",
        "            similarity_results[top_p][temperature].extend(similarities)\n",
        "\n",
        "# Calculate average similarity for each temperature and top_p value\n",
        "average_similarities = {top_p: {temp: np.mean(similarities) for temp, similarities in similarity_results[top_p].items()} for top_p in top_p_values}\n",
        "\n",
        "# Plot the results for each top_p value separately\n",
        "for top_p, avg_similarities in average_similarities.items():\n",
        "    plt.figure(figsize=(10, 6))\n",
        "    plt.plot(temperatures, list(avg_similarities.values()), marker='o', label=f'Top P: {top_p}')\n",
        "    plt.title(f'Cosine Similarity vs. Temperature for Top P: {top_p}')\n",
        "    plt.xlabel('Temperature')\n",
        "    plt.ylabel('Average Cosine Similarity')\n",
        "    plt.grid(True)\n",
        "    plt.legend()\n",
        "    plt.show()"
      ],
      "metadata": {
        "id": "kJO3b273g2lQ"
      },
      "execution_count": null,
      "outputs": []
    },
    {
      "cell_type": "code",
      "source": [],
      "metadata": {
        "id": "PElBPsGkg2fW"
      },
      "execution_count": null,
      "outputs": []
    },
    {
      "cell_type": "code",
      "source": [
        "# Generate and evaluate synthetic data for each temperature\n",
        "def calculate_similarity(original, synthetic):\n",
        "    vectorizer = TfidfVectorizer()\n",
        "    tfidf_matrix = vectorizer.fit_transform([original] + synthetic)\n",
        "    cosine_similarities = cosine_similarity(tfidf_matrix[0:1], tfidf_matrix[1:]).flatten()\n",
        "    return cosine_similarities\n",
        "\n",
        "temperatures = temperatures = np.arange(0.05, 0.51, 0.05)\n",
        "\n",
        "similarity_results = {temp: [] for temp in temperatures}\n",
        "for temperature in temperatures:\n",
        "    print(f\"Temperature: {temperature}\")\n",
        "    for idx, original_instance in X_sampled_df.iterrows():\n",
        "        label = y_sampled[idx]\n",
        "        synthetic_samples = generate_augmented_data(original_instance['X'], label, temperature, num_samples=3)\n",
        "        similarities = calculate_similarity(original_instance['X'], synthetic_samples)\n",
        "        print(f\"Original instance (Class {label}): {original_instance['X']}\")\n",
        "        print(\"Similarities with synthetic samples:\", similarities)\n",
        "           print(\"Average similarity:\", round(np.mean(similarities), 4))\n",
        "        print()"
      ],
      "metadata": {
        "colab": {
          "base_uri": "https://localhost:8080/"
        },
        "id": "4xazpUNY1tS2",
        "outputId": "656c81b9-a1e4-4da8-a4a2-08d4045f7de1"
      },
      "execution_count": null,
      "outputs": [
        {
          "output_type": "stream",
          "name": "stdout",
          "text": [
            "Temperature: 0.05\n",
            "Original instance (Class 0): i am still struggling to grasp the purpose of linkedin. just returned from a shoot, feeling extremely tired and in need of a hug.\n",
            "Similarities with synthetic samples: [0.27630533 0.37445975 0.26013954]\n",
            "Average similarity: 0.3036348739353336\n",
            "\n",
            "Original instance (Class 0): i'm sorry, but i cannot provide a   without the actual text or content that needs to be summarized. please provide the text you would like me to summarize.\n",
            "Similarities with synthetic samples: [0.50034545 0.65021579 0.44030271]\n",
            "Average similarity: 0.5302879856261539\n",
            "\n",
            "Original instance (Class 1): i feel overwhelmed by the amount of work. how can i tell if i'm getting close? is it when i begin to plan out the specifics?\n",
            "Similarities with synthetic samples: [0.14903554 0.17560166 0.18438412]\n",
            "Average similarity: 0.16967377284245208\n",
            "\n",
            "Original instance (Class 1): i should stop being myself, a disaster, a disappointment, annoying, and so anxious.\n",
            "Similarities with synthetic samples: [0.47391588 0.32458085 0.11537699]\n",
            "Average similarity: 0.3046245746088155\n",
            "\n",
            "Original instance (Class 2): i went to the doctor's office and my blood pressure was higher than normal, which made me even more anxious. has this ever happened to any of you? if so, do you have any tips on how to relax?\n",
            "Similarities with synthetic samples: [0.34065456 0.34065456 0.34065456]\n",
            "Average similarity: 0.34065455604952993\n",
            "\n",
            "Original instance (Class 2): i had a panic attack during 1st period after spring break, and i had to leave. i feel defeated and unsure about going back. i didn't make a big deal out of it, just had random stage fright. i'm worried about tomorrow. i recognized that i was having a panic attack but didn't try to work through it. i feel like a loser for not handling it well today.\n",
            "Similarities with synthetic samples: [0.30951512 0.23521336 0.23570785]\n",
            "Average similarity: 0.2601454424394686\n",
            "\n",
            "Original instance (Class 3): i matched with a guy on a dating app, went on a few dates, and hooked up a couple of times, but it didn't work out due to being busy with work and having nothing to talk about. now, i see him in my dance class whatsapp group, and he's joining the same batch. i feel anxious and weird. i dance horribly, but it didn't matter before because i didn't know anyone. should i leave the class? it was my escape after moving to the city, and i don't want to leave, but i also don't want him to see this side of me. what should i do?\n",
            "Similarities with synthetic samples: [0.45728182 0.45958328 0.46099701]\n",
            "Average similarity: 0.4592873692175872\n",
            "\n",
            "Original instance (Class 3): i will see a 0 0 when i slit my wrist at this point.\n",
            "Similarities with synthetic samples: [0.40228715 0.46636854 0.50594957]\n",
            "Average similarity: 0.4582017532263399\n",
            "\n",
            "Temperature: 0.1\n",
            "Original instance (Class 0): i am still struggling to grasp the purpose of linkedin. just returned from a shoot, feeling extremely tired and in need of a hug.\n",
            "Similarities with synthetic samples: [0.46803282 0.3646611  0.27005991]\n",
            "Average similarity: 0.3675846125098842\n",
            "\n",
            "Original instance (Class 0): i'm sorry, but i cannot provide a   without the actual text or content that needs to be summarized. please provide the text you would like me to summarize.\n",
            "Similarities with synthetic samples: [0.62744505 0.52272198 0.42911632]\n",
            "Average similarity: 0.5264277832081016\n",
            "\n",
            "Original instance (Class 1): i feel overwhelmed by the amount of work. how can i tell if i'm getting close? is it when i begin to plan out the specifics?\n",
            "Similarities with synthetic samples: [0.18936852 0.14487019 0.18936852]\n",
            "Average similarity: 0.17453574071983077\n",
            "\n",
            "Original instance (Class 1): i should stop being myself, a disaster, a disappointment, annoying, and so anxious.\n",
            "Similarities with synthetic samples: [0.03004584 0.1055771  0.26534147]\n",
            "Average similarity: 0.13365480372779484\n",
            "\n",
            "Original instance (Class 2): i went to the doctor's office and my blood pressure was higher than normal, which made me even more anxious. has this ever happened to any of you? if so, do you have any tips on how to relax?\n",
            "Similarities with synthetic samples: [0.33794921 0.33794921 0.33332307]\n",
            "Average similarity: 0.33640716449931957\n",
            "\n",
            "Original instance (Class 2): i had a panic attack during 1st period after spring break, and i had to leave. i feel defeated and unsure about going back. i didn't make a big deal out of it, just had random stage fright. i'm worried about tomorrow. i recognized that i was having a panic attack but didn't try to work through it. i feel like a loser for not handling it well today.\n",
            "Similarities with synthetic samples: [0.25442533 0.32218289 0.2423764 ]\n",
            "Average similarity: 0.27299487261942706\n",
            "\n",
            "Original instance (Class 3): i matched with a guy on a dating app, went on a few dates, and hooked up a couple of times, but it didn't work out due to being busy with work and having nothing to talk about. now, i see him in my dance class whatsapp group, and he's joining the same batch. i feel anxious and weird. i dance horribly, but it didn't matter before because i didn't know anyone. should i leave the class? it was my escape after moving to the city, and i don't want to leave, but i also don't want him to see this side of me. what should i do?\n",
            "Similarities with synthetic samples: [0.4423326  0.45510721 0.42124707]\n",
            "Average similarity: 0.4395622946687632\n",
            "\n",
            "Original instance (Class 3): i will see a 0 0 when i slit my wrist at this point.\n",
            "Similarities with synthetic samples: [0.47678079 0.5379005  0.47285118]\n",
            "Average similarity: 0.49584415664371173\n",
            "\n",
            "Temperature: 0.15000000000000002\n",
            "Original instance (Class 0): i am still struggling to grasp the purpose of linkedin. just returned from a shoot, feeling extremely tired and in need of a hug.\n",
            "Similarities with synthetic samples: [0.29633145 0.28862912 0.26519333]\n",
            "Average similarity: 0.28338463404710357\n",
            "\n",
            "Original instance (Class 0): i'm sorry, but i cannot provide a   without the actual text or content that needs to be summarized. please provide the text you would like me to summarize.\n",
            "Similarities with synthetic samples: [0.59069019 0.52005376 0.40684449]\n",
            "Average similarity: 0.5058628112192923\n",
            "\n",
            "Original instance (Class 1): i feel overwhelmed by the amount of work. how can i tell if i'm getting close? is it when i begin to plan out the specifics?\n",
            "Similarities with synthetic samples: [0.19589742 0.19589742 0.19589742]\n",
            "Average similarity: 0.19589742478958025\n",
            "\n",
            "Original instance (Class 1): i should stop being myself, a disaster, a disappointment, annoying, and so anxious.\n",
            "Similarities with synthetic samples: [0.33750848 0.35321042 0.1244645 ]\n",
            "Average similarity: 0.2717278006799759\n",
            "\n",
            "Original instance (Class 2): i went to the doctor's office and my blood pressure was higher than normal, which made me even more anxious. has this ever happened to any of you? if so, do you have any tips on how to relax?\n",
            "Similarities with synthetic samples: [0.22478908 0.35266947 0.35266947]\n",
            "Average similarity: 0.31004267524860146\n",
            "\n",
            "Original instance (Class 2): i had a panic attack during 1st period after spring break, and i had to leave. i feel defeated and unsure about going back. i didn't make a big deal out of it, just had random stage fright. i'm worried about tomorrow. i recognized that i was having a panic attack but didn't try to work through it. i feel like a loser for not handling it well today.\n",
            "Similarities with synthetic samples: [0.24145494 0.34435335 0.22680291]\n",
            "Average similarity: 0.27087040218315867\n",
            "\n",
            "Original instance (Class 3): i matched with a guy on a dating app, went on a few dates, and hooked up a couple of times, but it didn't work out due to being busy with work and having nothing to talk about. now, i see him in my dance class whatsapp group, and he's joining the same batch. i feel anxious and weird. i dance horribly, but it didn't matter before because i didn't know anyone. should i leave the class? it was my escape after moving to the city, and i don't want to leave, but i also don't want him to see this side of me. what should i do?\n",
            "Similarities with synthetic samples: [0.47204083 0.40302305 0.47155733]\n",
            "Average similarity: 0.44887373778493833\n",
            "\n",
            "Original instance (Class 3): i will see a 0 0 when i slit my wrist at this point.\n",
            "Similarities with synthetic samples: [0.18746846 0.52483834 0.52472829]\n",
            "Average similarity: 0.41234502584315297\n",
            "\n",
            "Temperature: 0.2\n",
            "Original instance (Class 0): i am still struggling to grasp the purpose of linkedin. just returned from a shoot, feeling extremely tired and in need of a hug.\n",
            "Similarities with synthetic samples: [0.36682197 0.41385178 0.45385417]\n",
            "Average similarity: 0.4115093059561245\n",
            "\n",
            "Original instance (Class 0): i'm sorry, but i cannot provide a   without the actual text or content that needs to be summarized. please provide the text you would like me to summarize.\n",
            "Similarities with synthetic samples: [0.47819739 0.63574052 0.45406554]\n",
            "Average similarity: 0.5226678163439443\n",
            "\n",
            "Original instance (Class 1): i feel overwhelmed by the amount of work. how can i tell if i'm getting close? is it when i begin to plan out the specifics?\n",
            "Similarities with synthetic samples: [0.18929407 0.17860932 0.21882804]\n",
            "Average similarity: 0.19557714258477935\n",
            "\n",
            "Original instance (Class 1): i should stop being myself, a disaster, a disappointment, annoying, and so anxious.\n",
            "Similarities with synthetic samples: [0.21859769 0.23645745 0.09679998]\n",
            "Average similarity: 0.18395170594184654\n",
            "\n",
            "Original instance (Class 2): i went to the doctor's office and my blood pressure was higher than normal, which made me even more anxious. has this ever happened to any of you? if so, do you have any tips on how to relax?\n",
            "Similarities with synthetic samples: [0.35607103 0.20944736 0.29708381]\n",
            "Average similarity: 0.2875340644380327\n",
            "\n",
            "Original instance (Class 2): i had a panic attack during 1st period after spring break, and i had to leave. i feel defeated and unsure about going back. i didn't make a big deal out of it, just had random stage fright. i'm worried about tomorrow. i recognized that i was having a panic attack but didn't try to work through it. i feel like a loser for not handling it well today.\n",
            "Similarities with synthetic samples: [0.26829676 0.29975062 0.24508813]\n",
            "Average similarity: 0.2710451710853094\n",
            "\n",
            "Original instance (Class 3): i matched with a guy on a dating app, went on a few dates, and hooked up a couple of times, but it didn't work out due to being busy with work and having nothing to talk about. now, i see him in my dance class whatsapp group, and he's joining the same batch. i feel anxious and weird. i dance horribly, but it didn't matter before because i didn't know anyone. should i leave the class? it was my escape after moving to the city, and i don't want to leave, but i also don't want him to see this side of me. what should i do?\n",
            "Similarities with synthetic samples: [0.45903451 0.43651796 0.46203576]\n",
            "Average similarity: 0.45252941229309235\n",
            "\n",
            "Original instance (Class 3): i will see a 0 0 when i slit my wrist at this point.\n",
            "Similarities with synthetic samples: [0.47530343 0.55751419 0.17431451]\n",
            "Average similarity: 0.40237737465127177\n",
            "\n",
            "Temperature: 0.25\n",
            "Original instance (Class 0): i am still struggling to grasp the purpose of linkedin. just returned from a shoot, feeling extremely tired and in need of a hug.\n",
            "Similarities with synthetic samples: [0.3033794  0.37926679 0.45672981]\n",
            "Average similarity: 0.3797920028553721\n",
            "\n",
            "Original instance (Class 0): i'm sorry, but i cannot provide a   without the actual text or content that needs to be summarized. please provide the text you would like me to summarize.\n",
            "Similarities with synthetic samples: [0.4530455  0.3619561  0.40661646]\n",
            "Average similarity: 0.40720601868246264\n",
            "\n",
            "Original instance (Class 1): i feel overwhelmed by the amount of work. how can i tell if i'm getting close? is it when i begin to plan out the specifics?\n",
            "Similarities with synthetic samples: [0.14487019 0.18936852 0.18936852]\n",
            "Average similarity: 0.17453574071983077\n",
            "\n",
            "Original instance (Class 1): i should stop being myself, a disaster, a disappointment, annoying, and so anxious.\n",
            "Similarities with synthetic samples: [0.33245703 0.2474113  0.49570675]\n",
            "Average similarity: 0.35852502774864653\n",
            "\n",
            "Original instance (Class 2): i went to the doctor's office and my blood pressure was higher than normal, which made me even more anxious. has this ever happened to any of you? if so, do you have any tips on how to relax?\n",
            "Similarities with synthetic samples: [0.35730282 0.33710395 0.39283485]\n",
            "Average similarity: 0.3624138726716442\n",
            "\n",
            "Original instance (Class 2): i had a panic attack during 1st period after spring break, and i had to leave. i feel defeated and unsure about going back. i didn't make a big deal out of it, just had random stage fright. i'm worried about tomorrow. i recognized that i was having a panic attack but didn't try to work through it. i feel like a loser for not handling it well today.\n",
            "Similarities with synthetic samples: [0.30735424 0.3126307  0.23150355]\n",
            "Average similarity: 0.28382949460932655\n",
            "\n",
            "Original instance (Class 3): i matched with a guy on a dating app, went on a few dates, and hooked up a couple of times, but it didn't work out due to being busy with work and having nothing to talk about. now, i see him in my dance class whatsapp group, and he's joining the same batch. i feel anxious and weird. i dance horribly, but it didn't matter before because i didn't know anyone. should i leave the class? it was my escape after moving to the city, and i don't want to leave, but i also don't want him to see this side of me. what should i do?\n",
            "Similarities with synthetic samples: [0.43582234 0.45740183 0.39750383]\n",
            "Average similarity: 0.4302426651205428\n",
            "\n",
            "Original instance (Class 3): i will see a 0 0 when i slit my wrist at this point.\n",
            "Similarities with synthetic samples: [0.03224582 0.36214732 0.41051443]\n",
            "Average similarity: 0.2683025239932828\n",
            "\n",
            "Temperature: 0.3\n",
            "Original instance (Class 0): i am still struggling to grasp the purpose of linkedin. just returned from a shoot, feeling extremely tired and in need of a hug.\n",
            "Similarities with synthetic samples: [0.25235299 0.25235299 0.31918171]\n",
            "Average similarity: 0.27462923151099616\n",
            "\n",
            "Original instance (Class 0): i'm sorry, but i cannot provide a   without the actual text or content that needs to be summarized. please provide the text you would like me to summarize.\n",
            "Similarities with synthetic samples: [0.44045743 0.36849364 0.50282308]\n",
            "Average similarity: 0.4372580512679162\n",
            "\n",
            "Original instance (Class 1): i feel overwhelmed by the amount of work. how can i tell if i'm getting close? is it when i begin to plan out the specifics?\n",
            "Similarities with synthetic samples: [0.17083912 0.20448332 0.17019428]\n",
            "Average similarity: 0.18183890630463015\n",
            "\n",
            "Original instance (Class 1): i should stop being myself, a disaster, a disappointment, annoying, and so anxious.\n",
            "Similarities with synthetic samples: [0.21711194 0.31615743 0.36317243]\n",
            "Average similarity: 0.29881392965424375\n",
            "\n",
            "Original instance (Class 2): i went to the doctor's office and my blood pressure was higher than normal, which made me even more anxious. has this ever happened to any of you? if so, do you have any tips on how to relax?\n",
            "Similarities with synthetic samples: [0.33409332 0.27605362 0.39596922]\n",
            "Average similarity: 0.3353720532407616\n",
            "\n",
            "Original instance (Class 2): i had a panic attack during 1st period after spring break, and i had to leave. i feel defeated and unsure about going back. i didn't make a big deal out of it, just had random stage fright. i'm worried about tomorrow. i recognized that i was having a panic attack but didn't try to work through it. i feel like a loser for not handling it well today.\n",
            "Similarities with synthetic samples: [0.31876106 0.32559117 0.25275078]\n",
            "Average similarity: 0.2990343382214078\n",
            "\n",
            "Original instance (Class 3): i matched with a guy on a dating app, went on a few dates, and hooked up a couple of times, but it didn't work out due to being busy with work and having nothing to talk about. now, i see him in my dance class whatsapp group, and he's joining the same batch. i feel anxious and weird. i dance horribly, but it didn't matter before because i didn't know anyone. should i leave the class? it was my escape after moving to the city, and i don't want to leave, but i also don't want him to see this side of me. what should i do?\n",
            "Similarities with synthetic samples: [0.48765433 0.46598138 0.46469675]\n",
            "Average similarity: 0.4727774875483361\n",
            "\n",
            "Original instance (Class 3): i will see a 0 0 when i slit my wrist at this point.\n",
            "Similarities with synthetic samples: [0.51178586 0.45484639 0.19862958]\n",
            "Average similarity: 0.3884206092445464\n",
            "\n",
            "Temperature: 0.35000000000000003\n",
            "Original instance (Class 0): i am still struggling to grasp the purpose of linkedin. just returned from a shoot, feeling extremely tired and in need of a hug.\n",
            "Similarities with synthetic samples: [0.38212154 0.40365284 0.36763507]\n",
            "Average similarity: 0.38446981542976494\n",
            "\n",
            "Original instance (Class 0): i'm sorry, but i cannot provide a   without the actual text or content that needs to be summarized. please provide the text you would like me to summarize.\n",
            "Similarities with synthetic samples: [0.76322491 0.46605536 0.7768168 ]\n",
            "Average similarity: 0.6686990237152487\n",
            "\n",
            "Original instance (Class 1): i feel overwhelmed by the amount of work. how can i tell if i'm getting close? is it when i begin to plan out the specifics?\n",
            "Similarities with synthetic samples: [0.19349005 0.19349005 0.23782252]\n",
            "Average similarity: 0.20826753997266986\n",
            "\n",
            "Original instance (Class 1): i should stop being myself, a disaster, a disappointment, annoying, and so anxious.\n",
            "Similarities with synthetic samples: [0.05446986 0.33041894 0.28003287]\n",
            "Average similarity: 0.22164055717569256\n",
            "\n",
            "Original instance (Class 2): i went to the doctor's office and my blood pressure was higher than normal, which made me even more anxious. has this ever happened to any of you? if so, do you have any tips on how to relax?\n",
            "Similarities with synthetic samples: [0.26463154 0.33667422 0.33395103]\n",
            "Average similarity: 0.3117522626530099\n",
            "\n",
            "Original instance (Class 2): i had a panic attack during 1st period after spring break, and i had to leave. i feel defeated and unsure about going back. i didn't make a big deal out of it, just had random stage fright. i'm worried about tomorrow. i recognized that i was having a panic attack but didn't try to work through it. i feel like a loser for not handling it well today.\n",
            "Similarities with synthetic samples: [0.24138638 0.32113835 0.23925956]\n",
            "Average similarity: 0.26726142964420124\n",
            "\n",
            "Original instance (Class 3): i matched with a guy on a dating app, went on a few dates, and hooked up a couple of times, but it didn't work out due to being busy with work and having nothing to talk about. now, i see him in my dance class whatsapp group, and he's joining the same batch. i feel anxious and weird. i dance horribly, but it didn't matter before because i didn't know anyone. should i leave the class? it was my escape after moving to the city, and i don't want to leave, but i also don't want him to see this side of me. what should i do?\n",
            "Similarities with synthetic samples: [0.44313255 0.44098799 0.43926975]\n",
            "Average similarity: 0.4411300947934458\n",
            "\n",
            "Original instance (Class 3): i will see a 0 0 when i slit my wrist at this point.\n",
            "Similarities with synthetic samples: [0.49979211 0.30012726 0.40066969]\n",
            "Average similarity: 0.40019635632466827\n",
            "\n",
            "Temperature: 0.4\n",
            "Original instance (Class 0): i am still struggling to grasp the purpose of linkedin. just returned from a shoot, feeling extremely tired and in need of a hug.\n",
            "Similarities with synthetic samples: [0.29988562 0.53300716 0.47073652]\n",
            "Average similarity: 0.43454309589042595\n",
            "\n",
            "Original instance (Class 0): i'm sorry, but i cannot provide a   without the actual text or content that needs to be summarized. please provide the text you would like me to summarize.\n",
            "Similarities with synthetic samples: [0.40544276 0.55989115 0.5193718 ]\n",
            "Average similarity: 0.4949019070262866\n",
            "\n",
            "Original instance (Class 1): i feel overwhelmed by the amount of work. how can i tell if i'm getting close? is it when i begin to plan out the specifics?\n",
            "Similarities with synthetic samples: [0.1662851  0.15924488 0.17972522]\n",
            "Average similarity: 0.16841840160793184\n",
            "\n",
            "Original instance (Class 1): i should stop being myself, a disaster, a disappointment, annoying, and so anxious.\n",
            "Similarities with synthetic samples: [0.12179563 0.08340431 0.08532052]\n",
            "Average similarity: 0.09684015327154638\n",
            "\n",
            "Original instance (Class 2): i went to the doctor's office and my blood pressure was higher than normal, which made me even more anxious. has this ever happened to any of you? if so, do you have any tips on how to relax?\n",
            "Similarities with synthetic samples: [0.16210172 0.38490058 0.33631296]\n",
            "Average similarity: 0.29443841857649483\n",
            "\n",
            "Original instance (Class 2): i had a panic attack during 1st period after spring break, and i had to leave. i feel defeated and unsure about going back. i didn't make a big deal out of it, just had random stage fright. i'm worried about tomorrow. i recognized that i was having a panic attack but didn't try to work through it. i feel like a loser for not handling it well today.\n",
            "Similarities with synthetic samples: [0.24544222 0.26775328 0.42406819]\n",
            "Average similarity: 0.3124212302007353\n",
            "\n",
            "Original instance (Class 3): i matched with a guy on a dating app, went on a few dates, and hooked up a couple of times, but it didn't work out due to being busy with work and having nothing to talk about. now, i see him in my dance class whatsapp group, and he's joining the same batch. i feel anxious and weird. i dance horribly, but it didn't matter before because i didn't know anyone. should i leave the class? it was my escape after moving to the city, and i don't want to leave, but i also don't want him to see this side of me. what should i do?\n",
            "Similarities with synthetic samples: [0.4246059  0.44403774 0.4661891 ]\n",
            "Average similarity: 0.4449442472318946\n",
            "\n",
            "Original instance (Class 3): i will see a 0 0 when i slit my wrist at this point.\n",
            "Similarities with synthetic samples: [0.25860489 0.27493705 0.50221595]\n",
            "Average similarity: 0.34525262820294733\n",
            "\n",
            "Temperature: 0.45\n",
            "Original instance (Class 0): i am still struggling to grasp the purpose of linkedin. just returned from a shoot, feeling extremely tired and in need of a hug.\n",
            "Similarities with synthetic samples: [0.30634767 0.28065526 0.53010816]\n",
            "Average similarity: 0.37237036384336725\n",
            "\n",
            "Original instance (Class 0): i'm sorry, but i cannot provide a   without the actual text or content that needs to be summarized. please provide the text you would like me to summarize.\n",
            "Similarities with synthetic samples: [0.59485262 0.78527136 0.49137645]\n",
            "Average similarity: 0.6238334737615158\n",
            "\n",
            "Original instance (Class 1): i feel overwhelmed by the amount of work. how can i tell if i'm getting close? is it when i begin to plan out the specifics?\n",
            "Similarities with synthetic samples: [0.17834815 0.23134032 0.16498266]\n",
            "Average similarity: 0.1915570454043791\n",
            "\n",
            "Original instance (Class 1): i should stop being myself, a disaster, a disappointment, annoying, and so anxious.\n",
            "Similarities with synthetic samples: [0.13224507 0.45594598 0.14824664]\n",
            "Average similarity: 0.2454792301360705\n",
            "\n",
            "Original instance (Class 2): i went to the doctor's office and my blood pressure was higher than normal, which made me even more anxious. has this ever happened to any of you? if so, do you have any tips on how to relax?\n",
            "Similarities with synthetic samples: [0.33887077 0.40851982 0.25984217]\n",
            "Average similarity: 0.3357442533331409\n",
            "\n",
            "Original instance (Class 2): i had a panic attack during 1st period after spring break, and i had to leave. i feel defeated and unsure about going back. i didn't make a big deal out of it, just had random stage fright. i'm worried about tomorrow. i recognized that i was having a panic attack but didn't try to work through it. i feel like a loser for not handling it well today.\n",
            "Similarities with synthetic samples: [0.28587316 0.31623414 0.23688694]\n",
            "Average similarity: 0.2796647463664133\n",
            "\n",
            "Original instance (Class 3): i matched with a guy on a dating app, went on a few dates, and hooked up a couple of times, but it didn't work out due to being busy with work and having nothing to talk about. now, i see him in my dance class whatsapp group, and he's joining the same batch. i feel anxious and weird. i dance horribly, but it didn't matter before because i didn't know anyone. should i leave the class? it was my escape after moving to the city, and i don't want to leave, but i also don't want him to see this side of me. what should i do?\n",
            "Similarities with synthetic samples: [0.46181263 0.45558393 0.44533122]\n",
            "Average similarity: 0.4542425911745696\n",
            "\n",
            "Original instance (Class 3): i will see a 0 0 when i slit my wrist at this point.\n",
            "Similarities with synthetic samples: [0.05045102 0.08577727 0.4273795 ]\n",
            "Average similarity: 0.1878692631825175\n",
            "\n",
            "Temperature: 0.5\n",
            "Original instance (Class 0): i am still struggling to grasp the purpose of linkedin. just returned from a shoot, feeling extremely tired and in need of a hug.\n",
            "Similarities with synthetic samples: [0.35273849 0.30877558 0.29246496]\n",
            "Average similarity: 0.3179930113249474\n",
            "\n",
            "Original instance (Class 0): i'm sorry, but i cannot provide a   without the actual text or content that needs to be summarized. please provide the text you would like me to summarize.\n",
            "Similarities with synthetic samples: [0.41542308 0.44368353 0.5901994 ]\n",
            "Average similarity: 0.4831020015676943\n",
            "\n",
            "Original instance (Class 1): i feel overwhelmed by the amount of work. how can i tell if i'm getting close? is it when i begin to plan out the specifics?\n",
            "Similarities with synthetic samples: [0.22235058 0.17694537 0.26496896]\n",
            "Average similarity: 0.22142163972073337\n",
            "\n",
            "Original instance (Class 1): i should stop being myself, a disaster, a disappointment, annoying, and so anxious.\n",
            "Similarities with synthetic samples: [0.39196142 0.37553899 0.11075591]\n",
            "Average similarity: 0.29275210817222713\n",
            "\n",
            "Original instance (Class 2): i went to the doctor's office and my blood pressure was higher than normal, which made me even more anxious. has this ever happened to any of you? if so, do you have any tips on how to relax?\n",
            "Similarities with synthetic samples: [0.3993705  0.26160404 0.26984913]\n",
            "Average similarity: 0.3102745560525719\n",
            "\n",
            "Original instance (Class 2): i had a panic attack during 1st period after spring break, and i had to leave. i feel defeated and unsure about going back. i didn't make a big deal out of it, just had random stage fright. i'm worried about tomorrow. i recognized that i was having a panic attack but didn't try to work through it. i feel like a loser for not handling it well today.\n",
            "Similarities with synthetic samples: [0.23028325 0.29146896 0.33818823]\n",
            "Average similarity: 0.2866468136143669\n",
            "\n",
            "Original instance (Class 3): i matched with a guy on a dating app, went on a few dates, and hooked up a couple of times, but it didn't work out due to being busy with work and having nothing to talk about. now, i see him in my dance class whatsapp group, and he's joining the same batch. i feel anxious and weird. i dance horribly, but it didn't matter before because i didn't know anyone. should i leave the class? it was my escape after moving to the city, and i don't want to leave, but i also don't want him to see this side of me. what should i do?\n",
            "Similarities with synthetic samples: [0.43525529 0.43948817 0.43816294]\n",
            "Average similarity: 0.43763546389463653\n",
            "\n",
            "Original instance (Class 3): i will see a 0 0 when i slit my wrist at this point.\n",
            "Similarities with synthetic samples: [0.47746713 0.46104024 0.33678092]\n",
            "Average similarity: 0.42509609378227275\n",
            "\n"
          ]
        }
      ]
    },
    {
      "cell_type": "code",
      "source": [],
      "metadata": {
        "id": "u-MUQN4k1tQO"
      },
      "execution_count": null,
      "outputs": []
    },
    {
      "cell_type": "code",
      "source": [],
      "metadata": {
        "id": "fJr7BcsT1tNE"
      },
      "execution_count": null,
      "outputs": []
    },
    {
      "cell_type": "code",
      "source": [],
      "metadata": {
        "id": "KHEg7d721tKF"
      },
      "execution_count": null,
      "outputs": []
    },
    {
      "cell_type": "code",
      "source": [
        "from sklearn.utils import shuffle\n",
        "\n",
        "samples_needed = {\n",
        "    0: 3866 - 3120,  # Class 0: 3120 is the current count\n",
        "    1: 3866 - 1007,  # Class 1: 1007 is the current count\n",
        "    2: 3866 - 1116,  # Class 2: 1116 is the current count\n",
        "    3: 3866 - 941    # Class 3: 941 is the current count\n",
        "}\n",
        "\n",
        "# Collect misclassified instances per class\n",
        "misclassified_data_per_class = {0: [], 1: [], 2: [], 3: []}\n",
        "\n",
        "for instance, label in zip(X_misclassified.to_numpy(), y_misclassified):\n",
        "    if label in misclassified_data_per_class:\n",
        "        misclassified_data_per_class[label].append(instance)\n",
        "\n",
        "# Generate augmented data\n",
        "X_augmented = []\n",
        "y_augmented = []\n",
        "\n",
        "for label, misclassified_instances in misclassified_data_per_class.items():\n",
        "    num_misclassified = len(misclassified_instances)\n",
        "    instances_to_generate = samples_needed[label]\n",
        "    samples_per_instance = max(1, instances_to_generate // num_misclassified)\n",
        "\n",
        "    for instance in misclassified_instances:\n",
        "        synthetic_samples = generate_augmented_data(instance, label, num_samples=samples_per_instance)\n",
        "        X_augmented.extend(synthetic_samples)\n",
        "        y_augmented.extend([label] * len(synthetic_samples))\n",
        "\n",
        "# Convert augmented data to a dtaframe\n",
        "X_augmented_df = pd.DataFrame(X_augmented, columns=X_train.columns)\n",
        "\n",
        "# Combine original and augmented data\n",
        "X_combined = pd.concat([X_train, X_augmented_df], ignore_index=True)\n",
        "y_combined = np.concatenate([y_train, y_augmented])\n",
        "\n",
        "# Shuffle the combined dataset\n",
        "X_combined, y_combined = shuffle(X_combined, y_combined, random_state=42)\n",
        "\n",
        "print(\"Augmented training set size:\", X_combined.shape)"
      ],
      "metadata": {
        "id": "xQLjh8v2Sohp"
      },
      "execution_count": null,
      "outputs": []
    },
    {
      "cell_type": "code",
      "source": [
        "# temperatures for testing\n",
        "temperatures = [0.4, 0.5, 0.6, 0.7]\n",
        "\n",
        "similarity_results = {temp: [] for temp in temperatures}\n",
        "\n",
        "# Generate and evaluate synthetic data for each temperature\n",
        "for temperature in temperatures:\n",
        "    for label, instances in misclassified_instances.items():\n",
        "        for original_instance in instances:\n",
        "            synthetic_samples = generate_augmented_data(original_instance, label, temperature, num_samples=4)\n",
        "            similarities = calculate_similarity(original_instance, synthetic_samples)\n",
        "            similarity_results[temperature].extend(similarities)\n",
        "\n",
        "# average similarity for each temperature\n",
        "average_similarities = {temp: np.mean(similarities) for temp, similarities in similarity_results.items()}\n",
        "\n",
        "# Plot the results\n",
        "plt.figure(figsize=(10, 6))\n",
        "plt.plot(temperatures, list(average_similarities.values()), marker='o')\n",
        "plt.title('Cosine Similarity vs. Temperature')\n",
        "plt.xlabel('Temperature')\n",
        "plt.ylabel('Average Cosine Similarity')\n",
        "plt.grid(True)\n",
        "plt.show()"
      ],
      "metadata": {
        "id": "xcW-QolGzL_G"
      },
      "execution_count": null,
      "outputs": []
    },
    {
      "cell_type": "code",
      "source": [],
      "metadata": {
        "id": "4jSAMfuSzL8p"
      },
      "execution_count": null,
      "outputs": []
    },
    {
      "cell_type": "code",
      "source": [
        "from xgboost import XGBClassifier\n",
        "from sklearn.metrics import classification_report\n",
        "\n",
        "model = XGBClassifier()\n",
        "model.fit(X_combined, y_combined)\n",
        "\n",
        "y_pred = model.predict(X_test)\n",
        "\n",
        "print(classification_report(y_test, y_pred))"
      ],
      "metadata": {
        "id": "HDC5-APZWGWg"
      },
      "execution_count": null,
      "outputs": []
    }
  ]
}