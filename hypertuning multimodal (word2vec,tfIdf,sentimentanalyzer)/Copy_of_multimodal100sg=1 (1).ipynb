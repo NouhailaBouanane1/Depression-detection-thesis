{
  "nbformat": 4,
  "nbformat_minor": 0,
  "metadata": {
    "colab": {
      "provenance": [],
      "machine_shape": "hm",
      "gpuType": "L4"
    },
    "kernelspec": {
      "name": "python3",
      "display_name": "Python 3"
    },
    "language_info": {
      "name": "python"
    },
    "accelerator": "GPU"
  },
  "cells": [
    {
      "cell_type": "code",
      "execution_count": null,
      "metadata": {
        "colab": {
          "base_uri": "https://localhost:8080/"
        },
        "id": "Hir7gO-P7Ldt",
        "outputId": "40944303-8edc-44d7-d944-10c7eedbe213"
      },
      "outputs": [
        {
          "output_type": "stream",
          "name": "stdout",
          "text": [
            "Mounted at /content/drive\n"
          ]
        }
      ],
      "source": [
        "import pandas as pd\n",
        "from google.colab import drive\n",
        "drive.mount('/content/drive')\n"
      ]
    },
    {
      "cell_type": "code",
      "source": [
        "import pandas as pd\n",
        "import numpy as np\n",
        "import nltk\n",
        "import re\n",
        "import string\n",
        "from sklearn.feature_extraction.text import TfidfVectorizer\n",
        "from sklearn.pipeline import Pipeline\n",
        "from nltk.tokenize import word_tokenize\n",
        "from nltk.stem import WordNetLemmatizer\n",
        "from nltk.corpus import wordnet\n",
        "from nltk.corpus import stopwords\n",
        "import joblib\n",
        "from sklearn.utils.class_weight import compute_sample_weight\n",
        "from sklearn.metrics import classification_report\n",
        "from sklearn.utils import shuffle\n",
        "import xgboost as xgb\n",
        "from sklearn.feature_extraction.text import TfidfVectorizer\n",
        "from nltk.sentiment import SentimentIntensityAnalyzer\n",
        "from xgboost import XGBClassifier\n",
        "from gensim.models import Word2Vec\n",
        "\n",
        "# Download NLTK resources (if not already downloaded)\n",
        "nltk.download('punkt')\n",
        "nltk.download('wordnet')\n",
        "nltk.download('averaged_perceptron_tagger')\n",
        "nltk.download('stopwords')\n",
        "nltk.download('vader_lexicon')\n",
        "# Import NLTK English stopwords\n",
        "stop_words = set(stopwords.words('english'))\n",
        "\n",
        "# Define lemmatization function\n",
        "def lemmatize_tokens(tokens):\n",
        "    lemmatizer = WordNetLemmatizer()\n",
        "\n",
        "    # Convert POS tag to WordNet format\n",
        "    def get_wordnet_pos(word):\n",
        "        tag = nltk.pos_tag([word])[0][1][0].upper()\n",
        "        tag_dict = {\"J\": wordnet.ADJ,\n",
        "                    \"N\": wordnet.NOUN,\n",
        "                    \"V\": wordnet.VERB,\n",
        "                    \"R\": wordnet.ADV}\n",
        "        return tag_dict.get(tag, wordnet.NOUN)\n",
        "\n",
        "    # Lemmatize tokens\n",
        "    lemmas = [lemmatizer.lemmatize(token, get_wordnet_pos(token)) for token in tokens]\n",
        "\n",
        "    # Return lemmatized tokens as a list\n",
        "    return lemmas\n",
        "\n",
        "# Custom preprocessing function\n",
        "def preprocessing(text):\n",
        "    # Convert text to lowercase\n",
        "    lower_text = text.lower()\n",
        "\n",
        "    # Remove punctuation\n",
        "    punctuation_free = \"\".join([char for char in lower_text if char not in string.punctuation])\n",
        "\n",
        "    # Remove URLs\n",
        "    remove_urls = re.sub(r'http\\S+', '', punctuation_free)\n",
        "\n",
        "    # Remove digits\n",
        "    remove_digits = re.sub(r'\\d', '', remove_urls)\n",
        "\n",
        "    # Tokenize text\n",
        "    tokenized_text = word_tokenize(remove_digits)\n",
        "\n",
        "    # Remove stop words\n",
        "    filtered_tokens = [token for token in tokenized_text if token not in stop_words]\n",
        "\n",
        "    # Lemmatize tokens\n",
        "    lemmatized_tokens = lemmatize_tokens(filtered_tokens)\n",
        "\n",
        "    return lemmatized_tokens  # Return tokenized and lemmatized tokens\n",
        "\n",
        "# Load data\n",
        "X_augmented = joblib.load('/content/drive/My Drive/Master_Thesis/X_augmented.pkl')\n",
        "y_augmented = joblib.load('/content/drive/My Drive/Master_Thesis/y_augmented.pkl')\n",
        "X_train = joblib.load('/content/drive/My Drive/Master_Thesis/X_train.pkl')\n",
        "y_train = joblib.load('/content/drive/My Drive/Master_Thesis/y_train.pkl')\n",
        "X_test = joblib.load('/content/drive/My Drive/Master_Thesis/X_test.pkl')\n",
        "y_test = joblib.load('/content/drive/My Drive/Master_Thesis/y_test.pkl')\n",
        "\n",
        "# Concatenate X_train and X_augmented\n",
        "X_combined = pd.concat([X_train, pd.Series(X_augmented)], ignore_index=True)\n",
        "\n",
        "# Combine y_train and y_augmented\n",
        "y_combined = np.concatenate([y_train, np.array(y_augmented)])\n",
        "\n",
        "# Ensure y_combined is a numpy array\n",
        "if not isinstance(y_combined, np.ndarray):\n",
        "    raise TypeError(\"y_combined is not a numpy array.\")\n",
        "\n",
        "# Shuffle X_combined and y_combined together\n",
        "X_combined, y_combined = shuffle(X_combined, y_combined, random_state=42)\n",
        "\n",
        "# Check the first few rows of X_combined\n",
        "print(\"First few rows of X_combined:\")\n",
        "print(X_combined.head())\n",
        "\n",
        "# Ensure X_combined is a Series\n",
        "if not isinstance(X_combined, pd.Series):\n",
        "    raise TypeError(\"X_combined is not a Series.\")\n",
        "\n",
        "# Define TF-IDF Vectorizer pipeline\n",
        "tfidf_data_augmented = Pipeline([\n",
        "    ('tfidf', TfidfVectorizer(\n",
        "        tokenizer=lambda text: preprocessing(text),  # Custom preprocessing function\n",
        "        stop_words='english',        # Remove English stopwords\n",
        "        ngram_range=(1, 1)           # Consider only unigrams\n",
        "    ))\n",
        "])\n",
        "\n",
        "# Fit and transform the combined data\n",
        "X_combined_tfidf = tfidf_data_augmented.fit_transform(X_combined)\n",
        "X_test_tfidf = tfidf_data_augmented.transform(X_test)\n",
        "\n",
        "# Train Word2Vec model with tokenized sentences\n",
        "tokenized_combined = [preprocessing(post) for post in X_combined]\n",
        "tokenized_test = [preprocessing(post) for post in X_test]\n",
        "word2vec_model = Word2Vec(sentences=tokenized_combined)\n",
        "\n",
        "# Function to obtain Word2Vec embedding for a sentence\n",
        "def get_word2vec_embedding(model, tokens, size=100,sg=1):\n",
        "    vec = np.zeros(size)\n",
        "    count = 0\n",
        "    for token in tokens:\n",
        "        if token in model.wv:\n",
        "            vec += model.wv[token]\n",
        "            count += 1\n",
        "    if count != 0:\n",
        "        vec /= count\n",
        "    return vec\n",
        "\n",
        "# Obtain Word2Vec embeddings for each post\n",
        "X_train_word2vec = np.array([get_word2vec_embedding(word2vec_model, post) for post in tokenized_combined])\n",
        "X_test_word2vec = np.array([get_word2vec_embedding(word2vec_model, post) for post in tokenized_test])\n",
        "\n",
        "# VADER Sentiment Analysis\n",
        "sia = SentimentIntensityAnalyzer()\n",
        "X_train_vader = np.array([list(sia.polarity_scores(' '.join(doc)).values()) for doc in tokenized_combined])\n",
        "X_test_vader = np.array([list(sia.polarity_scores(' '.join(doc)).values()) for doc in tokenized_test])\n",
        "\n",
        "# Combine features\n",
        "# Concatenate the feature vectors\n",
        "X_train_combined = np.concatenate((X_combined_tfidf.toarray(), X_train_word2vec, X_train_vader), axis=1)\n",
        "X_test_combined = np.concatenate((X_test_tfidf.toarray(), X_test_word2vec, X_test_vader), axis=1)\n"
      ],
      "metadata": {
        "colab": {
          "base_uri": "https://localhost:8080/"
        },
        "id": "b39cvEUC8GWh",
        "outputId": "9ee918fd-975c-464d-f5a0-3ce3aa12da7b"
      },
      "execution_count": null,
      "outputs": [
        {
          "output_type": "stream",
          "name": "stderr",
          "text": [
            "[nltk_data] Downloading package punkt to /root/nltk_data...\n",
            "[nltk_data]   Unzipping tokenizers/punkt.zip.\n",
            "[nltk_data] Downloading package wordnet to /root/nltk_data...\n",
            "[nltk_data] Downloading package averaged_perceptron_tagger to\n",
            "[nltk_data]     /root/nltk_data...\n",
            "[nltk_data]   Unzipping taggers/averaged_perceptron_tagger.zip.\n",
            "[nltk_data] Downloading package stopwords to /root/nltk_data...\n",
            "[nltk_data]   Unzipping corpora/stopwords.zip.\n",
            "[nltk_data] Downloading package vader_lexicon to /root/nltk_data...\n"
          ]
        },
        {
          "output_type": "stream",
          "name": "stdout",
          "text": [
            "First few rows of X_combined:\n",
            "150      i am sorry, but the text \"jessicafilan it is\" ...\n",
            "6887     i had a rough day today. it felt like everythi...\n",
            "13077    i just can't shake this feeling of dread that ...\n",
            "9513     i feel overwhelmed and torn between two confli...\n",
            "9666     i find myself in the same boat every night, dr...\n",
            "dtype: object\n"
          ]
        },
        {
          "output_type": "stream",
          "name": "stderr",
          "text": [
            "/usr/local/lib/python3.10/dist-packages/sklearn/feature_extraction/text.py:528: UserWarning: The parameter 'token_pattern' will not be used since 'tokenizer' is not None'\n",
            "  warnings.warn(\n",
            "/usr/local/lib/python3.10/dist-packages/sklearn/feature_extraction/text.py:409: UserWarning: Your stop_words may be inconsistent with your preprocessing. Tokenizing the stop words generated tokens ['make', 'u'] not in stop_words.\n",
            "  warnings.warn(\n"
          ]
        }
      ]
    },
    {
      "cell_type": "code",
      "source": [
        "# Check the shapes of TF-IDF matrices\n",
        "print(\"Number of features in X_combined_tfidf:\", X_combined_tfidf.shape[1])\n",
        "print(\"Number of features in X_test_tfidf:\", X_test_tfidf.shape[1])\n",
        "\n",
        "# Compute sample weights for handling class imbalance\n",
        "sample_weights = compute_sample_weight(class_weight='balanced', y=y_combined)\n",
        "\n",
        "# Define the best parameters for XGBClassifier\n",
        "best_xgb_params = {\n",
        "    'n_estimators': 120,\n",
        "    'min_child_weight': 1,\n",
        "    'max_depth': 5,\n",
        "    'learning_rate': 0.23,\n",
        "    'lambda': 0.04,\n",
        "    'gamma': 0.7,\n",
        "    'alpha': 0.1\n",
        "}\n",
        "\n",
        "# Create XGBClassifier with the best parameters\n",
        "best_xgb_classifier = xgb.XGBClassifier(**best_xgb_params)\n",
        "\n",
        "# Fit the model with the transformed training data\n",
        "best_xgb_classifier.fit(X_train_combined, y_combined, sample_weight=sample_weights)\n",
        "\n",
        "# Make predictions on the test data\n",
        "y_pred = best_xgb_classifier.predict(X_test_combined)\n",
        "\n",
        "# Print the classification report\n",
        "classification_rep = classification_report(y_test, y_pred)\n",
        "print(classification_rep)\n",
        "\"\"\"\n",
        "Number of features in X_combined_tfidf: 11246\n",
        "Number of features in X_test_tfidf: 11246\n",
        "\n",
        "              precision    recall  f1-score   support\n",
        "\n",
        "           0       0.93      0.97      0.95       780\n",
        "           1       0.71      0.71      0.71       252\n",
        "           2       0.77      0.67      0.72       279\n",
        "           3       0.66      0.69      0.67       236\n",
        "\n",
        "    accuracy                           0.83      1547\n",
        "   macro avg       0.77      0.76      0.76      1547\n",
        "weighted avg       0.83      0.83      0.83      1547\n",
        "\"\"\"\n"
      ],
      "metadata": {
        "colab": {
          "base_uri": "https://localhost:8080/",
          "height": 296
        },
        "id": "Sv6zGTtr9a1T",
        "outputId": "6d28981e-9e9b-46bd-a6cf-de2a86b30e47"
      },
      "execution_count": null,
      "outputs": [
        {
          "output_type": "stream",
          "name": "stdout",
          "text": [
            "Number of features in X_combined_tfidf: 11246\n",
            "Number of features in X_test_tfidf: 11246\n",
            "              precision    recall  f1-score   support\n",
            "\n",
            "           0       0.94      0.97      0.96       780\n",
            "           1       0.73      0.73      0.73       252\n",
            "           2       0.76      0.68      0.72       279\n",
            "           3       0.64      0.66      0.65       236\n",
            "\n",
            "    accuracy                           0.83      1547\n",
            "   macro avg       0.77      0.76      0.76      1547\n",
            "weighted avg       0.83      0.83      0.83      1547\n",
            "\n"
          ]
        },
        {
          "output_type": "execute_result",
          "data": {
            "text/plain": [
              "'\\nNumber of features in X_combined_tfidf: 11246\\nNumber of features in X_test_tfidf: 11246\\n\\n              precision    recall  f1-score   support\\n\\n           0       0.93      0.97      0.95       780\\n           1       0.71      0.71      0.71       252\\n           2       0.77      0.67      0.72       279\\n           3       0.66      0.69      0.67       236\\n\\n    accuracy                           0.83      1547\\n   macro avg       0.77      0.76      0.76      1547\\nweighted avg       0.83      0.83      0.83      1547\\n'"
            ],
            "application/vnd.google.colaboratory.intrinsic+json": {
              "type": "string"
            }
          },
          "metadata": {},
          "execution_count": 4
        }
      ]
    },
    {
      "cell_type": "code",
      "source": [
        "import matplotlib.pyplot as plt\n",
        "import seaborn as sns\n",
        "from sklearn.metrics import confusion_matrix\n",
        "\n",
        "# Compute confusion matrix\n",
        "conf_matrix = confusion_matrix(y_test, y_pred)\n",
        "\n",
        "# Plot confusion matrix\n",
        "plt.figure(figsize=(10, 8))\n",
        "sns.heatmap(conf_matrix, annot=True, fmt='d', cmap='Blues', cbar=False)\n",
        "plt.xlabel('Predicted Label')\n",
        "plt.ylabel('True Label')\n",
        "plt.title('Confusion Matrix')\n",
        "#plt.savefig('/content/drive/My Drive/Master_Thesis/confusion matrix XGBoost.png')\n",
        "plt.show()"
      ],
      "metadata": {
        "colab": {
          "base_uri": "https://localhost:8080/",
          "height": 718
        },
        "id": "lYpG5PDDDZe8",
        "outputId": "3c4cb645-f755-4e99-8a07-a8ecfc730ffd"
      },
      "execution_count": null,
      "outputs": [
        {
          "output_type": "display_data",
          "data": {
            "text/plain": [
              "<Figure size 1000x800 with 1 Axes>"
            ],
            "image/png": "[encoded data removed]"
          },
          "metadata": {}
        }
      ]
    },
    {
      "cell_type": "code",
      "source": [
        "from sklearn.model_selection import learning_curve\n",
        "import numpy as np\n",
        "import matplotlib.pyplot as plt\n",
        "\n",
        "# Assuming best_xgb_classifier is defined and trained\n",
        "# Plot learning curve\n",
        "train_sizes, train_scores, valid_scores = learning_curve(\n",
        "    best_xgb_classifier, X_train_combined, y_combined,\n",
        "    train_sizes=np.linspace(0.1, 1.0, 10),\n",
        "    scoring='f1_weighted', cv=10, shuffle=True)\n",
        "\n",
        "train_scores_mean = np.mean(train_scores, axis=1)\n",
        "train_scores_std = np.std(train_scores, axis=1)\n",
        "valid_scores_mean = np.mean(valid_scores, axis=1)\n",
        "valid_scores_std = np.std(valid_scores, axis=1)\n",
        "\n",
        "# Print final F1 scores for training and validation\n",
        "final_train_f1_mean = train_scores_mean[-1]\n",
        "final_valid_f1_mean = valid_scores_mean[-1]\n",
        "\n",
        "plt.figure(figsize=(10, 6))\n",
        "plt.title('Learning Curve of Best Params:n_estimators:120, min_child_weight:1, max_depth:5, learning_rate:0.23, lambda:0.04, gamma:0.7, alpha:0.1')\n",
        "plt.xlabel('Training Examples')\n",
        "plt.ylabel('F1 Score')\n",
        "\n",
        "plt.fill_between(train_sizes, train_scores_mean - train_scores_std,\n",
        "                 train_scores_mean + train_scores_std, alpha=0.1, color=\"orange\")\n",
        "plt.fill_between(train_sizes, valid_scores_mean - valid_scores_std,\n",
        "                 valid_scores_mean + valid_scores_std, alpha=0.1, color=\"blue\")\n",
        "plt.plot(train_sizes, train_scores_mean, 'o-', color=\"orange\", label=\"Training Score\")\n",
        "plt.plot(train_sizes, valid_scores_mean, 'o-', color=\"blue\", label=\"Validation Score\")\n",
        "# Add annotations for the final F1 scores\n",
        "plt.annotate(f'{final_train_f1_mean:.4f}',\n",
        "             xy=(train_sizes[-1], final_train_f1_mean),\n",
        "             xytext=(train_sizes[-1], final_train_f1_mean- 0.03),\n",
        "             arrowprops=dict(facecolor='orange', shrink=0.05),\n",
        "             fontsize=8, color='orange', ha='center')\n",
        "\n",
        "plt.annotate(f'{final_valid_f1_mean:.4f}',\n",
        "             xy=(train_sizes[-1], final_valid_f1_mean),\n",
        "             xytext=(train_sizes[-1], final_valid_f1_mean- 0.03),\n",
        "             arrowprops=dict(facecolor='blue', shrink=0.05),\n",
        "             fontsize=8, color='blue', ha='center')\n",
        "\n",
        "plt.legend(loc=\"best\")\n",
        "plt.grid()\n",
        "#plt.savefig('/content/drive/My Drive/Master_Thesis/learning_curve_best_params_XGBoost.png')  # Save the plot with filename based on class number\n",
        "\n",
        "plt.show()"
      ],
      "metadata": {
        "id": "dzrFet2SD2uz"
      },
      "execution_count": null,
      "outputs": []
    }
  ]
}