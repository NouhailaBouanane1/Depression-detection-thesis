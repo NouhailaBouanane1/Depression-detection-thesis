{
  "nbformat": 4,
  "nbformat_minor": 0,
  "metadata": {
    "colab": {
      "provenance": []
    },
    "kernelspec": {
      "name": "python3",
      "display_name": "Python 3"
    },
    "language_info": {
      "name": "python"
    }
  },
  "cells": [
    {
      "cell_type": "code",
      "execution_count": null,
      "metadata": {
        "colab": {
          "base_uri": "https://localhost:8080/"
        },
        "id": "FjjUFrlTP2Ae",
        "outputId": "cb3d4075-5404-4093-a610-24478c8d91dd"
      },
      "outputs": [
        {
          "output_type": "stream",
          "name": "stdout",
          "text": [
            "Drive already mounted at /content/drive; to attempt to forcibly remount, call drive.mount(\"/content/drive\", force_remount=True).\n"
          ]
        }
      ],
      "source": [
        "import pandas as pd\n",
        "from google.colab import drive\n",
        "drive.mount('/content/drive')\n"
      ]
    },
    {
      "cell_type": "code",
      "source": [
        "import joblib\n",
        "\n",
        "\n",
        "X_test = joblib.load('/content/drive/My Drive/Master_Thesis/X_test.pkl')\n",
        "y_test = joblib.load('/content/drive/My Drive/Master_Thesis/y_test.pkl')\n",
        "X_combined = joblib.load('/content/drive/My Drive/Master_Thesis/X_combined.pkl')\n",
        "y_combined = joblib.load('/content/drive/My Drive/Master_Thesis/y_combined.pkl')\n",
        "best_xgb_classifier = joblib.load('/content/drive/My Drive/Master_Thesis/best_xgb_classifier_combined(vector_size=300,window= 4).pkl')\n",
        "X_test_combined= joblib.load('/content/drive/My Drive/Master_Thesis/X_test_combined.pkl')"
      ],
      "metadata": {
        "id": "DMmPjnoABSZy"
      },
      "execution_count": null,
      "outputs": []
    },
    {
      "cell_type": "code",
      "source": [
        "import pandas as pd\n",
        "import numpy as np\n",
        "import nltk\n",
        "import re\n",
        "import string\n",
        "from sklearn.feature_extraction.text import TfidfVectorizer\n",
        "from sklearn.pipeline import Pipeline\n",
        "from nltk.tokenize import word_tokenize\n",
        "from nltk.stem import WordNetLemmatizer\n",
        "from nltk.corpus import wordnet\n",
        "from nltk.corpus import stopwords\n",
        "import joblib\n",
        "from sklearn.utils.class_weight import compute_sample_weight\n",
        "from sklearn.metrics import classification_report\n",
        "from sklearn.utils import shuffle\n",
        "import xgboost as xgb\n",
        "from sklearn.feature_extraction.text import TfidfVectorizer\n",
        "from nltk.sentiment import SentimentIntensityAnalyzer\n",
        "from xgboost import XGBClassifier\n",
        "from gensim.models import Word2Vec\n",
        "\n",
        "nltk.download('punkt')\n",
        "nltk.download('wordnet')\n",
        "nltk.download('averaged_perceptron_tagger')\n",
        "nltk.download('stopwords')\n",
        "nltk.download('vader_lexicon')\n",
        "stop_words = set(stopwords.words('english'))\n",
        "\n",
        "# Define lemmatization function\n",
        "def lemmatize_tokens(tokens):\n",
        "    lemmatizer = WordNetLemmatizer()\n",
        "\n",
        "    # Convert POS tag to WordNet format\n",
        "    def get_wordnet_pos(word):\n",
        "        tag = nltk.pos_tag([word])[0][1][0].upper()\n",
        "        tag_dict = {\"J\": wordnet.ADJ,\n",
        "                    \"N\": wordnet.NOUN,\n",
        "                    \"V\": wordnet.VERB,\n",
        "                    \"R\": wordnet.ADV}\n",
        "        return tag_dict.get(tag, wordnet.NOUN)\n",
        "\n",
        "    # Lemmatize tokens\n",
        "    lemmas = [lemmatizer.lemmatize(token, get_wordnet_pos(token)) for token in tokens]\n",
        "\n",
        "    # Return lemmatized tokens as a list\n",
        "    return lemmas\n",
        "\n",
        "# Custom preprocessing function\n",
        "def preprocessing(text):\n",
        "    # Convert text to lowercase\n",
        "    lower_text = text.lower()\n",
        "\n",
        "    # Remove punctuation\n",
        "    punctuation_free = \"\".join([char for char in lower_text if char not in string.punctuation])\n",
        "\n",
        "    # Remove URLs\n",
        "    remove_urls = re.sub(r'http\\S+', '', punctuation_free)\n",
        "\n",
        "    # Remove digits\n",
        "    remove_digits = re.sub(r'\\d', '', remove_urls)\n",
        "\n",
        "    # Tokenize text\n",
        "    tokenized_text = word_tokenize(remove_digits)\n",
        "\n",
        "    # Remove stop words\n",
        "    filtered_tokens = [token for token in tokenized_text if token not in stop_words]\n",
        "\n",
        "    # Lemmatize tokens\n",
        "    lemmatized_tokens = lemmatize_tokens(filtered_tokens)\n",
        "\n",
        "    return lemmatized_tokens  # Return tokenized and lemmatized tokens\n",
        "# Check the first few rows of X_combined\n",
        "print(\"First few rows of X_combined:\")\n",
        "print(X_combined.head())\n",
        "\n",
        "# Ensure X_combined is a Series\n",
        "if not isinstance(X_combined, pd.Series):\n",
        "    raise TypeError(\"X_combined is not a Series.\")\n",
        "\n",
        "# Define TF-IDF Vectorizer pipeline\n",
        "tfidf_data_augmented = Pipeline([\n",
        "    ('tfidf', TfidfVectorizer(\n",
        "        tokenizer=lambda text: preprocessing(text),  # Custom preprocessing function\n",
        "        stop_words='english',        # Remove English stopwords\n",
        "        ngram_range=(1, 1)           # Consider only unigrams\n",
        "    ))\n",
        "])\n",
        "\n",
        "# Fit and transform the combined data\n",
        "X_combined_tfidf = tfidf_data_augmented.fit_transform(X_combined)\n",
        "X_test_tfidf = tfidf_data_augmented.transform(X_test)\n",
        "\n",
        "# Train Word2Vec model with tokenized sentences\n",
        "tokenized_combined = [preprocessing(post) for post in X_combined]\n",
        "tokenized_test = [preprocessing(post) for post in X_test]\n",
        "word2vec_model = Word2Vec(sentences=tokenized_combined, vector_size=300,window= 4)\n",
        "\n",
        "# Function to obtain Word2Vec embedding for a sentce\n",
        "def get_word2vec_embedding(model, tokens, size=300):  # Changed size to 200 to match vector_size\n",
        "    vec = np.zeros(size)\n",
        "    count = 0\n",
        "    for token in tokens:\n",
        "        if token in model.wv:\n",
        "            vec += model.wv[token]\n",
        "            count += 1\n",
        "    if count != 0:\n",
        "        vec /= count\n",
        "    return vec\n",
        "\n",
        "# Obtain Word2Vec embeddings for each post\n",
        "X_train_word2vec = np.array([get_word2vec_embedding(word2vec_model, post) for post in tokenized_combined])\n",
        "X_test_word2vec = np.array([get_word2vec_embedding(word2vec_model, post) for post in tokenized_test])\n",
        "\n",
        "# VADER Sentiment Analysis\n",
        "sia = SentimentIntensityAnalyzer()\n",
        "X_train_vader = np.array([list(sia.polarity_scores(' '.join(doc)).values()) for doc in tokenized_combined])\n",
        "X_test_vader = np.array([list(sia.polarity_scores(' '.join(doc)).values()) for doc in tokenized_test])\n",
        "\n",
        "# Combine features\n",
        "X_train_combined = np.concatenate((X_combined_tfidf.toarray(), X_train_word2vec, X_train_vader), axis=1)\n",
        "X_test_combined = np.concatenate((X_test_tfidf.toarray(), X_test_word2vec, X_test_vader), axis=1)\n"
      ],
      "metadata": {
        "colab": {
          "base_uri": "https://localhost:8080/"
        },
        "id": "OHhcTVLOP3LL",
        "outputId": "85bc896f-d6df-4ce4-afaa-f15411408edf"
      },
      "execution_count": null,
      "outputs": [
        {
          "output_type": "stream",
          "name": "stderr",
          "text": [
            "[nltk_data] Downloading package punkt to /root/nltk_data...\n",
            "[nltk_data]   Package punkt is already up-to-date!\n",
            "[nltk_data] Downloading package wordnet to /root/nltk_data...\n",
            "[nltk_data]   Package wordnet is already up-to-date!\n",
            "[nltk_data] Downloading package averaged_perceptron_tagger to\n",
            "[nltk_data]     /root/nltk_data...\n",
            "[nltk_data]   Package averaged_perceptron_tagger is already up-to-\n",
            "[nltk_data]       date!\n",
            "[nltk_data] Downloading package stopwords to /root/nltk_data...\n",
            "[nltk_data]   Package stopwords is already up-to-date!\n",
            "[nltk_data] Downloading package vader_lexicon to /root/nltk_data...\n",
            "[nltk_data]   Package vader_lexicon is already up-to-date!\n"
          ]
        },
        {
          "output_type": "stream",
          "name": "stdout",
          "text": [
            "First few rows of X_combined:\n",
            "150      i am sorry, but the text \"jessicafilan it is\" ...\n",
            "6887     i had a rough day today. it felt like everythi...\n",
            "13077    i just can't shake this feeling of dread that ...\n",
            "9513     i feel overwhelmed and torn between two confli...\n",
            "9666     i find myself in the same boat every night, dr...\n",
            "dtype: object\n"
          ]
        }
      ]
    },
    {
      "cell_type": "code",
      "source": [
        "\n",
        "print(\"Number of features in X_combined_tfidf:\", X_combined_tfidf.shape[1])\n",
        "print(\"Number of features in X_test_tfidf:\", X_test_tfidf.shape[1])\n",
        "\n",
        "# Compute sample weights for handling class imbalance\n",
        "sample_weights = compute_sample_weight(class_weight='balanced', y=y_combined)\n",
        "\n",
        "# Define the best parameters for XGBClassifier\n",
        "best_xgb_params = {\n",
        "    'n_estimators': 120,\n",
        "    'min_child_weight': 1,\n",
        "    'max_depth': 5,\n",
        "    'learning_rate': 0.23,\n",
        "    'lambda': 0.04,\n",
        "    'gamma': 0.7,\n",
        "    'alpha': 0.1\n",
        "}\n",
        "\n",
        "# Create XGBClassifier with the best parameters\n",
        "best_xgb_classifier = xgb.XGBClassifier(**best_xgb_params)\n",
        "\n",
        "# Fit the model with the transformed training data\n",
        "best_xgb_classifier.fit(X_train_combined, y_combined, sample_weight=sample_weights)\n"
      ],
      "metadata": {
        "colab": {
          "base_uri": "https://localhost:8080/",
          "height": 87
        },
        "id": "wS4sBBQCP9vb",
        "outputId": "9bbb70e9-b135-4c5e-c373-70930b67a017"
      },
      "execution_count": null,
      "outputs": [
        {
          "output_type": "execute_result",
          "data": {
            "text/plain": [
              "'\\nprint(\"Number of features in X_combined_tfidf:\", X_combined_tfidf.shape[1])\\nprint(\"Number of features in X_test_tfidf:\", X_test_tfidf.shape[1])\\n\\n# Compute sample weights for handling class imbalance\\nsample_weights = compute_sample_weight(class_weight=\\'balanced\\', y=y_combined)\\n\\n# Define the best parameters for XGBClassifier\\nbest_xgb_params = {\\n    \\'n_estimators\\': 120,\\n    \\'min_child_weight\\': 1,\\n    \\'max_depth\\': 5,\\n    \\'learning_rate\\': 0.23,\\n    \\'lambda\\': 0.04,\\n    \\'gamma\\': 0.7,\\n    \\'alpha\\': 0.1\\n}\\n\\n# Create XGBClassifier with the best parameters\\nbest_xgb_classifier = xgb.XGBClassifier(**best_xgb_params)\\n\\n# Fit the model with the transformed training data\\nbest_xgb_classifier.fit(X_train_combined, y_combined, sample_weight=sample_weights)\\n\\n'"
            ],
            "application/vnd.google.colaboratory.intrinsic+json": {
              "type": "string"
            }
          },
          "metadata": {},
          "execution_count": 2
        }
      ]
    },
    {
      "cell_type": "code",
      "source": [
        "y_pred = best_xgb_classifier.predict(X_test_combined)\n",
        "\n",
        "classification_rep = classification_report(y_test, y_pred)\n",
        "print(classification_rep)"
      ],
      "metadata": {
        "colab": {
          "base_uri": "https://localhost:8080/"
        },
        "id": "7rpf30CwjxBh",
        "outputId": "06a4439a-21fc-4b76-ea9e-7a3d2325b98b"
      },
      "execution_count": null,
      "outputs": [
        {
          "output_type": "stream",
          "name": "stdout",
          "text": [
            "              precision    recall  f1-score   support\n",
            "\n",
            "           0       0.94      0.96      0.95       780\n",
            "           1       0.73      0.75      0.74       252\n",
            "           2       0.80      0.76      0.78       279\n",
            "           3       0.73      0.71      0.72       236\n",
            "\n",
            "    accuracy                           0.85      1547\n",
            "   macro avg       0.80      0.80      0.80      1547\n",
            "weighted avg       0.85      0.85      0.85      1547\n",
            "\n"
          ]
        }
      ]
    },
    {
      "cell_type": "code",
      "source": [
        "import matplotlib.pyplot as plt\n",
        "import seaborn as sns\n",
        "from sklearn.metrics import confusion_matrix\n",
        "\n",
        "# Compute confusion matrix\n",
        "conf_matrix = confusion_matrix(y_test, y_pred)\n",
        "\n",
        "# Plot confusion matrix\n",
        "plt.figure(figsize=(10, 8))\n",
        "sns.heatmap(conf_matrix, annot=True, fmt='d', cmap='Blues', cbar=False)\n",
        "plt.xlabel('Predicted Label')\n",
        "plt.ylabel('True Label')\n",
        "plt.title('Confusion Matrix of Multi Modal')\n",
        "#plt.savefig('/content/drive/My Drive/Master_Thesis/confusion matrix XGBoost.png')\n",
        "plt.show()"
      ],
      "metadata": {
        "colab": {
          "base_uri": "https://localhost:8080/",
          "height": 718
        },
        "id": "2-gaEebcTXUt",
        "outputId": "9af73214-b5a9-4fe9-aea8-18638fe8206b"
      },
      "execution_count": null,
      "outputs": [
        {
          "output_type": "display_data",
          "data": {
            "text/plain": [
              "<Figure size 1000x800 with 1 Axes>"
            ],
            "image/png": "[encoded data removed]"
          },
          "metadata": {}
        }
      ]
    }
  ]
}