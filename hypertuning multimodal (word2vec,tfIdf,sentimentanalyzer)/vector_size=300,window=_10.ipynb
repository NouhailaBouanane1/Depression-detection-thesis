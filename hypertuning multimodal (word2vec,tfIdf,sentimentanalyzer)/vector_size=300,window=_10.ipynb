{
  "nbformat": 4,
  "nbformat_minor": 0,
  "metadata": {
    "colab": {
      "provenance": []
    },
    "kernelspec": {
      "name": "python3",
      "display_name": "Python 3"
    },
    "language_info": {
      "name": "python"
    }
  },
  "cells": [
    {
      "cell_type": "code",
      "execution_count": 2,
      "metadata": {
        "colab": {
          "base_uri": "https://localhost:8080/"
        },
        "id": "c7zniEW5sCdY",
        "outputId": "14f78863-23fe-40c8-d350-ee77bc9076da"
      },
      "outputs": [
        {
          "output_type": "stream",
          "name": "stdout",
          "text": [
            "Mounted at /content/drive\n"
          ]
        }
      ],
      "source": [
        "import pandas as pd\n",
        "from google.colab import drive\n",
        "drive.mount('/content/drive')\n"
      ]
    },
    {
      "cell_type": "code",
      "source": [
        "import pandas as pd\n",
        "import numpy as np\n",
        "import nltk\n",
        "import re\n",
        "import string\n",
        "from sklearn.feature_extraction.text import TfidfVectorizer\n",
        "from sklearn.pipeline import Pipeline\n",
        "from nltk.tokenize import word_tokenize\n",
        "from nltk.stem import WordNetLemmatizer\n",
        "from nltk.corpus import wordnet\n",
        "from nltk.corpus import stopwords\n",
        "import joblib\n",
        "from sklearn.utils.class_weight import compute_sample_weight\n",
        "from sklearn.metrics import classification_report\n",
        "from sklearn.utils import shuffle\n",
        "import xgboost as xgb\n",
        "from sklearn.feature_extraction.text import TfidfVectorizer\n",
        "from nltk.sentiment import SentimentIntensityAnalyzer\n",
        "from xgboost import XGBClassifier\n",
        "from gensim.models import Word2Vec\n",
        "\n",
        "# Download NLTK resources (if not already downloaded)\n",
        "nltk.download('punkt')\n",
        "nltk.download('wordnet')\n",
        "nltk.download('averaged_perceptron_tagger')\n",
        "nltk.download('stopwords')\n",
        "nltk.download('vader_lexicon')\n",
        "# Import NLTK English stopwords\n",
        "stop_words = set(stopwords.words('english'))\n",
        "\n",
        "# Define lemmatization function\n",
        "def lemmatize_tokens(tokens):\n",
        "    lemmatizer = WordNetLemmatizer()\n",
        "\n",
        "    # Convert POS tag to WordNet format\n",
        "    def get_wordnet_pos(word):\n",
        "        tag = nltk.pos_tag([word])[0][1][0].upper()\n",
        "        tag_dict = {\"J\": wordnet.ADJ,\n",
        "                    \"N\": wordnet.NOUN,\n",
        "                    \"V\": wordnet.VERB,\n",
        "                    \"R\": wordnet.ADV}\n",
        "        return tag_dict.get(tag, wordnet.NOUN)\n",
        "\n",
        "    # Lemmatize tokens\n",
        "    lemmas = [lemmatizer.lemmatize(token, get_wordnet_pos(token)) for token in tokens]\n",
        "\n",
        "    # Return lemmatized tokens as a list\n",
        "    return lemmas\n",
        "\n",
        "# Custom preprocessing function\n",
        "def preprocessing(text):\n",
        "    # Convert text to lowercase\n",
        "    lower_text = text.lower()\n",
        "\n",
        "    # Remove punctuation\n",
        "    punctuation_free = \"\".join([char for char in lower_text if char not in string.punctuation])\n",
        "\n",
        "    # Remove URLs\n",
        "    remove_urls = re.sub(r'http\\S+', '', punctuation_free)\n",
        "\n",
        "    # Remove digits\n",
        "    remove_digits = re.sub(r'\\d', '', remove_urls)\n",
        "\n",
        "    # Tokenize text\n",
        "    tokenized_text = word_tokenize(remove_digits)\n",
        "\n",
        "    # Remove stop words\n",
        "    filtered_tokens = [token for token in tokenized_text if token not in stop_words]\n",
        "\n",
        "    # Lemmatize tokens\n",
        "    lemmatized_tokens = lemmatize_tokens(filtered_tokens)\n",
        "\n",
        "    return lemmatized_tokens  # Return tokenized and lemmatized tokens\n",
        "\n",
        "# Load data\n",
        "X_augmented = joblib.load('/content/drive/My Drive/Master_Thesis/X_augmented.pkl')\n",
        "y_augmented = joblib.load('/content/drive/My Drive/Master_Thesis/y_augmented.pkl')\n",
        "X_train = joblib.load('/content/drive/My Drive/Master_Thesis/X_train.pkl')\n",
        "y_train = joblib.load('/content/drive/My Drive/Master_Thesis/y_train.pkl')\n",
        "X_test = joblib.load('/content/drive/My Drive/Master_Thesis/X_test.pkl')\n",
        "y_test = joblib.load('/content/drive/My Drive/Master_Thesis/y_test.pkl')\n",
        "\n",
        "# Concatenate X_train and X_augmented\n",
        "X_combined = pd.concat([X_train, pd.Series(X_augmented)], ignore_index=True)\n",
        "\n",
        "# Combine y_train and y_augmented\n",
        "y_combined = np.concatenate([y_train, np.array(y_augmented)])\n",
        "\n",
        "# Ensure y_combined is a numpy array\n",
        "if not isinstance(y_combined, np.ndarray):\n",
        "    raise TypeError(\"y_combined is not a numpy array.\")\n",
        "\n",
        "# Shuffle X_combined and y_combined together\n",
        "X_combined, y_combined = shuffle(X_combined, y_combined, random_state=42)\n",
        "\n",
        "# Check the first few rows of X_combined\n",
        "print(\"First few rows of X_combined:\")\n",
        "print(X_combined.head())\n",
        "\n",
        "# Ensure X_combined is a Series\n",
        "if not isinstance(X_combined, pd.Series):\n",
        "    raise TypeError(\"X_combined is not a Series.\")\n",
        "\n",
        "# Define TF-IDF Vectorizer pipeline\n",
        "tfidf_data_augmented = Pipeline([\n",
        "    ('tfidf', TfidfVectorizer(\n",
        "        tokenizer=lambda text: preprocessing(text),  # Custom preprocessing function\n",
        "        stop_words='english',        # Remove English stopwords\n",
        "        ngram_range=(1, 1)           # Consider only unigrams\n",
        "    ))\n",
        "])\n",
        "\n",
        "# Fit and transform the combined data\n",
        "X_combined_tfidf = tfidf_data_augmented.fit_transform(X_combined)\n",
        "X_test_tfidf = tfidf_data_augmented.transform(X_test)\n",
        "\n",
        "# Train Word2Vec model with tokenized sentences\n",
        "tokenized_combined = [preprocessing(post) for post in X_combined]\n",
        "tokenized_test = [preprocessing(post) for post in X_test]\n",
        "word2vec_model = Word2Vec(sentences=tokenized_combined, vector_size=300,window= 10)\n",
        "\n",
        "# Function to obtain Word2Vec embedding for a sentence\n",
        "def get_word2vec_embedding(model, tokens, size=300):  # Changed size to 200 to match vector_size\n",
        "    vec = np.zeros(size)\n",
        "    count = 0\n",
        "    for token in tokens:\n",
        "        if token in model.wv:\n",
        "            vec += model.wv[token]\n",
        "            count += 1\n",
        "    if count != 0:\n",
        "        vec /= count\n",
        "    return vec\n",
        "\n",
        "# Obtain Word2Vec embeddings for each post\n",
        "X_train_word2vec = np.array([get_word2vec_embedding(word2vec_model, post) for post in tokenized_combined])\n",
        "X_test_word2vec = np.array([get_word2vec_embedding(word2vec_model, post) for post in tokenized_test])\n",
        "\n",
        "# VADER Sentiment Analysis\n",
        "sia = SentimentIntensityAnalyzer()\n",
        "X_train_vader = np.array([list(sia.polarity_scores(' '.join(doc)).values()) for doc in tokenized_combined])\n",
        "X_test_vader = np.array([list(sia.polarity_scores(' '.join(doc)).values()) for doc in tokenized_test])\n",
        "\n",
        "# Combine features\n",
        "# Concatenate the feature vectors\n",
        "X_train_combined = np.concatenate((X_combined_tfidf.toarray(), X_train_word2vec, X_train_vader), axis=1)\n",
        "X_test_combined = np.concatenate((X_test_tfidf.toarray(), X_test_word2vec, X_test_vader), axis=1)\n"
      ],
      "metadata": {
        "colab": {
          "base_uri": "https://localhost:8080/"
        },
        "id": "if2nCzV4sFnY",
        "outputId": "c00e6866-b49c-4ec2-b98b-208f35db03f6"
      },
      "execution_count": 3,
      "outputs": [
        {
          "output_type": "stream",
          "name": "stderr",
          "text": [
            "[nltk_data] Downloading package punkt to /root/nltk_data...\n",
            "[nltk_data]   Unzipping tokenizers/punkt.zip.\n",
            "[nltk_data] Downloading package wordnet to /root/nltk_data...\n",
            "[nltk_data] Downloading package averaged_perceptron_tagger to\n",
            "[nltk_data]     /root/nltk_data...\n",
            "[nltk_data]   Unzipping taggers/averaged_perceptron_tagger.zip.\n",
            "[nltk_data] Downloading package stopwords to /root/nltk_data...\n",
            "[nltk_data]   Unzipping corpora/stopwords.zip.\n",
            "[nltk_data] Downloading package vader_lexicon to /root/nltk_data...\n"
          ]
        },
        {
          "output_type": "stream",
          "name": "stdout",
          "text": [
            "First few rows of X_combined:\n",
            "150      i am sorry, but the text \"jessicafilan it is\" ...\n",
            "6887     i had a rough day today. it felt like everythi...\n",
            "13077    i just can't shake this feeling of dread that ...\n",
            "9513     i feel overwhelmed and torn between two confli...\n",
            "9666     i find myself in the same boat every night, dr...\n",
            "dtype: object\n"
          ]
        },
        {
          "output_type": "stream",
          "name": "stderr",
          "text": [
            "/usr/local/lib/python3.10/dist-packages/sklearn/feature_extraction/text.py:528: UserWarning: The parameter 'token_pattern' will not be used since 'tokenizer' is not None'\n",
            "  warnings.warn(\n",
            "/usr/local/lib/python3.10/dist-packages/sklearn/feature_extraction/text.py:409: UserWarning: Your stop_words may be inconsistent with your preprocessing. Tokenizing the stop words generated tokens ['make', 'u'] not in stop_words.\n",
            "  warnings.warn(\n"
          ]
        }
      ]
    },
    {
      "cell_type": "code",
      "source": [
        "# Check the shapes of TF-IDF matrices\n",
        "print(\"Number of features in X_combined_tfidf:\", X_combined_tfidf.shape[1])\n",
        "print(\"Number of features in X_test_tfidf:\", X_test_tfidf.shape[1])\n",
        "\n",
        "# Compute sample weights for handling class imbalance\n",
        "sample_weights = compute_sample_weight(class_weight='balanced', y=y_combined)\n",
        "\n",
        "# Define the best parameters for XGBClassifier\n",
        "best_xgb_params = {\n",
        "    'n_estimators': 120,\n",
        "    'min_child_weight': 1,\n",
        "    'max_depth': 5,\n",
        "    'learning_rate': 0.23,\n",
        "    'lambda': 0.04,\n",
        "    'gamma': 0.7,\n",
        "    'alpha': 0.1\n",
        "}\n",
        "\n",
        "# Create XGBClassifier with the best parameters\n",
        "best_xgb_classifier = xgb.XGBClassifier(**best_xgb_params)\n",
        "\n",
        "# Fit the model with the transformed training data\n",
        "best_xgb_classifier.fit(X_train_combined, y_combined, sample_weight=sample_weights)\n",
        "\n",
        "# Make predictions on the test data\n",
        "y_pred = best_xgb_classifier.predict(X_test_combined)\n",
        "\n",
        "# Print the classification report\n",
        "classification_rep = classification_report(y_test, y_pred)\n",
        "print(classification_rep)"
      ],
      "metadata": {
        "colab": {
          "base_uri": "https://localhost:8080/"
        },
        "id": "jbkzp5sDsH_Q",
        "outputId": "02f307b5-8ab7-403c-d509-b6bdf9cb52be"
      },
      "execution_count": 4,
      "outputs": [
        {
          "output_type": "stream",
          "name": "stdout",
          "text": [
            "Number of features in X_combined_tfidf: 11246\n",
            "Number of features in X_test_tfidf: 11246\n",
            "              precision    recall  f1-score   support\n",
            "\n",
            "           0       0.94      0.96      0.95       780\n",
            "           1       0.71      0.73      0.72       252\n",
            "           2       0.78      0.67      0.72       279\n",
            "           3       0.67      0.71      0.69       236\n",
            "\n",
            "    accuracy                           0.83      1547\n",
            "   macro avg       0.78      0.77      0.77      1547\n",
            "weighted avg       0.83      0.83      0.83      1547\n",
            "\n"
          ]
        }
      ]
    }
  ]
}