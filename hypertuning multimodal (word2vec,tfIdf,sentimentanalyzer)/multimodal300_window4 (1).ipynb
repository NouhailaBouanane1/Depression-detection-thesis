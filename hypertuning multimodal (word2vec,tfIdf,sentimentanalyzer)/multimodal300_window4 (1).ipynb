{
  "nbformat": 4,
  "nbformat_minor": 0,
  "metadata": {
    "colab": {
      "provenance": []
    },
    "kernelspec": {
      "name": "python3",
      "display_name": "Python 3"
    },
    "language_info": {
      "name": "python"
    }
  },
  "cells": [
    {
      "cell_type": "code",
      "execution_count": null,
      "metadata": {
        "colab": {
          "base_uri": "https://localhost:8080/"
        },
        "id": "3Scb4hSMQnP_",
        "outputId": "eeacde84-cbad-4928-fa0f-3d5f55b237b5"
      },
      "outputs": [
        {
          "output_type": "stream",
          "name": "stdout",
          "text": [
            "Mounted at /content/drive\n"
          ]
        }
      ],
      "source": [
        "import pandas as pd\n",
        "from google.colab import drive\n",
        "drive.mount('/content/drive')\n"
      ]
    },
    {
      "cell_type": "code",
      "source": [
        "import pandas as pd\n",
        "import numpy as np\n",
        "import nltk\n",
        "import re\n",
        "import string\n",
        "from sklearn.feature_extraction.text import TfidfVectorizer\n",
        "from sklearn.pipeline import Pipeline\n",
        "from nltk.tokenize import word_tokenize\n",
        "from nltk.stem import WordNetLemmatizer\n",
        "from nltk.corpus import wordnet\n",
        "from nltk.corpus import stopwords\n",
        "import joblib\n",
        "from sklearn.utils.class_weight import compute_sample_weight\n",
        "from sklearn.metrics import classification_report\n",
        "from sklearn.utils import shuffle\n",
        "import xgboost as xgb\n",
        "from sklearn.feature_extraction.text import TfidfVectorizer\n",
        "from nltk.sentiment import SentimentIntensityAnalyzer\n",
        "from xgboost import XGBClassifier\n",
        "from gensim.models import Word2Vec\n",
        "\n",
        "# Download NLTK resources (if not already downloaded)\n",
        "nltk.download('punkt')\n",
        "nltk.download('wordnet')\n",
        "nltk.download('averaged_perceptron_tagger')\n",
        "nltk.download('stopwords')\n",
        "nltk.download('vader_lexicon')\n",
        "# Import NLTK English stopwords\n",
        "stop_words = set(stopwords.words('english'))\n",
        "\n",
        "# Define lemmatization function\n",
        "def lemmatize_tokens(tokens):\n",
        "    lemmatizer = WordNetLemmatizer()\n",
        "\n",
        "    # Convert POS tag to WordNet format\n",
        "    def get_wordnet_pos(word):\n",
        "        tag = nltk.pos_tag([word])[0][1][0].upper()\n",
        "        tag_dict = {\"J\": wordnet.ADJ,\n",
        "                    \"N\": wordnet.NOUN,\n",
        "                    \"V\": wordnet.VERB,\n",
        "                    \"R\": wordnet.ADV}\n",
        "        return tag_dict.get(tag, wordnet.NOUN)\n",
        "\n",
        "    # Lemmatize tokens\n",
        "    lemmas = [lemmatizer.lemmatize(token, get_wordnet_pos(token)) for token in tokens]\n",
        "\n",
        "    # Return lemmatized tokens as a list\n",
        "    return lemmas\n",
        "\n",
        "# Custom preprocessing function\n",
        "def preprocessing(text):\n",
        "    # Convert text to lowercase\n",
        "    lower_text = text.lower()\n",
        "\n",
        "    # Remove punctuation\n",
        "    punctuation_free = \"\".join([char for char in lower_text if char not in string.punctuation])\n",
        "\n",
        "    # Remove URLs\n",
        "    remove_urls = re.sub(r'http\\S+', '', punctuation_free)\n",
        "\n",
        "    # Remove digits\n",
        "    remove_digits = re.sub(r'\\d', '', remove_urls)\n",
        "\n",
        "    # Tokenize text\n",
        "    tokenized_text = word_tokenize(remove_digits)\n",
        "\n",
        "    # Remove stop words\n",
        "    filtered_tokens = [token for token in tokenized_text if token not in stop_words]\n",
        "\n",
        "    # Lemmatize tokens\n",
        "    lemmatized_tokens = lemmatize_tokens(filtered_tokens)\n",
        "\n",
        "    return lemmatized_tokens  # Return tokenized and lemmatized tokens\n",
        "\n",
        "# Load data\n",
        "X_augmented = joblib.load('/content/drive/My Drive/Master_Thesis/X_augmented.pkl')\n",
        "y_augmented = joblib.load('/content/drive/My Drive/Master_Thesis/y_augmented.pkl')\n",
        "X_train = joblib.load('/content/drive/My Drive/Master_Thesis/X_train.pkl')\n",
        "y_train = joblib.load('/content/drive/My Drive/Master_Thesis/y_train.pkl')\n",
        "X_test = joblib.load('/content/drive/My Drive/Master_Thesis/X_test.pkl')\n",
        "y_test = joblib.load('/content/drive/My Drive/Master_Thesis/y_test.pkl')\n",
        "\n",
        "# Concatenate X_train and X_augmented\n",
        "X_combined = pd.concat([X_train, pd.Series(X_augmented)], ignore_index=True)\n",
        "\n",
        "# Combine y_train and y_augmented\n",
        "y_combined = np.concatenate([y_train, np.array(y_augmented)])\n",
        "\n",
        "# Ensure y_combined is a numpy array\n",
        "if not isinstance(y_combined, np.ndarray):\n",
        "    raise TypeError(\"y_combined is not a numpy array.\")\n",
        "\n",
        "# Shuffle X_combined and y_combined together\n",
        "X_combined, y_combined = shuffle(X_combined, y_combined, random_state=42)\n",
        "\n",
        "# Check the first few rows of X_combined\n",
        "print(\"First few rows of X_combined:\")\n",
        "print(X_combined.head())\n",
        "\n",
        "# Ensure X_combined is a Series\n",
        "if not isinstance(X_combined, pd.Series):\n",
        "    raise TypeError(\"X_combined is not a Series.\")\n",
        "\n",
        "# Define TF-IDF Vectorizer pipeline\n",
        "tfidf_data_augmented = Pipeline([\n",
        "    ('tfidf', TfidfVectorizer(\n",
        "        tokenizer=lambda text: preprocessing(text),  # Custom preprocessing function\n",
        "        stop_words='english',        # Remove English stopwords\n",
        "        ngram_range=(1, 1)           # Consider only unigrams\n",
        "    ))\n",
        "])\n",
        "\n",
        "# Fit and transform the combined data\n",
        "X_combined_tfidf = tfidf_data_augmented.fit_transform(X_combined)\n",
        "X_test_tfidf = tfidf_data_augmented.transform(X_test)\n",
        "\n",
        "# Train Word2Vec model with tokenized sentences\n",
        "tokenized_combined = [preprocessing(post) for post in X_combined]\n",
        "tokenized_test = [preprocessing(post) for post in X_test]\n",
        "word2vec_model = Word2Vec(sentences=tokenized_combined, vector_size=300,window= 4)\n",
        "\n",
        "# Function to obtain Word2Vec embedding for a sentence\n",
        "def get_word2vec_embedding(model, tokens, size=300):  # Changed size to 200 to match vector_size\n",
        "    vec = np.zeros(size)\n",
        "    count = 0\n",
        "    for token in tokens:\n",
        "        if token in model.wv:\n",
        "            vec += model.wv[token]\n",
        "            count += 1\n",
        "    if count != 0:\n",
        "        vec /= count\n",
        "    return vec\n",
        "\n",
        "# Obtain Word2Vec embeddings for each post\n",
        "X_train_word2vec = np.array([get_word2vec_embedding(word2vec_model, post) for post in tokenized_combined])\n",
        "X_test_word2vec = np.array([get_word2vec_embedding(word2vec_model, post) for post in tokenized_test])\n",
        "\n",
        "# VADER Sentiment Analysis\n",
        "sia = SentimentIntensityAnalyzer()\n",
        "X_train_vader = np.array([list(sia.polarity_scores(' '.join(doc)).values()) for doc in tokenized_combined])\n",
        "X_test_vader = np.array([list(sia.polarity_scores(' '.join(doc)).values()) for doc in tokenized_test])\n",
        "\n",
        "# Combine features\n",
        "# Concatenate the feature vectors\n",
        "X_train_combined = np.concatenate((X_combined_tfidf.toarray(), X_train_word2vec, X_train_vader), axis=1)\n",
        "X_test_combined = np.concatenate((X_test_tfidf.toarray(), X_test_word2vec, X_test_vader), axis=1)\n"
      ],
      "metadata": {
        "colab": {
          "base_uri": "https://localhost:8080/"
        },
        "id": "d2ePODxwQocM",
        "outputId": "06daa0ae-b22d-4fa7-854d-6ecc3bdc890a"
      },
      "execution_count": null,
      "outputs": [
        {
          "output_type": "stream",
          "name": "stderr",
          "text": [
            "[nltk_data] Downloading package punkt to /root/nltk_data...\n",
            "[nltk_data]   Unzipping tokenizers/punkt.zip.\n",
            "[nltk_data] Downloading package wordnet to /root/nltk_data...\n",
            "[nltk_data] Downloading package averaged_perceptron_tagger to\n",
            "[nltk_data]     /root/nltk_data...\n",
            "[nltk_data]   Unzipping taggers/averaged_perceptron_tagger.zip.\n",
            "[nltk_data] Downloading package stopwords to /root/nltk_data...\n",
            "[nltk_data]   Unzipping corpora/stopwords.zip.\n",
            "[nltk_data] Downloading package vader_lexicon to /root/nltk_data...\n"
          ]
        },
        {
          "output_type": "stream",
          "name": "stdout",
          "text": [
            "First few rows of X_combined:\n",
            "150      i am sorry, but the text \"jessicafilan it is\" ...\n",
            "6887     i had a rough day today. it felt like everythi...\n",
            "13077    i just can't shake this feeling of dread that ...\n",
            "9513     i feel overwhelmed and torn between two confli...\n",
            "9666     i find myself in the same boat every night, dr...\n",
            "dtype: object\n"
          ]
        },
        {
          "output_type": "stream",
          "name": "stderr",
          "text": [
            "/usr/local/lib/python3.10/dist-packages/sklearn/feature_extraction/text.py:528: UserWarning: The parameter 'token_pattern' will not be used since 'tokenizer' is not None'\n",
            "  warnings.warn(\n",
            "/usr/local/lib/python3.10/dist-packages/sklearn/feature_extraction/text.py:409: UserWarning: Your stop_words may be inconsistent with your preprocessing. Tokenizing the stop words generated tokens ['make', 'u'] not in stop_words.\n",
            "  warnings.warn(\n"
          ]
        }
      ]
    },
    {
      "cell_type": "code",
      "source": [
        "# Check the shapes of TF-IDF matrices\n",
        "print(\"Number of features in X_combined_tfidf:\", X_combined_tfidf.shape[1])\n",
        "print(\"Number of features in X_test_tfidf:\", X_test_tfidf.shape[1])\n",
        "\n",
        "# Compute sample weights for handling class imbalance\n",
        "sample_weights = compute_sample_weight(class_weight='balanced', y=y_combined)\n",
        "\n",
        "# Define the best parameters for XGBClassifier\n",
        "best_xgb_params = {\n",
        "    'n_estimators': 120,\n",
        "    'min_child_weight': 1,\n",
        "    'max_depth': 5,\n",
        "    'learning_rate': 0.23,\n",
        "    'lambda': 0.04,\n",
        "    'gamma': 0.7,\n",
        "    'alpha': 0.1\n",
        "}\n",
        "\n",
        "# Create XGBClassifier with the best parameters\n",
        "best_xgb_classifier = xgb.XGBClassifier(**best_xgb_params)\n",
        "\n",
        "# Fit the model with the transformed training data\n",
        "best_xgb_classifier.fit(X_train_combined, y_combined, sample_weight=sample_weights)\n",
        "\n",
        "# Make predictions on the test data\n",
        "y_pred = best_xgb_classifier.predict(X_test_combined)\n",
        "\n",
        "# Print the classification report\n",
        "classification_rep = classification_report(y_test, y_pred)\n",
        "print(classification_rep)"
      ],
      "metadata": {
        "colab": {
          "base_uri": "https://localhost:8080/"
        },
        "id": "jtbGEJrgQwGN",
        "outputId": "982ea305-c49d-4f0e-fe6a-a20040861a58"
      },
      "execution_count": null,
      "outputs": [
        {
          "output_type": "stream",
          "name": "stdout",
          "text": [
            "Number of features in X_combined_tfidf: 11246\n",
            "Number of features in X_test_tfidf: 11246\n",
            "              precision    recall  f1-score   support\n",
            "\n",
            "           0       0.94      0.96      0.95       780\n",
            "           1       0.73      0.77      0.75       252\n",
            "           2       0.80      0.72      0.76       279\n",
            "           3       0.71      0.70      0.71       236\n",
            "\n",
            "    accuracy                           0.85      1547\n",
            "   macro avg       0.80      0.79      0.79      1547\n",
            "weighted avg       0.85      0.85      0.85      1547\n",
            "\n"
          ]
        }
      ]
    },
    {
      "cell_type": "code",
      "source": [],
      "metadata": {
        "id": "UgfRH_C87Bsu"
      },
      "execution_count": null,
      "outputs": []
    },
    {
      "cell_type": "code",
      "source": [
        "print(\"All parameters and their values in the Word2Vec model:\")\n",
        "for key, value in word2vec_model.__dict__.items():\n",
        "    print(f\"{key}: {value}\")"
      ],
      "metadata": {
        "id": "9SpHK6VX7BIp",
        "outputId": "ef97bbe8-018b-452e-8d4c-e0206a73fdf3",
        "colab": {
          "base_uri": "https://localhost:8080/"
        }
      },
      "execution_count": null,
      "outputs": [
        {
          "output_type": "stream",
          "name": "stdout",
          "text": [
            "All parameters and their values in the Word2Vec model:\n",
            "vector_size: 300\n",
            "workers: 3\n",
            "epochs: 5\n",
            "train_count: 1\n",
            "total_train_time: 4.553034617999799\n",
            "batch_words: 10000\n",
            "sg: 0\n",
            "alpha: 0.025\n",
            "min_alpha: 0.0001\n",
            "window: 4\n",
            "shrink_windows: True\n",
            "random: RandomState(MT19937)\n",
            "hs: 0\n",
            "negative: 5\n",
            "ns_exponent: 0.75\n",
            "cbow_mean: 1\n",
            "compute_loss: False\n",
            "running_training_loss: 0.0\n",
            "min_alpha_yet_reached: 0.00018092580603392208\n",
            "corpus_count: 15446\n",
            "corpus_total_words: 537699\n",
            "max_final_vocab: None\n",
            "max_vocab_size: None\n",
            "min_count: 5\n",
            "sample: 0.001\n",
            "sorted_vocab: 1\n",
            "null_word: 0\n",
            "cum_table: [  22727808   40256438   55312906 ... 2147368408 2147426028 2147483647]\n",
            "raw_vocab: defaultdict(<class 'int'>, {})\n",
            "wv: KeyedVectors<vector_size=300, 4840 keys>\n",
            "hashfxn: <built-in function hash>\n",
            "seed: 1\n",
            "layer1_size: 300\n",
            "comment: None\n",
            "load: <function call_on_class_only at 0x7eb3371435b0>\n",
            "effective_min_count: 5\n",
            "lifecycle_events: [{'msg': 'effective_min_count=5 retains 4840 unique words (42.39% of original 11419, drops 6579)', 'datetime': '2024-05-26T17:04:21.763012', 'gensim': '4.3.2', 'python': '3.10.12 (main, Nov 20 2023, 15:14:05) [GCC 11.4.0]', 'platform': 'Linux-6.1.85+-x86_64-with-glibc2.35', 'event': 'prepare_vocab'}, {'msg': 'effective_min_count=5 leaves 527213 word corpus (98.05% of original 537699, drops 10486)', 'datetime': '2024-05-26T17:04:21.763114', 'gensim': '4.3.2', 'python': '3.10.12 (main, Nov 20 2023, 15:14:05) [GCC 11.4.0]', 'platform': 'Linux-6.1.85+-x86_64-with-glibc2.35', 'event': 'prepare_vocab'}, {'msg': 'downsampling leaves estimated 472886.3245997381 word corpus (89.7%% of prior 527213)', 'datetime': '2024-05-26T17:04:21.805968', 'gensim': '4.3.2', 'python': '3.10.12 (main, Nov 20 2023, 15:14:05) [GCC 11.4.0]', 'platform': 'Linux-6.1.85+-x86_64-with-glibc2.35', 'event': 'prepare_vocab'}, {'update': False, 'trim_rule': 'None', 'datetime': '2024-05-26T17:04:21.890273', 'gensim': '4.3.2', 'python': '3.10.12 (main, Nov 20 2023, 15:14:05) [GCC 11.4.0]', 'platform': 'Linux-6.1.85+-x86_64-with-glibc2.35', 'event': 'build_vocab'}, {'msg': 'training model with 3 workers on 4840 vocabulary and 300 features, using sg=0 hs=0 sample=0.001 negative=5 window=4 shrink_windows=True', 'datetime': '2024-05-26T17:04:21.890371', 'gensim': '4.3.2', 'python': '3.10.12 (main, Nov 20 2023, 15:14:05) [GCC 11.4.0]', 'platform': 'Linux-6.1.85+-x86_64-with-glibc2.35', 'event': 'train'}, {'msg': 'training on 2688495 raw words (2364794 effective words) took 4.6s, 517634 effective words/s', 'datetime': '2024-05-26T17:04:26.458892', 'gensim': '4.3.2', 'python': '3.10.12 (main, Nov 20 2023, 15:14:05) [GCC 11.4.0]', 'platform': 'Linux-6.1.85+-x86_64-with-glibc2.35', 'event': 'train'}, {'params': 'Word2Vec<vocab=4840, vector_size=300, alpha=0.025>', 'datetime': '2024-05-26T17:04:26.458946', 'gensim': '4.3.2', 'python': '3.10.12 (main, Nov 20 2023, 15:14:05) [GCC 11.4.0]', 'platform': 'Linux-6.1.85+-x86_64-with-glibc2.35', 'event': 'created'}]\n",
            "syn1neg: [[-0.02018262 -0.28551355 -0.05593483 ... -0.1211127  -0.17018461\n",
            "   0.08536412]\n",
            " [-0.04048852 -0.20894027 -0.0710197  ...  0.19670573  0.03494079\n",
            "   0.1493645 ]\n",
            " [-0.04611066  0.1641821  -0.15272889 ...  0.07548866  0.025952\n",
            "   0.38372418]\n",
            " ...\n",
            " [ 0.01554847 -0.08348151 -0.02070097 ...  0.07518819 -0.03188699\n",
            "   0.02388034]\n",
            " [ 0.01108145 -0.09340223 -0.01656368 ...  0.06437148 -0.0300031\n",
            "   0.02194784]\n",
            " [ 0.02447081 -0.09815169 -0.01081846 ...  0.0650584  -0.02393684\n",
            "   0.02173337]]\n"
          ]
        }
      ]
    },
    {
      "cell_type": "code",
      "source": [],
      "metadata": {
        "id": "HPz3mnj_7A9Y"
      },
      "execution_count": null,
      "outputs": []
    },
    {
      "cell_type": "code",
      "source": [],
      "metadata": {
        "id": "nx7sQDTa7Ace"
      },
      "execution_count": null,
      "outputs": []
    }
  ]
}